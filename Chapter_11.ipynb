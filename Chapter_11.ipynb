{
 "cells": [
  {
   "cell_type": "markdown",
   "id": "11874efd",
   "metadata": {},
   "source": [
    "## Dictionaries \n",
    "\n",
    "- Dictionaries are like list; however, they comprimise of a key and value pair, and you can only access a value through its defined key\n",
    "\n",
    "- Dictionaries can feature various data types \n",
    "\n",
    "- The values of dictionaries are mutable but the keys aren't\n",
    "\n",
    "- We create dictonaries with the wiggly square brackets -- {}\n",
    "\n",
    "\n"
   ]
  },
  {
   "cell_type": "code",
   "execution_count": 6,
   "id": "7e7157ad",
   "metadata": {},
   "outputs": [],
   "source": [
    "eng2sp= dict()"
   ]
  },
  {
   "cell_type": "code",
   "execution_count": 9,
   "id": "96e72976",
   "metadata": {},
   "outputs": [
    {
     "data": {
      "text/plain": [
       "dict_keys(['one', 'two'])"
      ]
     },
     "execution_count": 9,
     "metadata": {},
     "output_type": "execute_result"
    }
   ],
   "source": [
    "eng2sp.keys()"
   ]
  },
  {
   "cell_type": "code",
   "execution_count": 10,
   "id": "3fb83594",
   "metadata": {},
   "outputs": [
    {
     "data": {
      "text/plain": [
       "2"
      ]
     },
     "execution_count": 10,
     "metadata": {},
     "output_type": "execute_result"
    }
   ],
   "source": [
    "len(eng2sp)"
   ]
  },
  {
   "cell_type": "markdown",
   "id": "5571d79f",
   "metadata": {},
   "source": [
    "## Using Dictionary As A Collection of Counters"
   ]
  },
  {
   "cell_type": "markdown",
   "id": "3dfdd7fb",
   "metadata": {},
   "source": [
    "-  You could create a dictionary with characters as keys and counters as the corresponding values. The first time you see a character, you would add an item to the\n",
    "dictionary. After that you would increment the value of an existing item.\n",
    "\n",
    "- The advantage with dictionaries is that you do not need to know the keys and value ahead of time, we could add the keys as in when they come in and then increase their values if necessary"
   ]
  },
  {
   "cell_type": "code",
   "execution_count": 15,
   "id": "2ba945bb",
   "metadata": {},
   "outputs": [],
   "source": [
    "## writing a program for the above\n",
    "\n",
    "def histogram(s):\n",
    "    d= dict()\n",
    "    for c in s:\n",
    "        if c not in d:\n",
    "            d[c]= 1\n",
    "        else:\n",
    "            d[c] +=1\n",
    "    return d"
   ]
  },
  {
   "cell_type": "code",
   "execution_count": 19,
   "id": "18614a75",
   "metadata": {},
   "outputs": [],
   "source": [
    "hist= histogram(\"bombomlimbobo\")"
   ]
  },
  {
   "cell_type": "code",
   "execution_count": 20,
   "id": "f03b2fa3",
   "metadata": {},
   "outputs": [
    {
     "data": {
      "text/plain": [
       "{'b': 4, 'o': 4, 'm': 3, 'l': 1, 'i': 1}"
      ]
     },
     "execution_count": 20,
     "metadata": {},
     "output_type": "execute_result"
    }
   ],
   "source": [
    "hist"
   ]
  },
  {
   "cell_type": "code",
   "execution_count": 24,
   "id": "d20b835c",
   "metadata": {},
   "outputs": [
    {
     "data": {
      "text/plain": [
       "2"
      ]
     },
     "execution_count": 24,
     "metadata": {},
     "output_type": "execute_result"
    }
   ],
   "source": [
    "hist.get('k',2)"
   ]
  },
  {
   "cell_type": "code",
   "execution_count": 25,
   "id": "ff5a2c6a",
   "metadata": {},
   "outputs": [
    {
     "data": {
      "text/plain": [
       "{'b': 4, 'o': 4, 'm': 3, 'l': 1, 'i': 1}"
      ]
     },
     "execution_count": 25,
     "metadata": {},
     "output_type": "execute_result"
    }
   ],
   "source": [
    "hist"
   ]
  },
  {
   "cell_type": "markdown",
   "id": "ecdde353",
   "metadata": {},
   "source": [
    "## Looping and Dictionaries\n",
    "\n",
    "- When you traverse a dictionary, you get the keys \n",
    "\n",
    "- But we can access the values by indexing each key"
   ]
  },
  {
   "cell_type": "code",
   "execution_count": 34,
   "id": "24097aad",
   "metadata": {},
   "outputs": [
    {
     "name": "stdout",
     "output_type": "stream",
     "text": [
      "b 4\n",
      "o 4\n",
      "m 3\n",
      "l 1\n",
      "i 1\n"
     ]
    }
   ],
   "source": [
    "for i in hist:\n",
    "    print(i, hist[i])"
   ]
  },
  {
   "cell_type": "markdown",
   "id": "e9d1a85e",
   "metadata": {},
   "source": [
    "## Reverse Lookup \n",
    "\n",
    "- It is easy for us to find the values given the keys, but what if we have the value how do we find the key?\n",
    "\n",
    "- Finding the values given the keys is known as lookup and finding the keys given the value is known as reverse lookup \n",
    "\n",
    "- In this section, we will write a code for that\n"
   ]
  },
  {
   "cell_type": "code",
   "execution_count": 48,
   "id": "b3c2bbbd",
   "metadata": {},
   "outputs": [
    {
     "data": {
      "text/plain": [
       "{'b': 4, 'o': 4, 'm': 3, 'l': 1, 'i': 1}"
      ]
     },
     "execution_count": 48,
     "metadata": {},
     "output_type": "execute_result"
    }
   ],
   "source": [
    "hist"
   ]
  },
  {
   "cell_type": "code",
   "execution_count": 43,
   "id": "31d0a5cf",
   "metadata": {},
   "outputs": [],
   "source": [
    "def reverse_lookup(v,d):\n",
    "    for k in d:\n",
    "        if d[k]== v:\n",
    "            return k\n",
    "    raise LookupError(\"You inputted a value that isn't in the range\")"
   ]
  },
  {
   "cell_type": "code",
   "execution_count": 42,
   "id": "4179cf76",
   "metadata": {},
   "outputs": [
    {
     "data": {
      "text/plain": [
       "'b'"
      ]
     },
     "execution_count": 42,
     "metadata": {},
     "output_type": "execute_result"
    }
   ],
   "source": [
    "reverse_lookup(4, hist)"
   ]
  },
  {
   "cell_type": "markdown",
   "id": "a83b266c",
   "metadata": {},
   "source": [
    "## Dictionaries and Lists\n",
    "\n",
    "- We can have lists as values in a dictionary not as key \n",
    "\n",
    "- This can help us write some clean code if we have a bunch of values that link to the same key and we want to organize them\n"
   ]
  },
  {
   "cell_type": "code",
   "execution_count": null,
   "id": "9f8c3606",
   "metadata": {},
   "outputs": [],
   "source": [
    "## Assuming we have alphabets as keys and each has frequncy. If we want to invert this and have the frequncies mapping to each key. There might be an issue of some alphabets having the same frequency"
   ]
  },
  {
   "cell_type": "code",
   "execution_count": 72,
   "id": "4b6f155a",
   "metadata": {},
   "outputs": [],
   "source": [
    "def invert_dict(d):\n",
    "    new_dict= dict()\n",
    "    for key in d:\n",
    "        val= d[key]\n",
    "        if val not in new_dict:\n",
    "            new_dict[val]= [key]\n",
    "        else:\n",
    "            new_dict[val].append(key)\n",
    "    return new_dict\n",
    "\n",
    "        \n"
   ]
  },
  {
   "cell_type": "code",
   "execution_count": 73,
   "id": "02058728",
   "metadata": {},
   "outputs": [
    {
     "data": {
      "text/plain": [
       "{4: ['b', 'o'], 3: ['m'], 1: ['l', 'i']}"
      ]
     },
     "execution_count": 73,
     "metadata": {},
     "output_type": "execute_result"
    }
   ],
   "source": [
    "invert_dict(hist)\n"
   ]
  },
  {
   "cell_type": "markdown",
   "id": "89e6b6ca",
   "metadata": {},
   "source": [
    "## Hashing\n",
    "\n",
    "- This has to do with taking in any data type and returning an integer \n",
    "\n",
    "- Hash functions rely on the input staying constant. If a mutable object (like a list or dictionary) were used as a hash key and then later modified, the hash value would no longer be valid or consistent.\n",
    "\n",
    "- Immutable types (like strings, tuples, or integers) ensure that the value—and therefore the hash—doesn’t change over time. This preserves data integrity in hash-based structures like dictionaries and sets.\n",
    "\n",
    "- If mutable types were allowed as keys and were changed after being hashed, it would lead to ambiguity or inability to retrieve the item, since the key's hash would no longer match."
   ]
  },
  {
   "cell_type": "markdown",
   "id": "f1426666",
   "metadata": {},
   "source": [
    "## Global Values\n",
    "\n",
    "- These are values that live outside a function\n",
    "\n",
    "- We can add remove or replace elements in mutable global values without declearning it; however, to reassign the variable, we need to declare it using the `Global` keyword"
   ]
  },
  {
   "cell_type": "markdown",
   "id": "c62ec812",
   "metadata": {},
   "source": [
    "## Exercise: "
   ]
  },
  {
   "cell_type": "markdown",
   "id": "eb11d18b",
   "metadata": {},
   "source": [
    "If you did Exercise 10-7, you already have a function named has_duplicates that\n",
    "takes a list as a parameter and returns True if there is any object that appears more\n",
    "than once in the list.\n",
    "Use a dictionary to write a faster, simpler version of has_duplicates."
   ]
  },
  {
   "cell_type": "code",
   "execution_count": 96,
   "id": "7322f74c",
   "metadata": {},
   "outputs": [],
   "source": [
    "def has_duplicates(a):\n",
    "    l1=[]\n",
    "    for item in a:\n",
    "        if item in l1:\n",
    "            return True\n",
    "        l1.append(item)    \n",
    "    return False\n",
    "            "
   ]
  },
  {
   "cell_type": "code",
   "execution_count": 97,
   "id": "a37d8623",
   "metadata": {},
   "outputs": [],
   "source": [
    "def has_duplicates_dict(a):\n",
    "\n",
    "    d= dict()\n",
    "    for k in a:\n",
    "        if k not in d:\n",
    "            d[k]=1\n",
    "        else:\n",
    "            return True"
   ]
  },
  {
   "cell_type": "code",
   "execution_count": 98,
   "id": "26cbc883",
   "metadata": {},
   "outputs": [],
   "source": [
    "import time"
   ]
  },
  {
   "cell_type": "code",
   "execution_count": 99,
   "id": "95af47a8",
   "metadata": {},
   "outputs": [],
   "source": [
    "time= time.time()"
   ]
  },
  {
   "cell_type": "code",
   "execution_count": 106,
   "id": "8e0c48d5",
   "metadata": {},
   "outputs": [],
   "source": [
    "import random\n",
    "\n",
    "lst = [random.randint(1, 5000) for _ in range(10000)]"
   ]
  },
  {
   "cell_type": "code",
   "execution_count": 107,
   "id": "4cda15a8",
   "metadata": {},
   "outputs": [
    {
     "name": "stdout",
     "output_type": "stream",
     "text": [
      "10.4 μs ± 115 ns per loop (mean ± std. dev. of 7 runs, 100,000 loops each)\n"
     ]
    }
   ],
   "source": [
    "%%timeit\n",
    "has_duplicates(lst)"
   ]
  },
  {
   "cell_type": "code",
   "execution_count": 108,
   "id": "a1de7724",
   "metadata": {},
   "outputs": [
    {
     "name": "stdout",
     "output_type": "stream",
     "text": [
      "1.95 μs ± 22.7 ns per loop (mean ± std. dev. of 7 runs, 1,000,000 loops each)\n"
     ]
    }
   ],
   "source": [
    "%%timeit\n",
    "has_duplicates_dict(lst)"
   ]
  },
  {
   "cell_type": "markdown",
   "id": "06846c54",
   "metadata": {},
   "source": [
    "- Therefore the dictionary method is faster"
   ]
  },
  {
   "cell_type": "code",
   "execution_count": null,
   "id": "6274ace7",
   "metadata": {},
   "outputs": [],
   "source": []
  }
 ],
 "metadata": {
  "kernelspec": {
   "display_name": ".venv",
   "language": "python",
   "name": "python3"
  },
  "language_info": {
   "codemirror_mode": {
    "name": "ipython",
    "version": 3
   },
   "file_extension": ".py",
   "mimetype": "text/x-python",
   "name": "python",
   "nbconvert_exporter": "python",
   "pygments_lexer": "ipython3",
   "version": "3.12.5"
  }
 },
 "nbformat": 4,
 "nbformat_minor": 5
}
