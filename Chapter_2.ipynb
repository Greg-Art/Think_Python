{
 "cells": [
  {
   "cell_type": "markdown",
   "id": "bb2bedeb",
   "metadata": {},
   "source": [
    "### Variables, Expressions and Statements"
   ]
  },
  {
   "cell_type": "markdown",
   "id": "a76ce8d3",
   "metadata": {},
   "source": [
    "## 1. Variables "
   ]
  },
  {
   "cell_type": "markdown",
   "id": "29de3c35",
   "metadata": {},
   "source": [
    "- Variable: A variable is a name that refers to a value \n",
    "    - Variables can be as long as you like \n",
    "    - They can start with letters \n",
    "    - You cannot start with a number \n",
    "    - It is preferable to begin variable names with lowercases \n",
    "    - Use an underscore (_) to breakdown the names of variables \n",
    "    - You cannot use keywords are variable names \n",
    "    - And you cannot use illegal characters such as @ in your variable name"
   ]
  },
  {
   "cell_type": "markdown",
   "id": "c7171266",
   "metadata": {},
   "source": [
    "## 2. Expressions and Statements "
   ]
  },
  {
   "cell_type": "markdown",
   "id": "a7e27b73",
   "metadata": {},
   "source": [
    "- An expression is a collection of values, variables and operators \n",
    "- A statement is a unit of code that can perform an action and store variables \n",
    "\n",
    "e.g: \n",
    "\n",
    "- 5+2 is an expresion\n",
    "- n= 5+2 is a statement "
   ]
  },
  {
   "cell_type": "markdown",
   "id": "b1b34b1b",
   "metadata": {},
   "source": [
    "## 3. Order of Operations "
   ]
  },
  {
   "cell_type": "markdown",
   "id": "4d1e2aec",
   "metadata": {},
   "source": [
    "PEDMAS:\n",
    "\n",
    "- Paranthesis \n",
    "- Exponents \n",
    "- Division \n",
    "- Multiplication\n",
    "- Addition\n",
    "- Substraction\n",
    "\n",
    "Basically the idea of this section was just to highlight how python will perform calculations. "
   ]
  },
  {
   "cell_type": "markdown",
   "id": "988a0c7b",
   "metadata": {},
   "source": [
    "### 4. String Operations \n",
    "\n",
    "- This section highlights some operations we can perform on strings\n",
    "- We can add two strings together (concactnate them)\n",
    "- multiply them by an integer "
   ]
  },
  {
   "cell_type": "code",
   "execution_count": 3,
   "id": "c08c5ce2",
   "metadata": {},
   "outputs": [
    {
     "name": "stdout",
     "output_type": "stream",
     "text": [
      "throatwarbler\n",
      "throat warbler\n"
     ]
    }
   ],
   "source": [
    "first= \"throat\"\n",
    "second= \"warbler\"\n",
    "\n",
    "print(first + second)\n",
    "\n",
    "print(first +\" \"+ second)"
   ]
  },
  {
   "cell_type": "code",
   "execution_count": 7,
   "id": "50d28452",
   "metadata": {},
   "outputs": [
    {
     "data": {
      "text/plain": [
       "'throatthroatthroatthroat'"
      ]
     },
     "execution_count": 7,
     "metadata": {},
     "output_type": "execute_result"
    }
   ],
   "source": [
    "first * 4"
   ]
  },
  {
   "cell_type": "markdown",
   "id": "d4d288ee",
   "metadata": {},
   "source": [
    "### 5. Debugging \n",
    "\n",
    "- This section highlighted the three most common errors one will encounter:\n",
    "\n",
    "\n",
    "- **Syntax Error**: This refers to errors that are raised when there is an issue with the structure and rules of the structure of the program. \n",
    "\n",
    "- **Runtime Error**: This error occurs when something exceptional and bad has happened and doesn't happen until a program is run\n",
    "\n",
    "- **Senmantic Error:** This error occurs if there is an issue with th meaning of the code. The code will run but not do the right thing"
   ]
  },
  {
   "cell_type": "markdown",
   "id": "702ee243",
   "metadata": {},
   "source": [
    "### Exercises "
   ]
  },
  {
   "cell_type": "code",
   "execution_count": null,
   "id": "525f33a3",
   "metadata": {},
   "outputs": [],
   "source": []
  },
  {
   "cell_type": "code",
   "execution_count": null,
   "id": "4e0e7cc4",
   "metadata": {},
   "outputs": [],
   "source": [
    "## in this exercise, the author wanted us to try to see what happens when we assign multiple variables to a single value basically \n",
    "x=y=1"
   ]
  },
  {
   "cell_type": "code",
   "execution_count": null,
   "id": "0db30042",
   "metadata": {},
   "outputs": [
    {
     "data": {
      "text/plain": [
       "4358758984"
      ]
     },
     "execution_count": 14,
     "metadata": {},
     "output_type": "execute_result"
    }
   ],
   "source": [
    "id(y) ##checking the memory location"
   ]
  },
  {
   "cell_type": "code",
   "execution_count": null,
   "id": "cb06a861",
   "metadata": {},
   "outputs": [
    {
     "data": {
      "text/plain": [
       "4358758984"
      ]
     },
     "execution_count": 15,
     "metadata": {},
     "output_type": "execute_result"
    }
   ],
   "source": [
    "id(x) ##checking the memory location"
   ]
  },
  {
   "cell_type": "code",
   "execution_count": 28,
   "id": "2c2890ea",
   "metadata": {},
   "outputs": [],
   "source": [
    "d= 200000"
   ]
  },
  {
   "cell_type": "code",
   "execution_count": 29,
   "id": "054a08a9",
   "metadata": {},
   "outputs": [],
   "source": [
    "t= 200000"
   ]
  },
  {
   "cell_type": "code",
   "execution_count": null,
   "id": "7708f9e3",
   "metadata": {},
   "outputs": [
    {
     "name": "stdout",
     "output_type": "stream",
     "text": [
      "0x10a3fa970 0x10a3f9910\n"
     ]
    }
   ],
   "source": [
    "print(hex(id(t)), hex(id(d))) ##checeking the hexidecimal memory location of the values "
   ]
  },
  {
   "cell_type": "markdown",
   "id": "74588c1a",
   "metadata": {},
   "source": [
    "-  The volume of a sphere with radius r is 4 3 πr3. What is the volume of a sphere with radius 5?"
   ]
  },
  {
   "cell_type": "code",
   "execution_count": 35,
   "id": "e947a90f",
   "metadata": {},
   "outputs": [
    {
     "name": "stdout",
     "output_type": "stream",
     "text": [
      "The volume of the sphere is 523.599\n"
     ]
    }
   ],
   "source": [
    "volume_r5= 4/3* 3.141592 * 5**3\n",
    "\n",
    "print(f\"The volume of the sphere is {round(volume_r5, 3)}\")"
   ]
  },
  {
   "cell_type": "code",
   "execution_count": null,
   "id": "03d155ac",
   "metadata": {},
   "outputs": [],
   "source": []
  },
  {
   "cell_type": "markdown",
   "id": "6e063898",
   "metadata": {},
   "source": []
  }
 ],
 "metadata": {
  "kernelspec": {
   "display_name": ".venv",
   "language": "python",
   "name": "python3"
  },
  "language_info": {
   "codemirror_mode": {
    "name": "ipython",
    "version": 3
   },
   "file_extension": ".py",
   "mimetype": "text/x-python",
   "name": "python",
   "nbconvert_exporter": "python",
   "pygments_lexer": "ipython3",
   "version": "3.12.5"
  }
 },
 "nbformat": 4,
 "nbformat_minor": 5
}
