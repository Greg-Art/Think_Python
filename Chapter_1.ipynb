{
 "cells": [
  {
   "cell_type": "markdown",
   "id": "0ceec5fc",
   "metadata": {},
   "source": [
    "- This first chapter titled **\"The Way of the Program\"** highlights how programming helps you with your problem solving skills. \n",
    "\n",
    "- In every programming language, some basic instructions appear across, such as: \n",
    "\n",
    "    - **Input:**  Getting data \n",
    "    - **Output:** Displaying data, sending data over a network, e.t.c\n",
    "    - **Math:** Performing basic math operations \n",
    "    - **Conditional Execution:** Checking for a certain condition before running the appopiriate code\n",
    "    - **Repetition:**: Performing an action repeatedly"
   ]
  },
  {
   "cell_type": "code",
   "execution_count": 2,
   "id": "3fa21d39",
   "metadata": {},
   "outputs": [
    {
     "name": "stdout",
     "output_type": "stream",
     "text": [
      "Hello World\n"
     ]
    }
   ],
   "source": [
    "print(\"Hello World\")"
   ]
  },
  {
   "cell_type": "code",
   "execution_count": null,
   "id": "db1f595f",
   "metadata": {},
   "outputs": [
    {
     "name": "stdout",
     "output_type": "stream",
     "text": [
      "42 42.0 40 12 8\n"
     ]
    }
   ],
   "source": [
    "## arithmetic Operations\n",
    "\n",
    "##addition, division, substraction, multiplication, exponents\n",
    "\n",
    "print(40+2, 84/2, 41-1, 2*6, 2**3)"
   ]
  },
  {
   "cell_type": "code",
   "execution_count": 7,
   "id": "5e2946de",
   "metadata": {},
   "outputs": [],
   "source": [
    "## 42.0 is a float value \n",
    "## 42 is an int value \n",
    "## Hello World is a string value "
   ]
  },
  {
   "cell_type": "markdown",
   "id": "197b4c57",
   "metadata": {},
   "source": [
    "## values and types \n",
    "\n",
    "- A value is a letter or a number a program works with \n",
    "\n",
    "- Types is the categorization of each value: int, float, and str"
   ]
  },
  {
   "cell_type": "markdown",
   "id": "2ecdbcc5",
   "metadata": {},
   "source": [
    "### Formal vs Natural Languages "
   ]
  },
  {
   "cell_type": "markdown",
   "id": "b99e4d7b",
   "metadata": {},
   "source": []
  },
  {
   "cell_type": "markdown",
   "id": "5ff2a2e0",
   "metadata": {},
   "source": [
    "- Natural Languages are languages people speak  e.g: French, English, ETC\n",
    "\n",
    "- Formal Languages are languages designed to be used for a specific situation or application. E.g: Programming language\n",
    "\n",
    "    - Formal Languages tend to have Syntax, which comes in two forms:\n",
    "        - Tokens: These are the symbols, words, and numbers one can use in the language \n",
    "        - Structure: This determines how we can use these tokens\n",
    "\n",
    "    - In summary, there are certain elements we can use in programming and even though we can use these elements, there is a specific way to use these"
   ]
  },
  {
   "cell_type": "markdown",
   "id": "4263569f",
   "metadata": {},
   "source": [
    "### Exercises \n",
    "\n",
    "- I will just try out some examples and then move on to the next "
   ]
  },
  {
   "cell_type": "markdown",
   "id": "92b88012",
   "metadata": {},
   "source": [
    "1. In a print statement, what happens if you leave out one of the parentheses, or\n",
    "2. both?"
   ]
  },
  {
   "cell_type": "code",
   "execution_count": 12,
   "id": "e35e49e2",
   "metadata": {},
   "outputs": [
    {
     "ename": "SyntaxError",
     "evalue": "incomplete input (1647630127.py, line 1)",
     "output_type": "error",
     "traceback": [
      "  \u001b[36mCell\u001b[39m\u001b[36m \u001b[39m\u001b[32mIn[12]\u001b[39m\u001b[32m, line 1\u001b[39m\n\u001b[31m    \u001b[39m\u001b[31mprint(\"Hello\"\u001b[39m\n                 ^\n\u001b[31mSyntaxError\u001b[39m\u001b[31m:\u001b[39m incomplete input\n"
     ]
    }
   ],
   "source": [
    "print(\"Hello\""
   ]
  },
  {
   "cell_type": "code",
   "execution_count": 13,
   "id": "b1dd5574",
   "metadata": {},
   "outputs": [
    {
     "ename": "SyntaxError",
     "evalue": "Missing parentheses in call to 'print'. Did you mean print(...)? (888425938.py, line 1)",
     "output_type": "error",
     "traceback": [
      "  \u001b[36mCell\u001b[39m\u001b[36m \u001b[39m\u001b[32mIn[13]\u001b[39m\u001b[32m, line 1\u001b[39m\n\u001b[31m    \u001b[39m\u001b[31mprint\"Hello\"\u001b[39m\n    ^\n\u001b[31mSyntaxError\u001b[39m\u001b[31m:\u001b[39m Missing parentheses in call to 'print'. Did you mean print(...)?\n"
     ]
    }
   ],
   "source": [
    "print\"Hello\""
   ]
  },
  {
   "cell_type": "markdown",
   "id": "26d19f12",
   "metadata": {},
   "source": [
    "1. How many seconds are there in 42 minutes 42 seconds?\n",
    "\n"
   ]
  },
  {
   "cell_type": "code",
   "execution_count": 15,
   "id": "93729658",
   "metadata": {},
   "outputs": [
    {
     "name": "stdout",
     "output_type": "stream",
     "text": [
      "The total time of 42 mins 42 seconds in seconds is 2562 seconds\n"
     ]
    }
   ],
   "source": [
    "seconds= 42\n",
    "forty_two_2_Seconds= 42 *60 \n",
    "\n",
    "print(f\"The total time of 42 mins 42 seconds in seconds is {seconds+forty_two_2_Seconds} seconds\")"
   ]
  },
  {
   "cell_type": "code",
   "execution_count": null,
   "id": "7ff609f9",
   "metadata": {},
   "outputs": [],
   "source": []
  }
 ],
 "metadata": {
  "kernelspec": {
   "display_name": ".venv",
   "language": "python",
   "name": "python3"
  },
  "language_info": {
   "codemirror_mode": {
    "name": "ipython",
    "version": 3
   },
   "file_extension": ".py",
   "mimetype": "text/x-python",
   "name": "python",
   "nbconvert_exporter": "python",
   "pygments_lexer": "ipython3",
   "version": "3.12.5"
  }
 },
 "nbformat": 4,
 "nbformat_minor": 5
}
