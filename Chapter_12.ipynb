{
 "cells": [
  {
   "cell_type": "markdown",
   "id": "2fe01ed6",
   "metadata": {},
   "source": [
    "# Tuples \n",
    "\n",
    "- tuples are sequence of values that are immutable \n",
    "\n",
    "- tuples can be indexed by an integer \n",
    "\n",
    "- They are comma separated values that can be enclosed with a bracket \n",
    "\n",
    "- Enclosing it in a bracket doesn't necessarily make it a tuple, but the comma separation does \n",
    "\n"
   ]
  },
  {
   "cell_type": "markdown",
   "id": "579701cd",
   "metadata": {},
   "source": [
    "### Creating a tuple"
   ]
  },
  {
   "cell_type": "code",
   "execution_count": 1,
   "id": "9d25e0ce",
   "metadata": {},
   "outputs": [],
   "source": [
    "t1= 2,3,4,5"
   ]
  },
  {
   "cell_type": "code",
   "execution_count": 2,
   "id": "48be83e6",
   "metadata": {},
   "outputs": [
    {
     "data": {
      "text/plain": [
       "tuple"
      ]
     },
     "execution_count": 2,
     "metadata": {},
     "output_type": "execute_result"
    }
   ],
   "source": [
    "type(t1)"
   ]
  },
  {
   "cell_type": "code",
   "execution_count": 5,
   "id": "026fbdbf",
   "metadata": {},
   "outputs": [
    {
     "name": "stdout",
     "output_type": "stream",
     "text": [
      "<class 'int'>    <class 'tuple'>\n"
     ]
    }
   ],
   "source": [
    "t2= (2)\n",
    "\n",
    "t3= 3,\n",
    "\n",
    "print(type(t2), \"  \", type(t3))"
   ]
  },
  {
   "cell_type": "code",
   "execution_count": 8,
   "id": "bf3933e8",
   "metadata": {},
   "outputs": [
    {
     "name": "stdout",
     "output_type": "stream",
     "text": [
      "('J', 'a', 'm', 'e', 's') <class 'tuple'>\n"
     ]
    }
   ],
   "source": [
    "## Besides a comma separation, we can create a tuple with the tuple function\n",
    "\n",
    "\n",
    "t= tuple(\"James\")\n",
    "\n",
    "print(t, type(t))"
   ]
  },
  {
   "cell_type": "code",
   "execution_count": 17,
   "id": "0b936c73",
   "metadata": {},
   "outputs": [
    {
     "data": {
      "text/plain": [
       "'0x10db25bc0'"
      ]
     },
     "execution_count": 17,
     "metadata": {},
     "output_type": "execute_result"
    }
   ],
   "source": [
    "hex(id(t))"
   ]
  },
  {
   "cell_type": "code",
   "execution_count": 18,
   "id": "0c769973",
   "metadata": {},
   "outputs": [
    {
     "data": {
      "text/plain": [
       "('A', 'a')"
      ]
     },
     "execution_count": 18,
     "metadata": {},
     "output_type": "execute_result"
    }
   ],
   "source": [
    "t[0:2]"
   ]
  },
  {
   "cell_type": "code",
   "execution_count": 19,
   "id": "7086468d",
   "metadata": {},
   "outputs": [],
   "source": [
    "t= (\"A\",) + t[1:]"
   ]
  },
  {
   "cell_type": "code",
   "execution_count": 20,
   "id": "15f5df52",
   "metadata": {},
   "outputs": [
    {
     "data": {
      "text/plain": [
       "'0x10dbba840'"
      ]
     },
     "execution_count": 20,
     "metadata": {},
     "output_type": "execute_result"
    }
   ],
   "source": [
    "hex(id(t))"
   ]
  },
  {
   "cell_type": "markdown",
   "id": "222e5084",
   "metadata": {},
   "source": [
    "### Tuple Comparison Operator\n",
    "\n",
    "- When using an operator such as < between two tuples, each element is compared sequentially to find an option that meets the conditions, if the condition is met, the subsequent elements do not matter"
   ]
  },
  {
   "cell_type": "code",
   "execution_count": 22,
   "id": "ed490c67",
   "metadata": {},
   "outputs": [
    {
     "data": {
      "text/plain": [
       "True"
      ]
     },
     "execution_count": 22,
     "metadata": {},
     "output_type": "execute_result"
    }
   ],
   "source": [
    "(2,30000,4000) < (4,5,6)"
   ]
  },
  {
   "cell_type": "markdown",
   "id": "2f39f532",
   "metadata": {},
   "source": [
    "## Tuple Assignment \n",
    "\n",
    "- This section covers how tuples easily help us assign variables \n",
    "\n",
    "- Instead of reassigning variables, we can just say:\n",
    "\n",
    "    - a, b = b,a "
   ]
  },
  {
   "cell_type": "code",
   "execution_count": 26,
   "id": "bc8e9bd8",
   "metadata": {},
   "outputs": [
    {
     "name": "stdout",
     "output_type": "stream",
     "text": [
      "1\n",
      "2\n"
     ]
    }
   ],
   "source": [
    "a,b= 1,2 \n",
    "\n",
    "print(a)\n",
    "print(b)"
   ]
  },
  {
   "cell_type": "code",
   "execution_count": 28,
   "id": "cbac2e1d",
   "metadata": {},
   "outputs": [
    {
     "name": "stdout",
     "output_type": "stream",
     "text": [
      "monty python.org\n"
     ]
    }
   ],
   "source": [
    "addr= 'monty@python.org'\n",
    "\n",
    "uname, domain= addr.split('@')\n",
    "\n",
    "print(uname, domain)"
   ]
  },
  {
   "cell_type": "markdown",
   "id": "85cb3b7e",
   "metadata": {},
   "source": [
    "## Tuples as Return Values "
   ]
  },
  {
   "cell_type": "code",
   "execution_count": 32,
   "id": "2ebb2283",
   "metadata": {},
   "outputs": [
    {
     "data": {
      "text/plain": [
       "tuple"
      ]
     },
     "execution_count": 32,
     "metadata": {},
     "output_type": "execute_result"
    }
   ],
   "source": [
    "t= divmod(7,3)\n",
    "\n",
    "type((7,3))"
   ]
  },
  {
   "cell_type": "code",
   "execution_count": 33,
   "id": "ec9523c3",
   "metadata": {},
   "outputs": [],
   "source": [
    "qout, rem= divmod(7,3)"
   ]
  },
  {
   "cell_type": "code",
   "execution_count": 36,
   "id": "726df268",
   "metadata": {},
   "outputs": [
    {
     "name": "stdout",
     "output_type": "stream",
     "text": [
      "2 1\n"
     ]
    }
   ],
   "source": [
    "print(qout, rem)"
   ]
  },
  {
   "cell_type": "code",
   "execution_count": 37,
   "id": "ab4b2e28",
   "metadata": {},
   "outputs": [
    {
     "name": "stdout",
     "output_type": "stream",
     "text": [
      "2\n",
      "10\n"
     ]
    }
   ],
   "source": [
    "def min_max(t):\n",
    "    return min(t), max(t)\n",
    "\n",
    "\n",
    "\n",
    "min_value, max_value= min_max([2,3,4,5,6,7,9,10])\n",
    "\n",
    "print(min_value)\n",
    "print(max_value)"
   ]
  },
  {
   "cell_type": "markdown",
   "id": "94769a66",
   "metadata": {},
   "source": [
    "- In summary, Python functions can only return one value. However, we can have the function return a tuple, and then we unpack the tuple to get two values "
   ]
  },
  {
   "cell_type": "markdown",
   "id": "4f1a0eba",
   "metadata": {},
   "source": [
    "## Variable-Length Argument Tuples"
   ]
  },
  {
   "cell_type": "markdown",
   "id": "4dbf3651",
   "metadata": {},
   "source": [
    "- Normally, we can take in a specified variable number of arguments in python. However, in a case where we cannot specify, we can use the `* args` for that. \n",
    "\n",
    "- However, the above returns a tuple \n",
    "\n",
    "- We can use the `*args` to gather and we can also use `*` to scatter"
   ]
  },
  {
   "cell_type": "code",
   "execution_count": null,
   "id": "d0b04b31",
   "metadata": {},
   "outputs": [],
   "source": [
    "## for gathering, we are not limiting the total values the function can take in\n",
    "\n",
    "def printall(*args):\n",
    "    print(args)"
   ]
  },
  {
   "cell_type": "code",
   "execution_count": 41,
   "id": "0ef50153",
   "metadata": {},
   "outputs": [
    {
     "name": "stdout",
     "output_type": "stream",
     "text": [
      "('James', 'Kwaky', 'Yaw')\n"
     ]
    }
   ],
   "source": [
    "printall(\"James\", \"Kwaky\", \"Yaw\")"
   ]
  },
  {
   "cell_type": "code",
   "execution_count": null,
   "id": "64c3f515",
   "metadata": {},
   "outputs": [
    {
     "data": {
      "text/plain": [
       "(2, 1)"
      ]
     },
     "execution_count": 44,
     "metadata": {},
     "output_type": "execute_result"
    }
   ],
   "source": [
    "## for scatering, since divmod doesn't take in a tuple, we can scatter it\n",
    "\n",
    "t= (7,3)\n",
    "\n",
    "divmod(*t)"
   ]
  },
  {
   "cell_type": "markdown",
   "id": "f65373d1",
   "metadata": {},
   "source": [
    "## Lists and Tuples \n",
    "\n",
    "- One of the ways lists and tuples interact is through the zip function\n",
    "\n",
    "- The zip function iterates through the given values, and then returns the pair as a tuple \n",
    "\n",
    "- That being said, a zip is a **lazy iterator**. Hence, unless you explictly tell it to iterate over a given list, it won't, and it will give you just an address"
   ]
  },
  {
   "cell_type": "code",
   "execution_count": 46,
   "id": "d08ee29f",
   "metadata": {},
   "outputs": [
    {
     "data": {
      "text/plain": [
       "<zip at 0x10dc8ad80>"
      ]
     },
     "execution_count": 46,
     "metadata": {},
     "output_type": "execute_result"
    }
   ],
   "source": [
    "s= 'abc'\n",
    "\n",
    "t= [0,1,2]\n",
    "\n",
    "zip (s,t)"
   ]
  },
  {
   "cell_type": "code",
   "execution_count": 62,
   "id": "cc9ff7f4",
   "metadata": {},
   "outputs": [
    {
     "name": "stdout",
     "output_type": "stream",
     "text": [
      "('a', 0)\n",
      "('b', 1)\n",
      "('c', 2)\n"
     ]
    }
   ],
   "source": [
    "for i in zip(s,t):\n",
    "    print(i)"
   ]
  },
  {
   "cell_type": "markdown",
   "id": "2296026b",
   "metadata": {},
   "source": [
    "- As we can see the iteration, pairs each element from each variable, and returns the pair as a tuple \n",
    "\n",
    "- However, we cannot index these elements or use list operators. We can convert the zipped elements to a list to do this \n",
    "\n",
    "- That being said, a zip is a **lazy iterator**. Hence, unless you explictly tell it to iterate over a given list, it won't, and it will give you just an address"
   ]
  },
  {
   "cell_type": "code",
   "execution_count": 58,
   "id": "49b46f40",
   "metadata": {},
   "outputs": [
    {
     "data": {
      "text/plain": [
       "[('W', 'J'), ('i', 'a'), ('l', 'm'), ('l', 'e'), ('i', 's')]"
      ]
     },
     "execution_count": 58,
     "metadata": {},
     "output_type": "execute_result"
    }
   ],
   "source": [
    "James= list(zip('William', \"James\"))\n",
    "\n",
    "James"
   ]
  },
  {
   "cell_type": "markdown",
   "id": "c609dafb",
   "metadata": {},
   "source": [
    "- From this we can seem that the zip function truncates to match the length of the shortest value in the tuple. "
   ]
  },
  {
   "cell_type": "code",
   "execution_count": 63,
   "id": "3a691994",
   "metadata": {},
   "outputs": [],
   "source": [
    "## writing a function to detect similar object \n",
    "\n",
    "def similar (a,b):\n",
    "    for x,y in zip(a,b):\n",
    "        if x==y:\n",
    "            return True \n",
    "    return False "
   ]
  },
  {
   "cell_type": "code",
   "execution_count": 64,
   "id": "83b56050",
   "metadata": {},
   "outputs": [],
   "source": [
    "a= [2,3,4,5,6]\n",
    "\n",
    "b= [2,5,7,7,7]"
   ]
  },
  {
   "cell_type": "code",
   "execution_count": 65,
   "id": "4d8b59e1",
   "metadata": {},
   "outputs": [
    {
     "data": {
      "text/plain": [
       "True"
      ]
     },
     "execution_count": 65,
     "metadata": {},
     "output_type": "execute_result"
    }
   ],
   "source": [
    "similar(a,b)"
   ]
  },
  {
   "cell_type": "code",
   "execution_count": 66,
   "id": "4ca87fd9",
   "metadata": {},
   "outputs": [
    {
     "name": "stdout",
     "output_type": "stream",
     "text": [
      "0 a\n",
      "1 b\n",
      "2 c\n"
     ]
    }
   ],
   "source": [
    "## we can use the the enumerate function to traverse elements and their indices \n",
    "\n",
    "for index, element in enumerate('abc'):\n",
    "    print(index, element)"
   ]
  },
  {
   "cell_type": "markdown",
   "id": "929deec0",
   "metadata": {},
   "source": [
    "## Dictionary and Tuples \n",
    "\n",
    "- We can use the dict.items() to return a list of tuples of each key and value pair \n",
    "\n",
    "- We can also use tuples to create a dictionary \n",
    "\n",
    "- We can also combin a dict and zip to yield a dictionary"
   ]
  },
  {
   "cell_type": "code",
   "execution_count": null,
   "id": "4dd6fb7b",
   "metadata": {},
   "outputs": [
    {
     "name": "stdout",
     "output_type": "stream",
     "text": [
      "dict_items([('James', 1), ('Kwame', 2), ('Kwaku', 4)])\n"
     ]
    }
   ],
   "source": [
    "##converting a dictionary into a list of tuples \n",
    "\n",
    "d = {\"James\": 1, \"Kwame\": 2, \"Kwaku\": 4}\n",
    "\n",
    "print(d.items())"
   ]
  },
  {
   "cell_type": "code",
   "execution_count": 76,
   "id": "850f7d1b",
   "metadata": {},
   "outputs": [
    {
     "name": "stdout",
     "output_type": "stream",
     "text": [
      "James\n",
      "1\n",
      "Kwame\n",
      "2\n",
      "Kwaku\n",
      "4\n"
     ]
    }
   ],
   "source": [
    "for key, value in d.items():\n",
    "    print(key)\n",
    "    print(value)"
   ]
  },
  {
   "cell_type": "code",
   "execution_count": null,
   "id": "813916e9",
   "metadata": {},
   "outputs": [
    {
     "data": {
      "text/plain": [
       "{'James': 1, 'Kwame': 2, 'Kwaku': 4}"
      ]
     },
     "execution_count": 73,
     "metadata": {},
     "output_type": "execute_result"
    }
   ],
   "source": [
    "##converting a list of tuples in\n",
    "\n",
    "tups= [('James', 1), ('Kwame', 2), ('Kwaku', 4)]\n",
    "\n",
    "diccct= dict(tups)\n",
    "\n",
    "diccct"
   ]
  },
  {
   "cell_type": "code",
   "execution_count": 77,
   "id": "1bd10802",
   "metadata": {},
   "outputs": [],
   "source": [
    "##using zip \n",
    "\n",
    "d= dict(zip(\"abc\", range(3)))"
   ]
  },
  {
   "cell_type": "code",
   "execution_count": 78,
   "id": "0d7c5ff4",
   "metadata": {},
   "outputs": [
    {
     "data": {
      "text/plain": [
       "{'a': 0, 'b': 1, 'c': 2}"
      ]
     },
     "execution_count": 78,
     "metadata": {},
     "output_type": "execute_result"
    }
   ],
   "source": [
    "d"
   ]
  },
  {
   "cell_type": "markdown",
   "id": "c2dae326",
   "metadata": {},
   "source": [
    "## Sequences of Sequences \n",
    "\n",
    "We can have:\n",
    "\n",
    "- List of Tuples\t`[('A', 1), ('B', 2)]`\n",
    "- List of Lists\t`[[1, 2], [3, 4]]`\n",
    "- Tuple of Tuples\t`((1, 2), (3, 4))`\n",
    "- Tuple of Lists\t`([1, 2], [3, 4])`"
   ]
  },
  {
   "cell_type": "markdown",
   "id": "48eb09cd",
   "metadata": {},
   "source": [
    "### Cases to use Tuples: \n",
    "\n",
    "1. In some contexts, like a return statement, it is syntactically simpler to create a\n",
    "tuple than a list.\n",
    "2. If you want to use a sequence as a dictionary key, you have to use an immutable\n",
    "type like a tuple or string.\n",
    "3. If you are passing a sequence as an argument to a function, using tuples reduces\n",
    "the potential for unexpected behavior due to aliasing."
   ]
  },
  {
   "cell_type": "markdown",
   "id": "18eda973",
   "metadata": {},
   "source": [
    "## Exercise"
   ]
  },
  {
   "cell_type": "markdown",
   "id": "ffc961e4",
   "metadata": {},
   "source": [
    "Write a function called most_frequent that takes a string and prints the letters in\n",
    "decreasing order of frequency. Find text samples from several different languages and\n",
    "see how letter frequency varies between languages."
   ]
  },
  {
   "cell_type": "code",
   "execution_count": null,
   "id": "b089300e",
   "metadata": {},
   "outputs": [],
   "source": [
    "def most_frequent(*arg):\n",
    "    \n",
    "\n"
   ]
  }
 ],
 "metadata": {
  "kernelspec": {
   "display_name": ".venv",
   "language": "python",
   "name": "python3"
  },
  "language_info": {
   "codemirror_mode": {
    "name": "ipython",
    "version": 3
   },
   "file_extension": ".py",
   "mimetype": "text/x-python",
   "name": "python",
   "nbconvert_exporter": "python",
   "pygments_lexer": "ipython3",
   "version": "3.12.5"
  }
 },
 "nbformat": 4,
 "nbformat_minor": 5
}
