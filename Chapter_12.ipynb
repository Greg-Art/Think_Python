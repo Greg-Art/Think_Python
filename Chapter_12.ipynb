{
 "cells": [
  {
   "cell_type": "markdown",
   "id": "2fe01ed6",
   "metadata": {},
   "source": [
    "# Tuples \n",
    "\n",
    "- tuples are sequence of values that are immutable \n",
    "\n",
    "- tuples can be indexed by an integer \n",
    "\n",
    "- They are comma separated values that can be enclosed with a bracket \n",
    "\n",
    "- Enclosing it in a bracket doesn't necessarily make it a tuple, but the comma separation does \n",
    "\n"
   ]
  },
  {
   "cell_type": "markdown",
   "id": "579701cd",
   "metadata": {},
   "source": [
    "### Creating a tuple"
   ]
  },
  {
   "cell_type": "code",
   "execution_count": 1,
   "id": "9d25e0ce",
   "metadata": {},
   "outputs": [],
   "source": [
    "t1= 2,3,4,5"
   ]
  },
  {
   "cell_type": "code",
   "execution_count": 2,
   "id": "48be83e6",
   "metadata": {},
   "outputs": [
    {
     "data": {
      "text/plain": [
       "tuple"
      ]
     },
     "execution_count": 2,
     "metadata": {},
     "output_type": "execute_result"
    }
   ],
   "source": [
    "type(t1)"
   ]
  },
  {
   "cell_type": "code",
   "execution_count": 5,
   "id": "026fbdbf",
   "metadata": {},
   "outputs": [
    {
     "name": "stdout",
     "output_type": "stream",
     "text": [
      "<class 'int'>    <class 'tuple'>\n"
     ]
    }
   ],
   "source": [
    "t2= (2)\n",
    "\n",
    "t3= 3,\n",
    "\n",
    "print(type(t2), \"  \", type(t3))"
   ]
  },
  {
   "cell_type": "code",
   "execution_count": 8,
   "id": "bf3933e8",
   "metadata": {},
   "outputs": [
    {
     "name": "stdout",
     "output_type": "stream",
     "text": [
      "('J', 'a', 'm', 'e', 's') <class 'tuple'>\n"
     ]
    }
   ],
   "source": [
    "## Besides a comma separation, we can create a tuple with the tuple function\n",
    "\n",
    "\n",
    "t= tuple(\"James\")\n",
    "\n",
    "print(t, type(t))"
   ]
  },
  {
   "cell_type": "code",
   "execution_count": 17,
   "id": "0b936c73",
   "metadata": {},
   "outputs": [
    {
     "data": {
      "text/plain": [
       "'0x10db25bc0'"
      ]
     },
     "execution_count": 17,
     "metadata": {},
     "output_type": "execute_result"
    }
   ],
   "source": [
    "hex(id(t))"
   ]
  },
  {
   "cell_type": "code",
   "execution_count": 18,
   "id": "0c769973",
   "metadata": {},
   "outputs": [
    {
     "data": {
      "text/plain": [
       "('A', 'a')"
      ]
     },
     "execution_count": 18,
     "metadata": {},
     "output_type": "execute_result"
    }
   ],
   "source": [
    "t[0:2]"
   ]
  },
  {
   "cell_type": "code",
   "execution_count": 19,
   "id": "7086468d",
   "metadata": {},
   "outputs": [],
   "source": [
    "t= (\"A\",) + t[1:]"
   ]
  },
  {
   "cell_type": "code",
   "execution_count": 20,
   "id": "15f5df52",
   "metadata": {},
   "outputs": [
    {
     "data": {
      "text/plain": [
       "'0x10dbba840'"
      ]
     },
     "execution_count": 20,
     "metadata": {},
     "output_type": "execute_result"
    }
   ],
   "source": [
    "hex(id(t))"
   ]
  },
  {
   "cell_type": "markdown",
   "id": "222e5084",
   "metadata": {},
   "source": [
    "### Tuple Comparison Operator\n",
    "\n",
    "- When using an operator such as < between two tuples, each element is compared sequentially to find an option that meets the conditions, if the condition is met, the subsequent elements do not matter"
   ]
  },
  {
   "cell_type": "code",
   "execution_count": 22,
   "id": "ed490c67",
   "metadata": {},
   "outputs": [
    {
     "data": {
      "text/plain": [
       "True"
      ]
     },
     "execution_count": 22,
     "metadata": {},
     "output_type": "execute_result"
    }
   ],
   "source": [
    "(2,30000,4000) < (4,5,6)"
   ]
  },
  {
   "cell_type": "markdown",
   "id": "2f39f532",
   "metadata": {},
   "source": [
    "## Tuple Assignment \n",
    "\n",
    "- This section covers how tuples easily help us assign variables \n",
    "\n",
    "- Instead of reassigning variables, we can just say:\n",
    "\n",
    "    - a, b = b,a "
   ]
  },
  {
   "cell_type": "code",
   "execution_count": 26,
   "id": "bc8e9bd8",
   "metadata": {},
   "outputs": [
    {
     "name": "stdout",
     "output_type": "stream",
     "text": [
      "1\n",
      "2\n"
     ]
    }
   ],
   "source": [
    "a,b= 1,2 \n",
    "\n",
    "print(a)\n",
    "print(b)"
   ]
  },
  {
   "cell_type": "code",
   "execution_count": 28,
   "id": "cbac2e1d",
   "metadata": {},
   "outputs": [
    {
     "name": "stdout",
     "output_type": "stream",
     "text": [
      "monty python.org\n"
     ]
    }
   ],
   "source": [
    "addr= 'monty@python.org'\n",
    "\n",
    "uname, domain= addr.split('@')\n",
    "\n",
    "print(uname, domain)"
   ]
  },
  {
   "cell_type": "markdown",
   "id": "85cb3b7e",
   "metadata": {},
   "source": [
    "## Tuples as Return Values "
   ]
  },
  {
   "cell_type": "code",
   "execution_count": null,
   "id": "2ebb2283",
   "metadata": {},
   "outputs": [],
   "source": []
  },
  {
   "cell_type": "markdown",
   "id": "a264b8ba",
   "metadata": {},
   "source": []
  }
 ],
 "metadata": {
  "kernelspec": {
   "display_name": ".venv",
   "language": "python",
   "name": "python3"
  },
  "language_info": {
   "codemirror_mode": {
    "name": "ipython",
    "version": 3
   },
   "file_extension": ".py",
   "mimetype": "text/x-python",
   "name": "python",
   "nbconvert_exporter": "python",
   "pygments_lexer": "ipython3",
   "version": "3.12.5"
  }
 },
 "nbformat": 4,
 "nbformat_minor": 5
}
