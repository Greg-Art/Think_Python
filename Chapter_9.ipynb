{
 "cells": [
  {
   "cell_type": "markdown",
   "id": "49793d45",
   "metadata": {},
   "source": [
    "# Case Study: Word Play\n",
    "\n",
    "- I couldn't access the link in the book, so skipping to the next "
   ]
  },
  {
   "cell_type": "markdown",
   "id": "b21ec7a2",
   "metadata": {},
   "source": []
  }
 ],
 "metadata": {
  "kernelspec": {
   "display_name": ".venv",
   "language": "python",
   "name": "python3"
  },
  "language_info": {
   "name": "python",
   "version": "3.12.5"
  }
 },
 "nbformat": 4,
 "nbformat_minor": 5
}
