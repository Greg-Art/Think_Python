{
 "cells": [
  {
   "cell_type": "markdown",
   "id": "305611e4",
   "metadata": {},
   "source": [
    "# Files "
   ]
  },
  {
   "cell_type": "markdown",
   "id": "0128d1a8",
   "metadata": {},
   "source": [
    "## Persistent Program \n",
    "\n",
    "- These are programs that keep information running for a long time"
   ]
  },
  {
   "cell_type": "markdown",
   "id": "015265d1",
   "metadata": {},
   "source": [
    "## Reading and Writing  Text Files"
   ]
  },
  {
   "cell_type": "markdown",
   "id": "f1a6e157",
   "metadata": {},
   "source": [
    "### To create a new file, we use the code \n"
   ]
  },
  {
   "cell_type": "code",
   "execution_count": 12,
   "id": "9018b9a5",
   "metadata": {},
   "outputs": [],
   "source": [
    "\n",
    "fout= open('2024_state_of_the_union.txt', 'w')\n",
    "\n"
   ]
  },
  {
   "cell_type": "markdown",
   "id": "b321545d",
   "metadata": {},
   "source": [
    "#### Note:\n",
    "\n",
    "- The above code uses the write method to create a new file named `2024_state_of_the_union`.\n",
    "\n",
    "- If the file already exists, opening it in write mode will clear all the data  and starts afresh \n",
    "\n"
   ]
  },
  {
   "cell_type": "code",
   "execution_count": 13,
   "id": "ec667bfa",
   "metadata": {},
   "outputs": [
    {
     "data": {
      "text/plain": [
       "37"
      ]
     },
     "execution_count": 13,
     "metadata": {},
     "output_type": "execute_result"
    }
   ],
   "source": [
    "## to add data to your document, you can call the write method \n",
    "\n",
    "line1= \"Hello this is Greg's first writing, \\n\"\n",
    "\n",
    "fout.write(line1)"
   ]
  },
  {
   "cell_type": "code",
   "execution_count": 14,
   "id": "edc94ccd",
   "metadata": {},
   "outputs": [
    {
     "data": {
      "text/plain": [
       "39"
      ]
     },
     "execution_count": 14,
     "metadata": {},
     "output_type": "execute_result"
    }
   ],
   "source": [
    "line2= \"I am going to be a great AI engineer, \\n\"\n",
    "\n",
    "fout.write(line2)"
   ]
  },
  {
   "cell_type": "code",
   "execution_count": 15,
   "id": "0916ec33",
   "metadata": {},
   "outputs": [],
   "source": [
    "## when done, we close the file \n",
    "\n",
    "fout.close()\n",
    "\n"
   ]
  },
  {
   "cell_type": "markdown",
   "id": "23f849af",
   "metadata": {},
   "source": [
    "- You should see the above lines/sentences written after closing the program "
   ]
  },
  {
   "cell_type": "markdown",
   "id": "9d128f89",
   "metadata": {},
   "source": [
    "## Format Operator \n",
    "\n",
    "- - The write function only takes in a string. So for other data types such as integers, we need to use the str operation to convert them into strings.\n",
    "\n",
    "- One way to store values as strings is to use format operators. These serve as placeholders for a while range of values and data types.\n",
    "\n",
    "Some of the most common formatters include:\n",
    "\n",
    "- %d: Decimal integer  \n",
    "- %i: Integer (same as %d)  \n",
    "- %o: Octal integer (base 8)  \n",
    "- %x: Hexadecimal integer (base 16, lowercase)  \n",
    "- %f: Floating-point decimal (default six digits after decimal)  \n",
    "- %e: Floating-point scientific notation (lowercase “e”)  \n",
    "- %g: General floating-point (%f or %e, whichever is shorter)  \n",
    "- %s: String (uses str() on the object)  \n",
    "- %c: Single character (integer Unicode code point or one-char string)  \n",
    "- %%: Literal percent sign  \n",
    "\n",
    "\n",
    "These become a good way to dynamically fill in values in places where the values keep changing \n"
   ]
  },
  {
   "cell_type": "code",
   "execution_count": 16,
   "id": "942b1434",
   "metadata": {},
   "outputs": [],
   "source": [
    "fout= open('james.txt', 'w')"
   ]
  },
  {
   "cell_type": "code",
   "execution_count": 17,
   "id": "d7d7ee89",
   "metadata": {},
   "outputs": [],
   "source": [
    "value= 23782\n",
    "\n",
    "fout.write(str(value))\n",
    "\n",
    "fout.close()\n",
    "\n"
   ]
  },
  {
   "cell_type": "code",
   "execution_count": null,
   "id": "341f044c",
   "metadata": {},
   "outputs": [
    {
     "data": {
      "text/plain": [
       "'42'"
      ]
     },
     "execution_count": 25,
     "metadata": {},
     "output_type": "execute_result"
    }
   ],
   "source": [
    "## printing a single value as a string \n",
    "camels= 42 \n",
    "\n",
    "'%d' % camels"
   ]
  },
  {
   "cell_type": "code",
   "execution_count": 37,
   "id": "fde68507",
   "metadata": {},
   "outputs": [
    {
     "data": {
      "text/plain": [
       "'I have a total of 42 camels'"
      ]
     },
     "execution_count": 37,
     "metadata": {},
     "output_type": "execute_result"
    }
   ],
   "source": [
    "## utilizing the formatter operator in a sentence \n",
    "\n",
    "\"I have a total of %d camels\" % camels\n",
    "\n"
   ]
  },
  {
   "cell_type": "code",
   "execution_count": null,
   "id": "a5dfaa08",
   "metadata": {},
   "outputs": [
    {
     "data": {
      "text/plain": [
       "'In the year 2 there were around 3.6% of population growth in Ghana got camels'"
      ]
     },
     "execution_count": 36,
     "metadata": {},
     "output_type": "execute_result"
    }
   ],
   "source": [
    "### for two or more values, we want to use a tuple \n",
    "\n",
    "\"In the year %d there were around %g%% of population growth in Ghana got %s\" % (2, 3.6, 'camels')"
   ]
  },
  {
   "cell_type": "markdown",
   "id": "a619f37f",
   "metadata": {},
   "source": [
    "### Please note:\n",
    "\n",
    "- For multiple place holder values, the number of operators need to match the number of arguments \n",
    "\n",
    "- The order of the placeholder values in the string should match with the order of the formatter operator order\n",
    "\n",
    "- Also, ensure that the formmatter type is consistent with the data type of the arguments. Thus, %s should "
   ]
  },
  {
   "cell_type": "markdown",
   "id": "19ccc2c5",
   "metadata": {},
   "source": [
    "## Filenames and Paths \n",
    "\n",
    "- Files are organized into working directories \n",
    "\n",
    "- Every running program has a current directory. When you open a file for reading, Python looks for it in the current directory \n",
    "\n",
    "- We use the `OS` module provides functions for working with files and directories "
   ]
  },
  {
   "cell_type": "code",
   "execution_count": null,
   "id": "7dc38f87",
   "metadata": {},
   "outputs": [
    {
     "data": {
      "text/plain": [
       "'/Users/arthurkwakugregory/Desktop/Git_Repos/Think_Python'"
      ]
     },
     "execution_count": 39,
     "metadata": {},
     "output_type": "execute_result"
    }
   ],
   "source": [
    "## let's see how the OS works \n",
    "\n",
    "## we can use the getcwd function to get our current working directory\n",
    "\n",
    "import os \n",
    "\n",
    "cwd= os.getcwd()\n",
    "\n",
    "cwd\n",
    "\n",
    "## cwd is the current working directory "
   ]
  },
  {
   "cell_type": "markdown",
   "id": "b9ad6cb6",
   "metadata": {},
   "source": [
    "- Files like `james.txt` are also considered a path but they are relative paths as they relate to the current directory\n",
    "\n",
    "- Paths that begin with `/` doesn't depend on the current directory "
   ]
  },
  {
   "cell_type": "code",
   "execution_count": 41,
   "id": "b3427f4c",
   "metadata": {},
   "outputs": [
    {
     "data": {
      "text/plain": [
       "'/Users/arthurkwakugregory/Desktop/Git_Repos/Think_Python/james.txt'"
      ]
     },
     "execution_count": 41,
     "metadata": {},
     "output_type": "execute_result"
    }
   ],
   "source": [
    "##checking the absolute paths \n",
    "os.path.abspath(\"james.txt\")"
   ]
  },
  {
   "cell_type": "markdown",
   "id": "ef03d2b2",
   "metadata": {},
   "source": [
    "### Checking for files and directories "
   ]
  },
  {
   "cell_type": "code",
   "execution_count": 47,
   "id": "a5a86dd0",
   "metadata": {},
   "outputs": [
    {
     "name": "stdout",
     "output_type": "stream",
     "text": [
      "False\n",
      "True\n",
      "True\n"
     ]
    }
   ],
   "source": [
    "## checking for path \n",
    "## we can use a function to check if a path or a directory exist\n",
    "print(os.path.exists(\"memo.txt\"))\n",
    "print(os.path.exists(\"james.txt\"))\n",
    "print(os.path.exists(\"/Users/arthurkwakugregory\"))"
   ]
  },
  {
   "cell_type": "code",
   "execution_count": null,
   "id": "7d6dba58",
   "metadata": {},
   "outputs": [
    {
     "name": "stdout",
     "output_type": "stream",
     "text": [
      "False\n",
      "True\n"
     ]
    }
   ],
   "source": [
    "### Checking for directories os.path.isdir\n",
    "print(os.path.isdir(\"james.txt\")) ##this isn't a directory but a relative path or a file \n",
    "print(os.path.isdir(\"/Users/arthurkwakugregory\")) ##this is a directory "
   ]
  },
  {
   "cell_type": "code",
   "execution_count": 48,
   "id": "bdfdf6be",
   "metadata": {},
   "outputs": [
    {
     "name": "stdout",
     "output_type": "stream",
     "text": [
      "True\n",
      "False\n"
     ]
    }
   ],
   "source": [
    "## how to check for files we use the os.path.isfile\n",
    "\n",
    "print(os.path.isfile(\"james.txt\")) ##this is a file\n",
    "print(os.path.isfile(\"/Users/arthurkwakugregory\")) ##this is a directory "
   ]
  },
  {
   "cell_type": "code",
   "execution_count": null,
   "id": "24a9f0dc",
   "metadata": {},
   "outputs": [
    {
     "data": {
      "text/plain": [
       "['Chapter_16.ipynb',\n",
       " 'Chapter_7.ipynb',\n",
       " 'Chapter_5.ipynb',\n",
       " 'Chapter_14.ipynb',\n",
       " 'Chapter_10.ipynb',\n",
       " 'Chapter_1.ipynb',\n",
       " 'Requirements.txt',\n",
       " 'Chapter_3.ipynb',\n",
       " 'Chapter_12.ipynb',\n",
       " 'Chapter_4.ipynb',\n",
       " 'Chapter_15.ipynb',\n",
       " 'Chapter_17.ipynb',\n",
       " 'Chapter_6.ipynb',\n",
       " 'Chapter_2.ipynb',\n",
       " 'Chapter_11.ipynb',\n",
       " 'ReadMe.md',\n",
       " '.venv',\n",
       " '2024_state_of_the_union.txt',\n",
       " 'Chapter_8.ipynb',\n",
       " 'james.txt',\n",
       " '.git',\n",
       " 'Chapter_18.ipynb',\n",
       " 'Chapter_9.ipynb']"
      ]
     },
     "execution_count": 49,
     "metadata": {},
     "output_type": "execute_result"
    }
   ],
   "source": [
    "## we can list all the working directories and files within a directory with the following command\n",
    "os.listdir(cwd)"
   ]
  },
  {
   "cell_type": "markdown",
   "id": "0d49c4c8",
   "metadata": {},
   "source": [
    "## Catching Exceptions \n",
    "\n",
    "- This chapter teaches how one can handle errors \n",
    "\n",
    "- We can get an error if:\n",
    "\n",
    "    - We try to access a file that doesn't exist \n",
    "    - We try to access a file we do not have permission to access \n",
    "    - We try to open a directoy to read \n",
    "- We will be using the `try` and `except` statements to handle these "
   ]
  },
  {
   "cell_type": "code",
   "execution_count": 51,
   "id": "da6446e9",
   "metadata": {},
   "outputs": [],
   "source": [
    "## the code below access a file that isn't in the currect directory\n",
    "# fin= open('bad_file')"
   ]
  },
  {
   "cell_type": "code",
   "execution_count": 53,
   "id": "613d24b3",
   "metadata": {},
   "outputs": [],
   "source": [
    "##the code below is to open a file we do not have access to uncomment to rong \n",
    "# fout= open('/etc/passwd', 'w')"
   ]
  },
  {
   "cell_type": "code",
   "execution_count": 56,
   "id": "861a65e0",
   "metadata": {},
   "outputs": [],
   "source": [
    "## we can get an error is we try to open a directory\n",
    "\n",
    "#fin= open(\"/Users\")"
   ]
  },
  {
   "cell_type": "code",
   "execution_count": null,
   "id": "e8f5daa5",
   "metadata": {},
   "outputs": [
    {
     "name": "stdout",
     "output_type": "stream",
     "text": [
      "Something went wrong, this is file doesn't exist\n"
     ]
    }
   ],
   "source": [
    "## we can use the try and except statement to write a concise message describing the error \n",
    "\n",
    "try:\n",
    "    fin= open(\"bad_file\")\n",
    "except:\n",
    "    print(\"Something went wrong, this is file doesn't exist\")"
   ]
  },
  {
   "cell_type": "markdown",
   "id": "59a9b33a",
   "metadata": {},
   "source": [
    "## Databases \n",
    "\n",
    "- A database is a file that is used for storing persistent data \n",
    "\n",
    "- We can use the `dbm` module to create and update database file "
   ]
  },
  {
   "cell_type": "code",
   "execution_count": null,
   "id": "7df7506e",
   "metadata": {},
   "outputs": [],
   "source": [
    "import dbm \n",
    "\n",
    "db= dbm.open(\"Captions\", 'c')\n",
    "\n",
    "## c is for creating the database "
   ]
  },
  {
   "cell_type": "code",
   "execution_count": 61,
   "id": "97b26fd2",
   "metadata": {},
   "outputs": [],
   "source": [
    "## we can update our database by using the code \n",
    "\n",
    "db[\"Greg.png\"]= \"This is a photo of Greg\""
   ]
  },
  {
   "cell_type": "code",
   "execution_count": 62,
   "id": "0bab6bb1",
   "metadata": {},
   "outputs": [
    {
     "data": {
      "text/plain": [
       "b'This is a photo of Greg'"
      ]
     },
     "execution_count": 62,
     "metadata": {},
     "output_type": "execute_result"
    }
   ],
   "source": [
    "db[\"Greg.png\"]"
   ]
  },
  {
   "cell_type": "code",
   "execution_count": 63,
   "id": "760a227e",
   "metadata": {},
   "outputs": [],
   "source": [
    "##for closing the database \n",
    "db.close()"
   ]
  },
  {
   "cell_type": "markdown",
   "id": "1c642e50",
   "metadata": {},
   "source": [
    "## Pickling\n",
    "\n",
    "- DBM can only take numbers and strings, it cannot take in tuples and what not. \n",
    "\n",
    "- One of the ways to have DBM take in other data types is to use the `pickle` module\n",
    "\n",
    "- This converts every data type into a string version"
   ]
  },
  {
   "cell_type": "code",
   "execution_count": 78,
   "id": "180058d5",
   "metadata": {},
   "outputs": [],
   "source": [
    "import pickle \n",
    "\n",
    "## the idea is to store this list in byte-sized\n",
    "t= [1,2,3,4,5]"
   ]
  },
  {
   "cell_type": "code",
   "execution_count": 82,
   "id": "c76a7221",
   "metadata": {},
   "outputs": [
    {
     "name": "stdout",
     "output_type": "stream",
     "text": [
      "b'\\x80\\x04\\x95\\x0f\\x00\\x00\\x00\\x00\\x00\\x00\\x00]\\x94(K\\x01K\\x02K\\x03K\\x04K\\x05e.'\n"
     ]
    }
   ],
   "source": [
    "## we can use pickle.dups to convert it to a byte-size\n",
    "t1= pickle.dumps(t)\n",
    "\n",
    "print(t1)"
   ]
  },
  {
   "cell_type": "code",
   "execution_count": 83,
   "id": "ff299cd0",
   "metadata": {},
   "outputs": [
    {
     "name": "stdout",
     "output_type": "stream",
     "text": [
      "[1, 2, 3, 4, 5]\n"
     ]
    }
   ],
   "source": [
    "## we can convert the byte size back to a string \n",
    "t2= pickle.loads(t1)\n",
    "\n",
    "\n",
    "print(t2)"
   ]
  },
  {
   "cell_type": "code",
   "execution_count": 86,
   "id": "ff97ec04",
   "metadata": {},
   "outputs": [
    {
     "name": "stdout",
     "output_type": "stream",
     "text": [
      "False\n",
      "False\n"
     ]
    }
   ],
   "source": [
    "print(t1==t2)\n",
    "\n",
    "print(t1 is t2)\n"
   ]
  },
  {
   "cell_type": "markdown",
   "id": "665846d6",
   "metadata": {},
   "source": [
    "## Pipes \n",
    "\n",
    "- Operating systems allow us to access directories, files and open applications \n",
    "\n",
    "- We can also do this with pythong by using pipes"
   ]
  },
  {
   "cell_type": "code",
   "execution_count": null,
   "id": "cd8d4d74",
   "metadata": {},
   "outputs": [],
   "source": [
    "##here we are using popen to laucnh 'ls -l' which is a Unix command\n",
    "\n",
    "cmd= 'ls -l'\n",
    "\n",
    "fb= os.popen(cmd)"
   ]
  },
  {
   "cell_type": "code",
   "execution_count": 91,
   "id": "3eb9a826",
   "metadata": {},
   "outputs": [
    {
     "data": {
      "text/plain": [
       "''"
      ]
     },
     "execution_count": 91,
     "metadata": {},
     "output_type": "execute_result"
    }
   ],
   "source": [
    "res= fb.read()\n",
    "\n",
    "res"
   ]
  },
  {
   "cell_type": "markdown",
   "id": "19e8232c",
   "metadata": {},
   "source": [
    "## Writing Modules \n",
    "\n",
    "- This section focuses on how we can interact with other python modules9 (.py files )"
   ]
  },
  {
   "cell_type": "code",
   "execution_count": 98,
   "id": "54a5050b",
   "metadata": {},
   "outputs": [
    {
     "name": "stdout",
     "output_type": "stream",
     "text": [
      "5\n"
     ]
    }
   ],
   "source": [
    "## we are using the function linecount to count the number of lines in another file \n",
    "\n",
    "def linecount(filename):\n",
    "    count= 0\n",
    "    for line in open(filename):\n",
    "        count +=1\n",
    "    return count \n",
    "print(linecount('wc.py'))"
   ]
  },
  {
   "cell_type": "code",
   "execution_count": 95,
   "id": "c746c699",
   "metadata": {},
   "outputs": [],
   "source": [
    "import wc"
   ]
  },
  {
   "cell_type": "code",
   "execution_count": 100,
   "id": "b42a22f1",
   "metadata": {},
   "outputs": [
    {
     "name": "stdout",
     "output_type": "stream",
     "text": [
      "5\n"
     ]
    }
   ],
   "source": [
    "## the correct way to actually import programs as modules is \n",
    "\n",
    "if __name__=='__main__':\n",
    "    print(linecount('wc.py'))"
   ]
  },
  {
   "cell_type": "code",
   "execution_count": null,
   "id": "06a0bcbc",
   "metadata": {},
   "outputs": [],
   "source": [
    "## you can use repr to avoid whitespaces "
   ]
  },
  {
   "cell_type": "markdown",
   "id": "467bdb08",
   "metadata": {},
   "source": []
  }
 ],
 "metadata": {
  "kernelspec": {
   "display_name": ".venv",
   "language": "python",
   "name": "python3"
  },
  "language_info": {
   "codemirror_mode": {
    "name": "ipython",
    "version": 3
   },
   "file_extension": ".py",
   "mimetype": "text/x-python",
   "name": "python",
   "nbconvert_exporter": "python",
   "pygments_lexer": "ipython3",
   "version": "3.12.5"
  }
 },
 "nbformat": 4,
 "nbformat_minor": 5
}
