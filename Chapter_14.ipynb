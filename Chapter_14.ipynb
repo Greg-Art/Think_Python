{
 "cells": [
  {
   "cell_type": "markdown",
   "id": "305611e4",
   "metadata": {},
   "source": [
    "# Files "
   ]
  },
  {
   "cell_type": "markdown",
   "id": "0128d1a8",
   "metadata": {},
   "source": [
    "## Persistent Program \n",
    "\n",
    "- These are programs that keep information running for a long time"
   ]
  },
  {
   "cell_type": "markdown",
   "id": "015265d1",
   "metadata": {},
   "source": [
    "## Reading and Writing "
   ]
  },
  {
   "cell_type": "markdown",
   "id": "f1a6e157",
   "metadata": {},
   "source": [
    "### To create a new file, we use the code \n"
   ]
  },
  {
   "cell_type": "code",
   "execution_count": null,
   "id": "9018b9a5",
   "metadata": {},
   "outputs": [],
   "source": [
    "\n",
    "fout= open('2024_state_of_the_union.txt', 'w')\n",
    "\n",
    "##w means write, and then the first name create "
   ]
  },
  {
   "cell_type": "code",
   "execution_count": 5,
   "id": "b321545d",
   "metadata": {},
   "outputs": [],
   "source": [
    "fout= open(\"james.txt\", 'w')"
   ]
  },
  {
   "cell_type": "code",
   "execution_count": 7,
   "id": "ec667bfa",
   "metadata": {},
   "outputs": [
    {
     "data": {
      "text/plain": [
       "34"
      ]
     },
     "execution_count": 7,
     "metadata": {},
     "output_type": "execute_result"
    }
   ],
   "source": [
    "## to add data to your document, you can call the write method \n",
    "\n",
    "line1= \"Hello this is Greg's first writing\"\n",
    "\n",
    "fout.write(line1)"
   ]
  },
  {
   "cell_type": "code",
   "execution_count": null,
   "id": "0916ec33",
   "metadata": {},
   "outputs": [],
   "source": [
    "## when done, we close the file \n",
    "\n",
    "fout.close()\n",
    "\n"
   ]
  },
  {
   "cell_type": "markdown",
   "id": "23f849af",
   "metadata": {},
   "source": [
    "- You should see the above line written after closing the program "
   ]
  },
  {
   "cell_type": "markdown",
   "id": "9d128f89",
   "metadata": {},
   "source": [
    "## Format Operator \n",
    "\n",
    "- The write function only takes in a string. So for other data types such as integers, we need to use the str operation to convert them into strings"
   ]
  },
  {
   "cell_type": "code",
   "execution_count": 11,
   "id": "942b1434",
   "metadata": {},
   "outputs": [],
   "source": [
    "fout= open('james.txt', 'w')"
   ]
  },
  {
   "cell_type": "code",
   "execution_count": null,
   "id": "d7d7ee89",
   "metadata": {},
   "outputs": [],
   "source": [
    "value= 23782\n",
    "\n",
    "fout.write(str(value))\n",
    "\n",
    "fout.close()\n",
    "\n"
   ]
  },
  {
   "cell_type": "code",
   "execution_count": 15,
   "id": "341f044c",
   "metadata": {},
   "outputs": [
    {
     "ename": "AttributeError",
     "evalue": "'_io.TextIOWrapper' object has no attribute 'open'",
     "output_type": "error",
     "traceback": [
      "\u001b[31m---------------------------------------------------------------------------\u001b[39m",
      "\u001b[31mAttributeError\u001b[39m                            Traceback (most recent call last)",
      "\u001b[36mCell\u001b[39m\u001b[36m \u001b[39m\u001b[32mIn[15]\u001b[39m\u001b[32m, line 1\u001b[39m\n\u001b[32m----> \u001b[39m\u001b[32m1\u001b[39m \u001b[43mfout\u001b[49m\u001b[43m.\u001b[49m\u001b[43mopen\u001b[49m.write(\u001b[33m\"\u001b[39m\u001b[33mHello,everyone \u001b[39m\u001b[38;5;130;01m\\n\u001b[39;00m\u001b[33m\"\u001b[39m)\n",
      "\u001b[31mAttributeError\u001b[39m: '_io.TextIOWrapper' object has no attribute 'open'"
     ]
    }
   ],
   "source": [
    "fout.open.write(\"Hello,everyone \\n\")"
   ]
  },
  {
   "cell_type": "markdown",
   "id": "467bdb08",
   "metadata": {},
   "source": []
  }
 ],
 "metadata": {
  "kernelspec": {
   "display_name": ".venv",
   "language": "python",
   "name": "python3"
  },
  "language_info": {
   "codemirror_mode": {
    "name": "ipython",
    "version": 3
   },
   "file_extension": ".py",
   "mimetype": "text/x-python",
   "name": "python",
   "nbconvert_exporter": "python",
   "pygments_lexer": "ipython3",
   "version": "3.12.5"
  }
 },
 "nbformat": 4,
 "nbformat_minor": 5
}
