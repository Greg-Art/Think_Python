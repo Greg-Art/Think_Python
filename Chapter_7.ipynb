{
 "cells": [
  {
   "cell_type": "markdown",
   "metadata": {},
   "source": [
    "# Chapter 7-  Iterations "
   ]
  },
  {
   "cell_type": "markdown",
   "metadata": {},
   "source": [
    "## Reassignment\n",
    "\n",
    "- You can assign multiple values to a variable; however, the variable will bare the most recent value\n",
    "\n",
    "- You can also assign one variable to another (basically, they both tend to have the same value). However, if you update one of the variable's value, the other wouldn't get updated. \n",
    "\n",
    "- Equality (==) is different from assignment(=). Equality compares two or more variable or values ensureing that they have the same value. While assignments has a variable point to a value (we can only assign a value to a variable and not the other way round). \n",
    "\n",
    "    - With equality you can switch the position of the variables/ you want to compare. \n",
    "    - With assignment, the value has to always be on the right and the variable on the left. "
   ]
  },
  {
   "cell_type": "code",
   "execution_count": 1,
   "metadata": {},
   "outputs": [
    {
     "name": "stdout",
     "output_type": "stream",
     "text": [
      "7\n"
     ]
    }
   ],
   "source": [
    "##Example of point 1:\n",
    "\n",
    "a= 5\n",
    "\n",
    "a=7\n",
    "\n",
    "print(a)"
   ]
  },
  {
   "cell_type": "code",
   "execution_count": 2,
   "metadata": {},
   "outputs": [
    {
     "name": "stdout",
     "output_type": "stream",
     "text": [
      "7 5\n"
     ]
    }
   ],
   "source": [
    "##Example of point 2:\n",
    "\n",
    "a=5\n",
    "b=a\n",
    "a=7\n",
    "\n",
    "print(a,b)\n"
   ]
  },
  {
   "cell_type": "markdown",
   "metadata": {},
   "source": [
    "## Updating Values\n",
    "\n",
    "- When updating a value, ensure that the variable whose value you want to update has already been declared"
   ]
  },
  {
   "cell_type": "code",
   "execution_count": null,
   "metadata": {},
   "outputs": [
    {
     "ename": "NameError",
     "evalue": "name 'x' is not defined",
     "output_type": "error",
     "traceback": [
      "\u001b[31m---------------------------------------------------------------------------\u001b[39m",
      "\u001b[31mNameError\u001b[39m                                 Traceback (most recent call last)",
      "\u001b[36mCell\u001b[39m\u001b[36m \u001b[39m\u001b[32mIn[4]\u001b[39m\u001b[32m, line 2\u001b[39m\n\u001b[32m      1\u001b[39m \u001b[38;5;66;03m##the update below won't work cause python evaluates the right hand first before the left hand. \u001b[39;00m\n\u001b[32m----> \u001b[39m\u001b[32m2\u001b[39m x=\u001b[43mx\u001b[49m+\u001b[32m7\u001b[39m\n",
      "\u001b[31mNameError\u001b[39m: name 'x' is not defined"
     ]
    }
   ],
   "source": [
    "\n",
    "##the update below won't work cause python evaluates the right hand first before the left hand. This is because we haven't declared or initialized x \n",
    "x=x+7"
   ]
  },
  {
   "cell_type": "markdown",
   "metadata": {},
   "source": [
    "## While Statement \n",
    "\n",
    "- We use a while loop for cases where we do not know the amount of times we want to iterate \n",
    "\n",
    "- We can rewrite recursions as loops "
   ]
  },
  {
   "cell_type": "code",
   "execution_count": 13,
   "metadata": {},
   "outputs": [
    {
     "name": "stdout",
     "output_type": "stream",
     "text": [
      "10\n",
      "9\n",
      "8\n",
      "7\n",
      "6\n",
      "5\n",
      "4\n",
      "3\n",
      "2\n",
      "1\n",
      "Blastoff!\n"
     ]
    }
   ],
   "source": [
    "## example: \n",
    "\n",
    "def countdown(n):\n",
    "    while n > 0:\n",
    "        print(n)\n",
    "        n = n - 1\n",
    "    print('Blastoff!')\n",
    "\n",
    "\n",
    "countdown(10)"
   ]
  },
  {
   "cell_type": "code",
   "execution_count": 12,
   "metadata": {},
   "outputs": [],
   "source": [
    "countdown(-10)"
   ]
  },
  {
   "cell_type": "markdown",
   "metadata": {},
   "source": [
    "### Flow of Execution of a While Loop:\n",
    "\n",
    "1. Determine whether the condition is true or false. \n",
    "2. If false, exit the while statement and continue execution at the next statement.\n",
    "3. If the condition is true, run the body and then go back to step 1.\n",
    "\n",
    "## More Notes:\n",
    "\n",
    "- The body of the loop should feature a statement should have a statement that changes the variables to eventually become false =, else we will get the loop to run infinitely. From the above code, n = **n - 1** changes the  variable.\n",
    "\n",
    "- "
   ]
  },
  {
   "cell_type": "code",
   "execution_count": 16,
   "metadata": {},
   "outputs": [],
   "source": [
    "def sequence(n):\n",
    "    while n != 1:\n",
    "        print(n)\n",
    "        if n % 2 == 0: # n is even\n",
    "            n = n / 2\n",
    "    else: # n is odd\n",
    "        n = n*3 + 1"
   ]
  },
  {
   "cell_type": "markdown",
   "metadata": {},
   "source": [
    "### Exercise on While Loop:\n",
    "\n",
    "As an exercise, rewrite the function print_n from “Recursion” on page 51 using itera‐\n",
    "tion instead of recursion."
   ]
  },
  {
   "cell_type": "code",
   "execution_count": 21,
   "metadata": {},
   "outputs": [],
   "source": [
    "##recursion version\n",
    "def countdown(n):\n",
    "    if n <= 0:\n",
    "        print('Blastoff!')\n",
    "    else:\n",
    "        print(n)\n",
    "        countdown(n-1)"
   ]
  },
  {
   "cell_type": "code",
   "execution_count": 22,
   "metadata": {},
   "outputs": [
    {
     "name": "stdout",
     "output_type": "stream",
     "text": [
      "10\n",
      "9\n",
      "8\n",
      "7\n",
      "6\n",
      "5\n",
      "4\n",
      "3\n",
      "2\n",
      "1\n",
      "Blastoff!\n"
     ]
    }
   ],
   "source": [
    "##tesitng \n",
    "\n",
    "countdown(10)"
   ]
  },
  {
   "cell_type": "code",
   "execution_count": null,
   "metadata": {},
   "outputs": [],
   "source": [
    "##while loop version:\n",
    "\n",
    "def countdown_while(n):\n",
    "    while n>0:\n",
    "        print(n)\n",
    "        n=n-1\n",
    "    print(\"blastoff\")"
   ]
  },
  {
   "cell_type": "code",
   "execution_count": 23,
   "metadata": {},
   "outputs": [
    {
     "name": "stdout",
     "output_type": "stream",
     "text": [
      "10\n",
      "9\n",
      "8\n",
      "7\n",
      "6\n",
      "5\n",
      "4\n",
      "3\n",
      "2\n",
      "1\n",
      "blastoff\n"
     ]
    }
   ],
   "source": [
    "countdown_while(10)"
   ]
  },
  {
   "cell_type": "markdown",
   "metadata": {},
   "source": [
    "## Break \n",
    "\n",
    "- This is used when we want to terminate the while loop after a specific iterations are done or after a certain condition is met. \n",
    "\n",
    "    - Example, someone inputting their password: We can set the limit to 5,10,20 and we can use the break statement to end the code after a number of specific tries. "
   ]
  },
  {
   "cell_type": "markdown",
   "metadata": {},
   "source": [
    "### Exercise on Break Statement:\n",
    "\n",
    "Write a Python program that asks the user to guess a secret number.\n",
    "\n",
    "- The user has only 4 attempts to guess it right.\n",
    "\n",
    "- If they guess correctly, the loop should print a success message and break.\n",
    "\n",
    "- If they use all their attempts, the loop should end and print a message that the game is over."
   ]
  },
  {
   "cell_type": "code",
   "execution_count": 4,
   "metadata": {},
   "outputs": [],
   "source": [
    "def secret_number():\n",
    "    max_attempt= 4\n",
    "    attempt_counter= 0\n",
    "    passcode= \"Arthur345\"\n",
    "\n",
    "    while True:\n",
    "        input_key= input(\"Please input your secret key\")\n",
    "        attempt_counter += 1\n",
    "        if input_key == passcode:\n",
    "            print(\"Success\")\n",
    "            break\n",
    "            \n",
    "\n",
    "        if attempt_counter < max_attempt and input_key != passcode:\n",
    "            print(\"Try Again\")\n",
    "        \n",
    "        else:\n",
    "            print(\"You have inputted the wrong password after 4 times which is the max input limit\")\n",
    "            break\n",
    "\n"
   ]
  },
  {
   "cell_type": "code",
   "execution_count": 5,
   "metadata": {},
   "outputs": [
    {
     "name": "stdout",
     "output_type": "stream",
     "text": [
      "Try Again\n",
      "Success\n"
     ]
    }
   ],
   "source": [
    "secret_number()"
   ]
  },
  {
   "cell_type": "code",
   "execution_count": null,
   "metadata": {},
   "outputs": [],
   "source": []
  }
 ],
 "metadata": {
  "kernelspec": {
   "display_name": ".venv",
   "language": "python",
   "name": "python3"
  },
  "language_info": {
   "codemirror_mode": {
    "name": "ipython",
    "version": 3
   },
   "file_extension": ".py",
   "mimetype": "text/x-python",
   "name": "python",
   "nbconvert_exporter": "python",
   "pygments_lexer": "ipython3",
   "version": "3.12.5"
  }
 },
 "nbformat": 4,
 "nbformat_minor": 2
}
