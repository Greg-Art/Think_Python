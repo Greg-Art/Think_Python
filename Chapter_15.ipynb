{
 "cells": [
  {
   "cell_type": "markdown",
   "id": "9a4fa1a4",
   "metadata": {},
   "source": [
    "# Classes and Objects\n",
    "\n",
    "- We can create new type to represent points as objects\n",
    "\n",
    "- To create a class we use the `class` type \n",
    "\n",
    "- When we define our class, we create a class object \n",
    "\n",
    "- Upon creating a class, we have to instantiate it to call it "
   ]
  },
  {
   "cell_type": "code",
   "execution_count": 25,
   "id": "287c82c8",
   "metadata": {},
   "outputs": [],
   "source": [
    "## creating a class \n",
    "\n",
    "class Point:\n",
    "    \"This class contains a string of values\""
   ]
  },
  {
   "cell_type": "code",
   "execution_count": 110,
   "id": "110ff8f0",
   "metadata": {},
   "outputs": [
    {
     "data": {
      "text/plain": [
       "__main__.Point"
      ]
     },
     "execution_count": 110,
     "metadata": {},
     "output_type": "execute_result"
    }
   ],
   "source": [
    "Point"
   ]
  },
  {
   "cell_type": "code",
   "execution_count": 111,
   "id": "6bea68c7",
   "metadata": {},
   "outputs": [],
   "source": [
    "### creating an instance\n",
    "\n",
    "blank= Point()\n",
    "\n",
    "choco= Point()"
   ]
  },
  {
   "cell_type": "code",
   "execution_count": 112,
   "id": "a4394b5a",
   "metadata": {},
   "outputs": [
    {
     "data": {
      "text/plain": [
       "<__main__.Point at 0x11b8461e0>"
      ]
     },
     "execution_count": 112,
     "metadata": {},
     "output_type": "execute_result"
    }
   ],
   "source": [
    "blank"
   ]
  },
  {
   "cell_type": "markdown",
   "id": "8c811c19",
   "metadata": {},
   "source": [
    "## Attributes\n",
    "\n",
    "- we can assign values to an instance using the dot notation\n"
   ]
  },
  {
   "cell_type": "code",
   "execution_count": 113,
   "id": "63d8493f",
   "metadata": {},
   "outputs": [],
   "source": [
    "blank.x= 3.0 ## this is an attribute \n",
    "blank.y = 4.0 ## this is another attribute "
   ]
  },
  {
   "cell_type": "code",
   "execution_count": 114,
   "id": "7fab6f7b",
   "metadata": {},
   "outputs": [
    {
     "data": {
      "text/plain": [
       "3.0"
      ]
     },
     "execution_count": 114,
     "metadata": {},
     "output_type": "execute_result"
    }
   ],
   "source": [
    "blank.x"
   ]
  },
  {
   "cell_type": "code",
   "execution_count": 46,
   "id": "5767928f",
   "metadata": {},
   "outputs": [],
   "source": [
    "x= blank.x"
   ]
  },
  {
   "cell_type": "code",
   "execution_count": 47,
   "id": "7cd125ff",
   "metadata": {},
   "outputs": [],
   "source": [
    "import math"
   ]
  },
  {
   "cell_type": "code",
   "execution_count": 48,
   "id": "7da0a29c",
   "metadata": {},
   "outputs": [],
   "source": [
    "distance= math.sqrt(blank.x**2)\n",
    "\n"
   ]
  },
  {
   "cell_type": "code",
   "execution_count": 51,
   "id": "620fa1d3",
   "metadata": {},
   "outputs": [],
   "source": [
    "def print_point(p):\n",
    "    print('(%g, %g)' %(p.x, p.y))"
   ]
  },
  {
   "cell_type": "code",
   "execution_count": 52,
   "id": "0c5f6027",
   "metadata": {},
   "outputs": [
    {
     "name": "stdout",
     "output_type": "stream",
     "text": [
      "(3, 4)\n"
     ]
    }
   ],
   "source": [
    "print_point(blank)"
   ]
  },
  {
   "cell_type": "markdown",
   "id": "6e69a779",
   "metadata": {},
   "source": [
    "As an exercise, write a function called distance_between_points that takes two Points as arguments and returns the distance between them."
   ]
  },
  {
   "cell_type": "code",
   "execution_count": 23,
   "id": "d589d5c9",
   "metadata": {},
   "outputs": [],
   "source": [
    "def distance(t):\n",
    "    distance= math.sqrt(t.x**2 +t.y**2)\n",
    "    return distance "
   ]
  },
  {
   "cell_type": "code",
   "execution_count": 24,
   "id": "b66d0c93",
   "metadata": {},
   "outputs": [
    {
     "data": {
      "text/plain": [
       "5.0"
      ]
     },
     "execution_count": 24,
     "metadata": {},
     "output_type": "execute_result"
    }
   ],
   "source": [
    "distance(blank)"
   ]
  },
  {
   "cell_type": "markdown",
   "id": "3d034ea4",
   "metadata": {},
   "source": [
    "## Rectangles "
   ]
  },
  {
   "cell_type": "code",
   "execution_count": 35,
   "id": "70cb015d",
   "metadata": {},
   "outputs": [],
   "source": [
    "class Rectangle:\n",
    "    \"\"\"this represents a rectangle \n",
    "\n",
    "creating an instance of an object.\n",
    "\n",
    "\"\"\"\n",
    "\n"
   ]
  },
  {
   "cell_type": "code",
   "execution_count": 39,
   "id": "1bd42f6b",
   "metadata": {},
   "outputs": [],
   "source": [
    "box= Rectangle()\n",
    "\n",
    "##creating the attributes \n",
    "box.width= 100\n",
    "box.height= 120\n",
    "box.corner= Point() ## embedded object\n",
    "box.corner.x= 0.0\n",
    "box.corner.y= 0.0"
   ]
  },
  {
   "cell_type": "markdown",
   "id": "1212fe97",
   "metadata": {},
   "source": [
    "## Instances as Return Values \n",
    "\n",
    "- We can have functions return instances"
   ]
  },
  {
   "cell_type": "code",
   "execution_count": 53,
   "id": "67ce0879",
   "metadata": {},
   "outputs": [],
   "source": [
    "def find_center(rect):\n",
    "    p= Point()\n",
    "    p.x= rect.corner.x + rect.width/2\n",
    "    p.y= rect.corner.y + rect.height/2\n",
    "    return p \n",
    "    "
   ]
  },
  {
   "cell_type": "code",
   "execution_count": 54,
   "id": "0e275cb5",
   "metadata": {},
   "outputs": [
    {
     "name": "stdout",
     "output_type": "stream",
     "text": [
      "(50, 60)\n"
     ]
    }
   ],
   "source": [
    "center= find_center(box)\n",
    "\n",
    "print_point(center)"
   ]
  },
  {
   "cell_type": "markdown",
   "id": "0c000f6b",
   "metadata": {},
   "source": [
    "## Objects Are Mutable \n",
    "\n",
    "- You can change the state of an object by making a change to one of its attibute "
   ]
  },
  {
   "cell_type": "code",
   "execution_count": null,
   "id": "e8b0a59a",
   "metadata": {},
   "outputs": [],
   "source": [
    "##we can changet the width of our box \n",
    "box.width= box.width +50\n",
    "box.height= box.height +50"
   ]
  },
  {
   "cell_type": "code",
   "execution_count": 58,
   "id": "48b0fc47",
   "metadata": {},
   "outputs": [],
   "source": [
    "## we can also create a function that modifies objects \n",
    "\n",
    "def growth_rectangle(rect, dwidth, dheight):\n",
    "    rect.width+=dwidth\n",
    "    rect.height+= dheight \n",
    "\n"
   ]
  },
  {
   "cell_type": "code",
   "execution_count": 59,
   "id": "7b3e4c13",
   "metadata": {},
   "outputs": [],
   "source": [
    "growth_rectangle(box, 100, 100)"
   ]
  },
  {
   "cell_type": "code",
   "execution_count": 62,
   "id": "bd562806",
   "metadata": {},
   "outputs": [
    {
     "name": "stdout",
     "output_type": "stream",
     "text": [
      "270\n",
      "250\n"
     ]
    }
   ],
   "source": [
    "print(box.height)\n",
    "print(box.width)\n"
   ]
  },
  {
   "cell_type": "markdown",
   "id": "14be443a",
   "metadata": {},
   "source": [
    "## Copying"
   ]
  },
  {
   "cell_type": "code",
   "execution_count": 63,
   "id": "fb165d81",
   "metadata": {},
   "outputs": [],
   "source": [
    "p1= Point()\n",
    "\n",
    "p1.x= 3.0\n",
    "\n",
    "p1.y= 4.0"
   ]
  },
  {
   "cell_type": "code",
   "execution_count": 65,
   "id": "707e37ca",
   "metadata": {},
   "outputs": [],
   "source": [
    "import copy \n",
    "\n",
    "p2= copy.copy(p1)"
   ]
  },
  {
   "cell_type": "code",
   "execution_count": 69,
   "id": "d9e8c35b",
   "metadata": {},
   "outputs": [
    {
     "name": "stdout",
     "output_type": "stream",
     "text": [
      "(3, 4)\n",
      "(3, 4)\n"
     ]
    }
   ],
   "source": [
    "print_point(p1)\n",
    "print_point(p2)"
   ]
  },
  {
   "cell_type": "code",
   "execution_count": 70,
   "id": "f698490c",
   "metadata": {},
   "outputs": [
    {
     "data": {
      "text/plain": [
       "False"
      ]
     },
     "execution_count": 70,
     "metadata": {},
     "output_type": "execute_result"
    }
   ],
   "source": [
    "p1==p2"
   ]
  },
  {
   "cell_type": "code",
   "execution_count": 71,
   "id": "dc189c00",
   "metadata": {},
   "outputs": [
    {
     "data": {
      "text/plain": [
       "False"
      ]
     },
     "execution_count": 71,
     "metadata": {},
     "output_type": "execute_result"
    }
   ],
   "source": [
    "p1 is p2"
   ]
  },
  {
   "cell_type": "markdown",
   "id": "48791955",
   "metadata": {},
   "source": [
    "Summary:\n",
    "\n",
    "- In Object, == behaves as is, and checks for identity and not equivalance \n",
    "\n",
    "- If we make a copy of an object, the copy gets stored in a different location in memory \n",
    "\n",
    "- When we use the copy function, it copies the object and any references but not the embedded objects"
   ]
  },
  {
   "cell_type": "markdown",
   "id": "cf7ed9dc",
   "metadata": {},
   "source": [
    "### Exercise \n",
    "\n",
    "- Write a definition for a class named Circle with attributes center and radius, where center is a Point object and radius is a number.\n",
    "\n",
    "- Instantiate a Circle object that represents a circle with its center at 150, 100 and radius 75.\n",
    "\n",
    "- Write a function named point_in_circle that takes a Circle and a Point and returns\n",
    "True if the Point lies in or on the boundary of the circle.\n",
    "\n",
    "- Write a function named rect_in_circle that takes a Circle and a Rectangle and returns True if the Rectangle lies entirely in or on the boundary of the circle.\n",
    "\n",
    "- Write a function named rect_circle_overlap that takes a Circle and a Rectangle and returns True if any of the corners of the Rectangle fall inside the circle. Or as amore challenging version, return True if any part of the Rectangle falls inside the\n",
    "circle."
   ]
  },
  {
   "cell_type": "markdown",
   "id": "fc779a3c",
   "metadata": {},
   "source": [
    "- Write a definition for a class named Circle with attributes center and radius, where center is a Point object and radius is a number.\n"
   ]
  },
  {
   "cell_type": "code",
   "execution_count": null,
   "id": "388457df",
   "metadata": {},
   "outputs": [],
   "source": [
    "class Circle:\n",
    "    \"\"\"Attributes: center and radius\"\"\""
   ]
  },
  {
   "cell_type": "markdown",
   "id": "749a296e",
   "metadata": {},
   "source": [
    "- Instantiate a Circle object that represents a circle with its center at 150, 100 and radius 75.\n"
   ]
  },
  {
   "cell_type": "code",
   "execution_count": null,
   "id": "5d053a3c",
   "metadata": {},
   "outputs": [],
   "source": [
    "circle_obj= Circle()\n",
    "\n",
    "circle_obj.center= Point() \n",
    "\n",
    "circle_obj.center.x= 150\n",
    "\n",
    "circle_obj.center.y= 100\n",
    "\n",
    "circle_obj.radius= 75"
   ]
  },
  {
   "cell_type": "markdown",
   "id": "04fa5066",
   "metadata": {},
   "source": [
    "- Write a function named point_in_circle that takes a Circle and a Point and returns\n",
    "True if the Point lies in or on the boundary of the circle."
   ]
  },
  {
   "cell_type": "code",
   "execution_count": 121,
   "id": "4344493f",
   "metadata": {},
   "outputs": [],
   "source": [
    "trial_point= Point()\n",
    "\n",
    "trial_point.x= 120\n",
    "\n",
    "trial_point.y= 130"
   ]
  },
  {
   "cell_type": "code",
   "execution_count": null,
   "id": "9c8c1109",
   "metadata": {},
   "outputs": [],
   "source": []
  },
  {
   "cell_type": "code",
   "execution_count": 127,
   "id": "cbc59dea",
   "metadata": {},
   "outputs": [],
   "source": [
    "import math\n",
    "def point_in_circle(circle, point):\n",
    "    distance= math.sqrt((circle.center.x-point.x) **2 + (circle.center.y-point.y)**2)\n",
    "\n",
    "    if distance <= circle.radius:\n",
    "        return True \n",
    "    return False "
   ]
  },
  {
   "cell_type": "code",
   "execution_count": 128,
   "id": "f53205ce",
   "metadata": {},
   "outputs": [
    {
     "data": {
      "text/plain": [
       "True"
      ]
     },
     "execution_count": 128,
     "metadata": {},
     "output_type": "execute_result"
    }
   ],
   "source": [
    "## testing the function\n",
    "\n",
    "point_in_circle(circle_obj, trial_point)"
   ]
  },
  {
   "cell_type": "markdown",
   "id": "af342cb7",
   "metadata": {},
   "source": [
    "- Write a function named rect_in_circle that takes a Circle and a Rectangle and returns True if the Rectangle lies entirely in or on the boundary of the circle.\n",
    "\n",
    "Steps:\n",
    "\n",
    "    - Basically, with this problem, we are trying to find out if the distance from the center of the rectangle to its any of its point is less or more than our radius. If it is less or the same we return true. \n",
    "\n",
    "    - We need a function with our circle attributes, which we have in the circle_obj function\n",
    "\n",
    "    - We need one with the properties of the rectangle\n"
   ]
  },
  {
   "cell_type": "code",
   "execution_count": null,
   "id": "c1b182bd",
   "metadata": {},
   "outputs": [],
   "source": [
    "class Rectangle:\n",
    "    \"\"\"This is a class for our rectangle\"\"\""
   ]
  },
  {
   "cell_type": "code",
   "execution_count": null,
   "id": "e49f8ac9",
   "metadata": {},
   "outputs": [],
   "source": [
    "## defining the points of the rectangle \n",
    "\n",
    "rect= Rectangle()\n",
    "\n",
    "rect.width= 100\n",
    "\n",
    "rect.height= 70\n",
    "\n",
    "rect.l_l_corner= Point()\n",
    "\n",
    "rect.l_l_corner.x= 30\n",
    "\n",
    "rect.l_l_corner.y= 60"
   ]
  },
  {
   "cell_type": "markdown",
   "id": "75319375",
   "metadata": {},
   "source": [
    "### Breakdown 1: \n",
    "\n",
    "- So, we need to find the `upperleft`, `upper-right`. `lower right` from our given lower left corner value\n",
    "\n",
    "- Upper Left:\n",
    "\n",
    "    - We get `(x, h+y)`, this is because x remains the same and we need to travel h distance to get to the upper left, so we add that position to y. \n",
    "\n",
    "- Upper Right:\n",
    "\n",
    "    - With our upper right, (h+y) stays the same, and we need to travel across the width to get the new x value, as a result we get `(x+w, h+y)`\n",
    "\n",
    "- Lower right:\n",
    "\n",
    "    - Assuming we start from the original lower left, we get y staying the same and we travel across the width, which gives use `(x+w, y)`\n"
   ]
  },
  {
   "cell_type": "code",
   "execution_count": 138,
   "id": "950c4316",
   "metadata": {},
   "outputs": [],
   "source": [
    "##from the above, we rewrite our rectangle as:\n",
    "\n",
    "rect= Rectangle()\n",
    "\n",
    "rect.width= 100\n",
    "\n",
    "rect.height= 70\n",
    "\n",
    "##defining the lower left corner \n",
    "rect.l_l_corner= Point()\n",
    "\n",
    "rect.l_l_corner.x= 30\n",
    "\n",
    "rect.l_l_corner.y= 60\n",
    "\n",
    "\n",
    "\n",
    "\n"
   ]
  },
  {
   "cell_type": "markdown",
   "id": "d4857509",
   "metadata": {},
   "source": [
    "## Breakdown 2\n",
    "\n",
    "- We will now create the function\n",
    "\n",
    "- The aim here is to ensure the magnitude of the center of the circle and each point is less than or equal to the radius"
   ]
  },
  {
   "cell_type": "code",
   "execution_count": null,
   "id": "a64a0e84",
   "metadata": {},
   "outputs": [],
   "source": [
    "def rect_in_circle(circle, rect):\n",
    "    distance_left_lower_corner= math.sqrt((circle.center.x - rect.l_l_corner.x) **2 + (circle.center.y-rect.l_l_corner.y) **2)\n",
    "    distance_left_upper_corner= math.sqrt((circle.center.x- rect.l_l_corner.x) **2 + (circle.center.y- (rect.l_l_corner.y + rect.height)) **2)\n",
    "    distance_right_upper_corner= math.sqrt((circle.center.x- (rect.l_l_corner.x +rect.width)) **2 +(circle.center.y- (rect.l_l_corner.y + rect.height))**2)\n",
    "    distance_right_lower_corner= math.sqrt((circle.center.x-(rect.l_l_corner.x +rect.width)) **2 + (circle.center.y - (rect.l_l_corner.y)) **2)\n",
    "\n",
    "    if ( circle.radius >= distance_left_lower_corner and \n",
    "    circle.radius >= distance_left_upper_corner and\n",
    "     circle.radius >= distance_right_upper_corner and \n",
    "     circle.radius >= distance_right_lower_corner):\n",
    "        return True \n",
    "    return False \n"
   ]
  },
  {
   "cell_type": "code",
   "execution_count": 148,
   "id": "30361567",
   "metadata": {},
   "outputs": [
    {
     "data": {
      "text/plain": [
       "False"
      ]
     },
     "execution_count": 148,
     "metadata": {},
     "output_type": "execute_result"
    }
   ],
   "source": [
    "rect_in_circle(circle_obj, rect)"
   ]
  },
  {
   "cell_type": "code",
   "execution_count": null,
   "id": "7185ee97",
   "metadata": {},
   "outputs": [],
   "source": []
  },
  {
   "cell_type": "markdown",
   "id": "373a6bef",
   "metadata": {},
   "source": []
  }
 ],
 "metadata": {
  "kernelspec": {
   "display_name": ".venv",
   "language": "python",
   "name": "python3"
  },
  "language_info": {
   "codemirror_mode": {
    "name": "ipython",
    "version": 3
   },
   "file_extension": ".py",
   "mimetype": "text/x-python",
   "name": "python",
   "nbconvert_exporter": "python",
   "pygments_lexer": "ipython3",
   "version": "3.12.5"
  }
 },
 "nbformat": 4,
 "nbformat_minor": 5
}
