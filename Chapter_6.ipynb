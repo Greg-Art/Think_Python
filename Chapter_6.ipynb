{
 "cells": [
  {
   "cell_type": "markdown",
   "id": "3498e548",
   "metadata": {},
   "source": [
    "# Fruitful Functions\n",
    "\n",
    "- These are functions that return a value "
   ]
  },
  {
   "cell_type": "markdown",
   "id": "b3b0dd03",
   "metadata": {},
   "source": [
    "## Return Values\n",
    "\n",
    "- We can return values from a function and save them as a variable or use them in an expression"
   ]
  },
  {
   "cell_type": "code",
   "execution_count": 2,
   "id": "67c19689",
   "metadata": {},
   "outputs": [],
   "source": [
    "import math"
   ]
  },
  {
   "cell_type": "code",
   "execution_count": 4,
   "id": "17a21437",
   "metadata": {},
   "outputs": [],
   "source": [
    "##example 1:\n",
    "\n",
    "def area(radius):\n",
    "    a= math.pi * radius **2\n",
    "    return a"
   ]
  },
  {
   "cell_type": "code",
   "execution_count": 5,
   "id": "c6055c34",
   "metadata": {},
   "outputs": [
    {
     "data": {
      "text/plain": [
       "1256.6370614359173"
      ]
     },
     "execution_count": 5,
     "metadata": {},
     "output_type": "execute_result"
    }
   ],
   "source": [
    "area(20)"
   ]
  },
  {
   "cell_type": "code",
   "execution_count": 6,
   "id": "51569b1e",
   "metadata": {},
   "outputs": [],
   "source": [
    "## returning multiple values \n",
    "\n",
    "def absolute_value(x):\n",
    "    if x<0:\n",
    "        return -x \n",
    "    else:\n",
    "        return x"
   ]
  },
  {
   "cell_type": "code",
   "execution_count": 7,
   "id": "49ffa248",
   "metadata": {},
   "outputs": [
    {
     "data": {
      "text/plain": [
       "1"
      ]
     },
     "execution_count": 7,
     "metadata": {},
     "output_type": "execute_result"
    }
   ],
   "source": [
    "absolute_value(-1)"
   ]
  },
  {
   "cell_type": "markdown",
   "id": "95ad9f77",
   "metadata": {},
   "source": [
    "Notes:\n",
    "\n",
    "- Ensure that each possible path through the program hits a return statement. \n",
    "\n",
    "    - Basically ensure that your functions are executable or the conditional statement or loops within the function are executable \n",
    "\n",
    "- As an exercise, write a compare function takes two values, x and y, and returns 1 if x\n",
    "> y, 0 if x == y, and -1 if x < y."
   ]
  },
  {
   "cell_type": "code",
   "execution_count": 9,
   "id": "b4f4f5c1",
   "metadata": {},
   "outputs": [],
   "source": [
    "def compare(x,y):\n",
    "    if x > y:\n",
    "        return 1\n",
    "    elif x ==y:\n",
    "        return 0\n",
    "    else:\n",
    "        return -1 \n"
   ]
  },
  {
   "cell_type": "code",
   "execution_count": 13,
   "id": "29f3e4b5",
   "metadata": {},
   "outputs": [
    {
     "data": {
      "text/plain": [
       "(1, 0, -1)"
      ]
     },
     "execution_count": 13,
     "metadata": {},
     "output_type": "execute_result"
    }
   ],
   "source": [
    "compare(3,-2), compare(1,1), compare(3,4)"
   ]
  },
  {
   "cell_type": "markdown",
   "id": "7869220d",
   "metadata": {},
   "source": [
    "## Incremental Development\n",
    "\n",
    "- This is a concept of ensuring that you write and test code in a small increasing order at a time\n",
    "\n",
    "- The first step is to understand the problem\n",
    "\n",
    "- The second step is to figure out what the parameters and output values are \n",
    "\n",
    "- After that, you want to write a sample code for each phase and then test it \n",
    "\n",
    "    - In this phase, you may use a temp variable to hold on immediate values so you can display and check them\n"
   ]
  },
  {
   "cell_type": "markdown",
   "id": "f058bc01",
   "metadata": {},
   "source": [
    "Example: \n",
    "\n",
    "- use incremental development to write a function called hypotenuse that returns the length of the hypotenuse of a right triangle given the lengths of the\n",
    "other two legs as arguments. Record each stage of the development process as you go."
   ]
  },
  {
   "cell_type": "code",
   "execution_count": null,
   "id": "8a6dbe63",
   "metadata": {},
   "outputs": [
    {
     "data": {
      "text/plain": [
       "0"
      ]
     },
     "execution_count": 23,
     "metadata": {},
     "output_type": "execute_result"
    }
   ],
   "source": [
    "##stage 1 figuring out what the input and output parameters are \n",
    "\n",
    "## a**2 + b**2 = c**2\n",
    "# c= sqrt(a**2 + b**2)\n",
    "\n",
    "def hypotenuse(a, b):\n",
    "    return 0\n",
    "\n",
    "##testing the code:\n",
    "\n",
    "hypotenuse(5,12)"
   ]
  },
  {
   "cell_type": "code",
   "execution_count": null,
   "id": "852477f6",
   "metadata": {},
   "outputs": [
    {
     "name": "stdout",
     "output_type": "stream",
     "text": [
      "the value of the opposite is: 25\n",
      "the value of the adjacent is: 144\n"
     ]
    },
    {
     "data": {
      "text/plain": [
       "0"
      ]
     },
     "execution_count": 24,
     "metadata": {},
     "output_type": "execute_result"
    }
   ],
   "source": [
    "##step 2: creating the formula and variables\n",
    "\n",
    "def hypotenuse(a,b):\n",
    "    x= a**2\n",
    "    y= b**2\n",
    "    print(f\"the value of the opposite is: {x}\")\n",
    "    print(f\"the value of the adjacent is: {y}\")\n",
    "    return 0\n",
    "\n",
    "#testing the code\n",
    "hypotenuse(5,12)"
   ]
  },
  {
   "cell_type": "code",
   "execution_count": null,
   "id": "00a5e9f9",
   "metadata": {},
   "outputs": [
    {
     "name": "stdout",
     "output_type": "stream",
     "text": [
      "the squared of the hypothese is 169\n"
     ]
    },
    {
     "data": {
      "text/plain": [
       "0"
      ]
     },
     "execution_count": 25,
     "metadata": {},
     "output_type": "execute_result"
    }
   ],
   "source": [
    "##step 3: Proceed with the calculations\n",
    "\n",
    "def hypotenuse(a,b):\n",
    "    x= a**2\n",
    "    y= b**2\n",
    "    z_squared= x+y\n",
    "    print(f'the squared of the hypothese is {z_squared}')\n",
    "    return 0\n",
    "\n",
    "#testing the code:\n",
    "hypotenuse(5,12)"
   ]
  },
  {
   "cell_type": "code",
   "execution_count": null,
   "id": "a2671304",
   "metadata": {},
   "outputs": [
    {
     "data": {
      "text/plain": [
       "13.0"
      ]
     },
     "execution_count": 26,
     "metadata": {},
     "output_type": "execute_result"
    }
   ],
   "source": [
    "## step 4: finalizing the formula \n",
    "\n",
    "def hypotenuse(a,b):\n",
    "    x= a**2\n",
    "    y= b**2\n",
    "    z_squared= x+y\n",
    "    len_hypo= math.sqrt(z_squared)\n",
    "    return len_hypo\n",
    "\n",
    "\n",
    "hypotenuse(5,12)"
   ]
  },
  {
   "cell_type": "markdown",
   "id": "0e20ccda",
   "metadata": {},
   "source": [
    "Summary: \n",
    "\n",
    "- Stage 1: Define inputs/outputs\n",
    "\n",
    "- Stage 2: Sketch out variables\n",
    "\n",
    "- Stage 3: Combine intermediates\n",
    "\n",
    "- Stage 4: Finalize and return\n",
    "\n"
   ]
  },
  {
   "cell_type": "markdown",
   "id": "d59c10a4",
   "metadata": {},
   "source": [
    "## Composition\n",
    "\n",
    "- The idea is that we can create frutiful functions that calls another function"
   ]
  },
  {
   "cell_type": "code",
   "execution_count": null,
   "id": "6624c028",
   "metadata": {},
   "outputs": [],
   "source": [
    "## creating a function for creating the area\n",
    "def area(radius):\n",
    "    result= math.pi * radius **2\n",
    "    return result "
   ]
  },
  {
   "cell_type": "code",
   "execution_count": null,
   "id": "f18c7472",
   "metadata": {},
   "outputs": [],
   "source": [
    "##creating a function for creating the radius distance\n",
    "def distance(x1, y1, x2, y2):\n",
    "    dx = x2 - x1\n",
    "    dy = y2 - y1\n",
    "    dsquared = dx**2 + dy**2\n",
    "    result = math.sqrt(dsquared)\n",
    "    return result"
   ]
  },
  {
   "cell_type": "code",
   "execution_count": 34,
   "id": "606813f6",
   "metadata": {},
   "outputs": [
    {
     "data": {
      "text/plain": [
       "25.132741228718352"
      ]
     },
     "execution_count": 34,
     "metadata": {},
     "output_type": "execute_result"
    }
   ],
   "source": [
    "##creating a composite frutiful function to make use of the above 2 functions\n",
    "def circle_area(xc, yc, xp, yp):\n",
    "    radius = distance(xc, yc, xp, yp) ##here we are making use of the distance functon\n",
    "    result = area(radius) ##here we are making use of the area function\n",
    "    return result\n",
    "\n",
    "circle_area(2,3,4,5)"
   ]
  },
  {
   "cell_type": "markdown",
   "id": "4f78f89f",
   "metadata": {},
   "source": [
    "## Boolean Functions\n",
    "\n",
    "- We can use boolean functions to simplify large amount of codes "
   ]
  },
  {
   "cell_type": "code",
   "execution_count": 37,
   "id": "f9ef05b8",
   "metadata": {},
   "outputs": [
    {
     "data": {
      "text/plain": [
       "(False, True)"
      ]
     },
     "execution_count": 37,
     "metadata": {},
     "output_type": "execute_result"
    }
   ],
   "source": [
    "def is_divisible(x, y):\n",
    "    if x % y == 0:\n",
    "        return True\n",
    "    else:\n",
    "        return False\n",
    "    \n",
    "\n",
    "is_divisible(4,5), is_divisible(6,3)"
   ]
  },
  {
   "cell_type": "code",
   "execution_count": 39,
   "id": "4792f6cb",
   "metadata": {},
   "outputs": [
    {
     "data": {
      "text/plain": [
       "(False, True)"
      ]
     },
     "execution_count": 39,
     "metadata": {},
     "output_type": "execute_result"
    }
   ],
   "source": [
    "def is_divisible(x,y):\n",
    "    return x%y ==0\n",
    "\n",
    "is_divisible(4,5), is_divisible(6,3)"
   ]
  },
  {
   "cell_type": "markdown",
   "id": "b5a05876",
   "metadata": {},
   "source": [
    "- From the above codes, we can see we don't need to use an if statement to declare how the values should work\n",
    "\n",
    "- As an exercise, write a function is_between(x, y, z) that returns True if x ≤ y ≤ z\n",
    "or False otherwise."
   ]
  },
  {
   "cell_type": "code",
   "execution_count": 43,
   "id": "29ace4bd",
   "metadata": {},
   "outputs": [
    {
     "data": {
      "text/plain": [
       "(True, False)"
      ]
     },
     "execution_count": 43,
     "metadata": {},
     "output_type": "execute_result"
    }
   ],
   "source": [
    "def is_between(x, y, z):\n",
    "    return x<=y<=z\n",
    "\n",
    "is_between(2,3,4), is_between(4,5,3)"
   ]
  },
  {
   "cell_type": "markdown",
   "id": "18c3313c",
   "metadata": {},
   "source": [
    "## Recursions, Leap of Faith and Checking Types\n",
    "\n",
    "- Basically, if we can write the recursive functionn of something we can write a python program to evaluate it \n",
    "\n",
    "- Always beleive that your recursive function works \n",
    "\n",
    "- Use the **isinstance** to declare the arguments you can take in and those your function cannot take; these tend to previous infinite recursions"
   ]
  },
  {
   "cell_type": "code",
   "execution_count": 44,
   "id": "09551a42",
   "metadata": {},
   "outputs": [],
   "source": [
    "## recursion for factorial \n",
    "\n",
    "def factorial(n):\n",
    "    if n==0:\n",
    "        return 1\n",
    "    elif n >0:\n",
    "        recurse= factorial(n-1)\n",
    "        return n * recurse"
   ]
  },
  {
   "cell_type": "code",
   "execution_count": 45,
   "id": "e583d118",
   "metadata": {},
   "outputs": [],
   "source": [
    "## to check types:\n",
    "\n",
    "def factorial (n):\n",
    "    if not isinstance(n, int):\n",
    "        print('Factorial is only defined for integers.')\n",
    "        return None\n",
    "    elif n < 0:\n",
    "        print('Factorial is not defined for negative integers.')\n",
    "        return None\n",
    "    elif n == 0:\n",
    "        return 1\n",
    "    else:\n",
    "        return n * factorial(n-1)"
   ]
  },
  {
   "cell_type": "code",
   "execution_count": null,
   "id": "b32857e3",
   "metadata": {},
   "outputs": [],
   "source": []
  }
 ],
 "metadata": {
  "kernelspec": {
   "display_name": ".venv",
   "language": "python",
   "name": "python3"
  },
  "language_info": {
   "codemirror_mode": {
    "name": "ipython",
    "version": 3
   },
   "file_extension": ".py",
   "mimetype": "text/x-python",
   "name": "python",
   "nbconvert_exporter": "python",
   "pygments_lexer": "ipython3",
   "version": "3.12.5"
  }
 },
 "nbformat": 4,
 "nbformat_minor": 5
}
