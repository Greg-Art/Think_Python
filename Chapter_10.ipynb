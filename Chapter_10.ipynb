{
 "cells": [
  {
   "cell_type": "markdown",
   "id": "b0c9b036",
   "metadata": {},
   "source": [
    "# Lists\n",
    "\n",
    "Beyond lists, this chapter will focus on:\n",
    "\n",
    "- objects and what can happen when you have more than one name for the same object."
   ]
  },
  {
   "cell_type": "markdown",
   "id": "55a72a46",
   "metadata": {},
   "source": [
    "- A list is a sequential collection of items that are wrapped around square brackets \n",
    "\n",
    "- Lists can comprised of variious items of different data types and even another lists.\n"
   ]
  },
  {
   "cell_type": "markdown",
   "id": "3dfa2ad0",
   "metadata": {},
   "source": [
    "## Lists Are Mutable: \n",
    "\n",
    "- Basically, unlike strings, we can access and change an item in a list "
   ]
  },
  {
   "cell_type": "code",
   "execution_count": 1,
   "id": "de65ecd8",
   "metadata": {},
   "outputs": [],
   "source": [
    "list= [2,3,\"James\", [4,5,4]]"
   ]
  },
  {
   "cell_type": "code",
   "execution_count": 2,
   "id": "7e013468",
   "metadata": {},
   "outputs": [
    {
     "data": {
      "text/plain": [
       "'James'"
      ]
     },
     "execution_count": 2,
     "metadata": {},
     "output_type": "execute_result"
    }
   ],
   "source": [
    "list[2]"
   ]
  },
  {
   "cell_type": "code",
   "execution_count": 4,
   "id": "8292533f",
   "metadata": {},
   "outputs": [],
   "source": [
    "list[2]= \"Gamer\""
   ]
  },
  {
   "cell_type": "code",
   "execution_count": 5,
   "id": "5424aa40",
   "metadata": {},
   "outputs": [
    {
     "data": {
      "text/plain": [
       "[2, 3, 'Gamer', [4, 5, 4]]"
      ]
     },
     "execution_count": 5,
     "metadata": {},
     "output_type": "execute_result"
    }
   ],
   "source": [
    "list"
   ]
  },
  {
   "cell_type": "markdown",
   "id": "995e02e0",
   "metadata": {},
   "source": [
    "**List indices work the same way as string indices:**\n",
    "\n",
    "- Any integer expression can be used as an index.\n",
    "- If you try to read or write an element that does not exist, you get an IndexError.\n",
    "- If an index has a negative value, it counts backward from the end of the list.\n",
    "\n",
    "**Some Other Note:**\n",
    "\n",
    "- The in operator works in Strings \n",
    "\n"
   ]
  },
  {
   "cell_type": "markdown",
   "id": "f1c511d4",
   "metadata": {},
   "source": [
    "## Traversing a List\n",
    "\n",
    "- As we know travesing has to do with accessing each element in a list \n",
    "\n",
    "- For a list we can use a for loop to do so \n",
    "\n",
    "- If you run a for loop on an empty list, the body of the loop never runs \n",
    "\n",
    "- If a list contains another list, the inner list is considered as one element"
   ]
  },
  {
   "cell_type": "code",
   "execution_count": 23,
   "id": "372698e3",
   "metadata": {},
   "outputs": [],
   "source": [
    "list= [2,3,4,5,5]"
   ]
  },
  {
   "cell_type": "code",
   "execution_count": 24,
   "id": "7c1aeaaa",
   "metadata": {},
   "outputs": [
    {
     "name": "stdout",
     "output_type": "stream",
     "text": [
      "[4, 6, 8, 10, 10]\n"
     ]
    }
   ],
   "source": [
    "for i in range(len(list)):\n",
    "    list[i]= list[i]*2\n",
    "\n",
    "\n",
    "\n",
    "print(list)\n",
    "   "
   ]
  },
  {
   "cell_type": "markdown",
   "id": "64a28d9f",
   "metadata": {},
   "source": [
    "## List Operations \n",
    "\n",
    "- The + concatenates lists \n",
    "\n",
    "- The * operator duplicates a given list n number of times \n",
    "\n",
    "- Substraction and division aren't supported in lists "
   ]
  },
  {
   "cell_type": "code",
   "execution_count": 28,
   "id": "31be4f8e",
   "metadata": {},
   "outputs": [
    {
     "name": "stdout",
     "output_type": "stream",
     "text": [
      "[1, 2, 3, 4, 5, 6, 7, 8]\n",
      "[1, 2, 3, 4, 1, 2, 3, 4, 1, 2, 3, 4]\n"
     ]
    }
   ],
   "source": [
    "list_1= [1,2,3,4]\n",
    "\n",
    "list_2= [5,6,7,8]\n",
    "\n",
    "print(list_1+list_2)\n",
    "\n",
    "print(list_1*3)"
   ]
  },
  {
   "cell_type": "markdown",
   "id": "775b1fa5",
   "metadata": {},
   "source": [
    "\n",
    "## List Slices \n",
    "\n",
    "- This works similar to that of strings\n",
    "\n",
    "- Since lists are mutable, it is important to make a copy before you perform any operations "
   ]
  },
  {
   "cell_type": "code",
   "execution_count": 31,
   "id": "5cbac193",
   "metadata": {},
   "outputs": [],
   "source": [
    "list= [2,3,4,2,3,2,1,1,2]\n",
    "\n",
    "list[2:4]= ['james', \"Kwaku\"]"
   ]
  },
  {
   "cell_type": "code",
   "execution_count": null,
   "id": "ead95662",
   "metadata": {},
   "outputs": [
    {
     "data": {
      "text/plain": [
       "[2, 3, 'james', 'Kwaku', 3, 2, 1, 1, 2]"
      ]
     },
     "execution_count": 32,
     "metadata": {},
     "output_type": "execute_result"
    }
   ],
   "source": []
  },
  {
   "cell_type": "markdown",
   "id": "d27c5107",
   "metadata": {},
   "source": [
    "## List Methods\n",
    "\n",
    "There are various methods we can apply to a list, these include:\n",
    "\n",
    "- .append(): To add an element \n",
    "- .sort(): To arrange in ascending order but works only when list has one data type\n",
    "- .pop(): To remove the last element "
   ]
  },
  {
   "cell_type": "code",
   "execution_count": 38,
   "id": "791f2a85",
   "metadata": {},
   "outputs": [
    {
     "name": "stdout",
     "output_type": "stream",
     "text": [
      "[1, 1, 2, 4, 2, 2, 2, 2, 3, 3, 2]\n"
     ]
    }
   ],
   "source": [
    "list[2:4]= [2,4]\n",
    "\n",
    "print(list)\n"
   ]
  },
  {
   "cell_type": "code",
   "execution_count": 42,
   "id": "d4cb9d2c",
   "metadata": {},
   "outputs": [
    {
     "name": "stdout",
     "output_type": "stream",
     "text": [
      "[1, 1, 2, 2, 2, 2, 2, 2, 3, 3, 4, 54]\n"
     ]
    }
   ],
   "source": [
    "list.append(54)\n",
    "\n",
    "print(list)"
   ]
  },
  {
   "cell_type": "code",
   "execution_count": 43,
   "id": "a3b332fa",
   "metadata": {},
   "outputs": [
    {
     "name": "stdout",
     "output_type": "stream",
     "text": [
      "[1, 1, 2, 2, 2, 2, 2, 2, 3, 3, 4, 54]\n"
     ]
    }
   ],
   "source": [
    "list.sort()\n",
    "\n",
    "print(list)"
   ]
  },
  {
   "cell_type": "code",
   "execution_count": 44,
   "id": "6274ba54",
   "metadata": {},
   "outputs": [
    {
     "name": "stdout",
     "output_type": "stream",
     "text": [
      "[1, 1, 2, 2, 2, 2, 2, 2, 3, 3, 4]\n"
     ]
    }
   ],
   "source": [
    "list.pop()\n",
    "\n",
    "print(list)"
   ]
  },
  {
   "cell_type": "markdown",
   "id": "3c46c49b",
   "metadata": {},
   "source": [
    "## Map, Filter and Reduce \n",
    "\n",
    " - **Reduce**: This means compression a list into a single value such as summing all the elements of a list \n",
    "\n",
    " - **Mapping:**: This has to do with applying a function onto the elements of one list onto a new list or another list \n",
    "\n",
    " - **Filter:** This has to do with applying a condition on a list and for the elements that are `TRUE` gets fed into another list "
   ]
  },
  {
   "cell_type": "code",
   "execution_count": 45,
   "id": "4b0a04d9",
   "metadata": {},
   "outputs": [
    {
     "data": {
      "text/plain": [
       "[1, 1, 2, 2, 2, 2, 2, 2, 3, 3, 4]"
      ]
     },
     "execution_count": 45,
     "metadata": {},
     "output_type": "execute_result"
    }
   ],
   "source": [
    "## Reduce \n",
    "\n",
    "list"
   ]
  },
  {
   "cell_type": "code",
   "execution_count": 47,
   "id": "5e323964",
   "metadata": {},
   "outputs": [
    {
     "name": "stdout",
     "output_type": "stream",
     "text": [
      "24\n"
     ]
    }
   ],
   "source": [
    "x= 0\n",
    "\n",
    "for i in list:\n",
    "    x+=i\n",
    "print(x)\n"
   ]
  },
  {
   "cell_type": "code",
   "execution_count": 48,
   "id": "52e1212b",
   "metadata": {},
   "outputs": [
    {
     "name": "stdout",
     "output_type": "stream",
     "text": [
      "[2, 2, 4, 4, 4, 4, 4, 4, 6, 6, 8]\n"
     ]
    }
   ],
   "source": [
    "##map \n",
    "\n",
    "t= []\n",
    "\n",
    "for i in list:\n",
    "    t.append(i *2)\n",
    "print(t)"
   ]
  },
  {
   "cell_type": "code",
   "execution_count": 51,
   "id": "37388e50",
   "metadata": {},
   "outputs": [
    {
     "data": {
      "text/plain": [
       "([2, 2, 4, 4, 4, 4, 4, 4, 6, 6, 8], [1, 1, 2, 2, 2, 2, 2, 2, 3, 3, 4])"
      ]
     },
     "execution_count": 51,
     "metadata": {},
     "output_type": "execute_result"
    }
   ],
   "source": [
    "t, list"
   ]
  },
  {
   "cell_type": "code",
   "execution_count": 53,
   "id": "eddecf2c",
   "metadata": {},
   "outputs": [
    {
     "name": "stdout",
     "output_type": "stream",
     "text": [
      "[3, 3, 4]\n"
     ]
    }
   ],
   "source": [
    "## filter \n",
    "\n",
    "k= []\n",
    "for i in list:\n",
    "    if i > 2:\n",
    "        k.append(i)\n",
    "print(k)"
   ]
  },
  {
   "cell_type": "markdown",
   "id": "7f979bf3",
   "metadata": {},
   "source": [
    "## Deleting Elements \n",
    "\n",
    "There are two ways to remove an element from a string:\n",
    "\n",
    "- .remove: With this you need to specify the name of the value you want to remove\n",
    "- .pop: With this you don't need to specify as it remmoves the last element, but you can also specify the index of the item you want to remove\n",
    "- del list[i]: This can have you remove an element by specifying the slicing range or just the index "
   ]
  },
  {
   "cell_type": "code",
   "execution_count": 58,
   "id": "c30d20a9",
   "metadata": {},
   "outputs": [],
   "source": [
    "list= [1,2,3,4,22,66,77,99]"
   ]
  },
  {
   "cell_type": "code",
   "execution_count": 59,
   "id": "9350624a",
   "metadata": {},
   "outputs": [
    {
     "data": {
      "text/plain": [
       "[1, 2, 3, 4, 22, 66, 77]"
      ]
     },
     "execution_count": 59,
     "metadata": {},
     "output_type": "execute_result"
    }
   ],
   "source": [
    "list.remove(99)\n",
    "\n",
    "list"
   ]
  },
  {
   "cell_type": "code",
   "execution_count": 60,
   "id": "3690c3ec",
   "metadata": {},
   "outputs": [
    {
     "data": {
      "text/plain": [
       "[1, 2, 3, 4, 22, 66]"
      ]
     },
     "execution_count": 60,
     "metadata": {},
     "output_type": "execute_result"
    }
   ],
   "source": [
    "list.pop()\n",
    "\n",
    "list"
   ]
  },
  {
   "cell_type": "code",
   "execution_count": 61,
   "id": "72fb2c95",
   "metadata": {},
   "outputs": [],
   "source": [
    "del list[:2]"
   ]
  },
  {
   "cell_type": "code",
   "execution_count": 62,
   "id": "a38621e8",
   "metadata": {},
   "outputs": [
    {
     "data": {
      "text/plain": [
       "[3, 4, 22, 66]"
      ]
     },
     "execution_count": 62,
     "metadata": {},
     "output_type": "execute_result"
    }
   ],
   "source": [
    "list"
   ]
  },
  {
   "cell_type": "markdown",
   "id": "ac3161e9",
   "metadata": {},
   "source": []
  },
  {
   "cell_type": "markdown",
   "id": "d18dd99e",
   "metadata": {},
   "source": [
    "## Lists and Strings \n",
    "\n",
    "- A string is a sequence of characters and a list is a sequence of values \n",
    "\n",
    "- Even though these are both sequences, they do not have the same characters \n",
    "\n",
    "- We can use the list() function to a string to a list; therefore it is important to avoid using `list` as a variable name \n",
    "\n",
    "- We will realize that using the .split() function "
   ]
  },
  {
   "cell_type": "code",
   "execution_count": null,
   "id": "20a9bf30",
   "metadata": {},
   "outputs": [],
   "source": [
    "##deleting the initial list created so that Python doesn't get confused as to which list I am referring to below \n",
    "del list"
   ]
  },
  {
   "cell_type": "code",
   "execution_count": 70,
   "id": "a9caea0a",
   "metadata": {},
   "outputs": [],
   "source": [
    "##we can convert a string to a list using \n",
    "\n",
    "s= \"thanks\"\n",
    "\n",
    "t= list(s)\n",
    "\n"
   ]
  },
  {
   "cell_type": "code",
   "execution_count": 73,
   "id": "ed7c8f8e",
   "metadata": {},
   "outputs": [
    {
     "name": "stdout",
     "output_type": "stream",
     "text": [
      "['Kwaku', 'and', 'Agyei', 'Went', 'Quadbiking'] <class 'list'>\n"
     ]
    }
   ],
   "source": [
    "## we can also use the split() method for this \n",
    "\n",
    "k= \"Kwaku and Agyei Went Quadbiking\"\n",
    "\n",
    "q= k.split()\n",
    "\n",
    "\n",
    "print(q, type(q))"
   ]
  },
  {
   "cell_type": "code",
   "execution_count": null,
   "id": "efd44e2a",
   "metadata": {},
   "outputs": [],
   "source": [
    "##here I am specifying the delimiter \n",
    "k= \"Kwaku, is, a, good big, boy\"\n",
    "\n",
    "i= k.split(\",\")"
   ]
  },
  {
   "cell_type": "code",
   "execution_count": 77,
   "id": "97417dd2",
   "metadata": {},
   "outputs": [
    {
     "data": {
      "text/plain": [
       "['Kwaku', ' is', ' a', ' good big', ' boy']"
      ]
     },
     "execution_count": 77,
     "metadata": {},
     "output_type": "execute_result"
    }
   ],
   "source": [
    "i"
   ]
  },
  {
   "cell_type": "markdown",
   "id": "248f70ea",
   "metadata": {},
   "source": [
    "## Objects vs Values \n",
    "\n",
    "- Tiny strings or values with no spaces or punctuation marks that are immutable share the same memory location (they get interned)\n",
    "\n",
    "- Longer strings or values (immutable) do not share the same memory location (they do not get intereded\n",
    "\n",
    "- Mutable data types in general do not get interned since they can get changed anytime"
   ]
  },
  {
   "cell_type": "code",
   "execution_count": 81,
   "id": "f4f22f06",
   "metadata": {},
   "outputs": [
    {
     "name": "stdout",
     "output_type": "stream",
     "text": [
      "0x1123d54a0\n",
      "0x1123d54a0\n",
      "0x114250f40\n",
      "0x114250e40\n"
     ]
    }
   ],
   "source": [
    "## this means:\n",
    "\n",
    "a= 'banana'\n",
    "\n",
    "b= 'banana'\n",
    "\n",
    "##These two share the same location in memory \n",
    "\n",
    "## however, \n",
    "\n",
    "c= [1,2,3]\n",
    "\n",
    "d=[1,2,3]\n",
    "\n",
    "print(hex(id(a)))\n",
    "print(hex(id(b)))\n",
    "print(hex(id(c)))\n",
    "print(hex(id(d)))"
   ]
  },
  {
   "cell_type": "markdown",
   "id": "a8931cf3",
   "metadata": {},
   "source": [
    "**In Summary:**\n",
    "\n",
    "- a and b are equivalent and idenitcal \n",
    "\n",
    "- c and d are equivalent but not identical "
   ]
  },
  {
   "cell_type": "code",
   "execution_count": 84,
   "id": "82cf5a8c",
   "metadata": {},
   "outputs": [
    {
     "name": "stdout",
     "output_type": "stream",
     "text": [
      "True False\n",
      "True True\n"
     ]
    }
   ],
   "source": [
    "print(a is b, c is d) ##checking for identicality \n",
    "\n",
    "print(a==b, c==d) ## checking for equivalence"
   ]
  },
  {
   "cell_type": "markdown",
   "id": "4493e75f",
   "metadata": {},
   "source": [
    "## Aliasing \n",
    "\n",
    "- This has to do with having two variables refer to the same object by equating (referencing) one to the other \n",
    "\n",
    "- An object with more than one reference is called an alias \n",
    "\n",
    "- If the object is immutable, then any changes made to one doesn't affect the other\n",
    "\n",
    "- If the object is mutable, then any changes made to one affect the other"
   ]
  },
  {
   "cell_type": "code",
   "execution_count": 85,
   "id": "1ad0532d",
   "metadata": {},
   "outputs": [],
   "source": [
    "a=b"
   ]
  },
  {
   "cell_type": "code",
   "execution_count": 88,
   "id": "298a7720",
   "metadata": {},
   "outputs": [
    {
     "name": "stdout",
     "output_type": "stream",
     "text": [
      "Chocolate banana\n"
     ]
    }
   ],
   "source": [
    "a= \"Chocolate\"\n",
    "\n",
    "print(a, b)\n"
   ]
  },
  {
   "cell_type": "code",
   "execution_count": 89,
   "id": "0794ebff",
   "metadata": {},
   "outputs": [],
   "source": [
    "c=d"
   ]
  },
  {
   "cell_type": "code",
   "execution_count": 90,
   "id": "04e7f2f4",
   "metadata": {},
   "outputs": [
    {
     "name": "stdout",
     "output_type": "stream",
     "text": [
      "['dog', 2, 3] ['dog', 2, 3]\n"
     ]
    }
   ],
   "source": [
    "c[0]= \"dog\"\n",
    "\n",
    "print(c,d)"
   ]
  },
  {
   "cell_type": "markdown",
   "id": "c3d83e49",
   "metadata": {},
   "source": [
    "In summary: \n",
    "\n",
    "- We can see for the strings object variables, after equating them, the changes made to one didn't affect the other \n",
    "\n",
    "- However, for the lists, the changes made to one affected the other "
   ]
  },
  {
   "cell_type": "markdown",
   "id": "db86aedf",
   "metadata": {},
   "source": [
    "## List Arguments\n",
    "\n",
    "- When you pass a list as an argument to a function, the list object and the parameter of the function gets aliased if we are mutating the list; however, if we are rebinding the list, they point to different objects in memory.\n",
    "\n",
    "- Operations that create a new list is known as `rebinding` and leaves the original unchanges. Operations that modify the current list is known as `mutation` and change the original\n",
    "\n",
    "\n"
   ]
  },
  {
   "cell_type": "code",
   "execution_count": 91,
   "id": "3af7330f",
   "metadata": {},
   "outputs": [],
   "source": [
    "t1= [1,2]\n",
    "\n",
    "t2= t1.append(3)"
   ]
  },
  {
   "cell_type": "code",
   "execution_count": null,
   "id": "953919be",
   "metadata": {},
   "outputs": [
    {
     "name": "stdout",
     "output_type": "stream",
     "text": [
      "[1, 2, 3] 0x11418aa80\n",
      "None 0x1066321a0\n"
     ]
    }
   ],
   "source": [
    "print(t1, hex(id(t1)))\n",
    "print(t2, hex(id(t2)))\n",
    "\n",
    "##therefore append mutates"
   ]
  },
  {
   "cell_type": "code",
   "execution_count": null,
   "id": "008f7e1b",
   "metadata": {},
   "outputs": [
    {
     "name": "stdout",
     "output_type": "stream",
     "text": [
      "[1, 2, 3, 4] 0x114044e40\n",
      "[1, 2, 3, 4] 0x114045c00\n",
      "[1, 2, 3, 4, 1, 2, 3, 4] 0x114046b00\n"
     ]
    }
   ],
   "source": [
    "t1= [1,2,3,4]\n",
    "\n",
    "t2= [1,2,3,4]\n",
    "\n",
    "t3= t1 + t2\n",
    "\n",
    "print(t1, hex(id(t1)))\n",
    "print(t2, hex(id(t2)))\n",
    "print(t3, hex(id(t3)))\n",
    "\n",
    "\n",
    "##therefore, addition of two lists is rebinding "
   ]
  },
  {
   "cell_type": "code",
   "execution_count": 101,
   "id": "ae5b99db",
   "metadata": {},
   "outputs": [],
   "source": [
    "def tail(t):\n",
    "    return t[1:]"
   ]
  },
  {
   "cell_type": "markdown",
   "id": "20b649e8",
   "metadata": {},
   "source": [
    "## Important Note:\n",
    "\n",
    "- Most list Methods return None and modify the argument (mutation)\n",
    "\n",
    "- Most string methods leave the original as it is and modifies the argument (rebinding )"
   ]
  },
  {
   "cell_type": "markdown",
   "id": "aec201d1",
   "metadata": {},
   "source": [
    "## Exercises:\n",
    "\n",
    "- Exercise 10-1.\n",
    "- Write a function called nested_sum that takes a list of lists of integers and adds up the elements from all of the nested lists. For example:\n",
    ">>> t = [[1, 2], [3], [4, 5, 6]]\n",
    ">>>nested_sum(t)\n",
    "21"
   ]
  },
  {
   "cell_type": "code",
   "execution_count": 169,
   "id": "40d03c02",
   "metadata": {},
   "outputs": [],
   "source": [
    "\n",
    "def nested_sum(t):\n",
    "    p=0\n",
    "    for value in t:\n",
    "        for items in value:\n",
    "            p= items +p\n",
    "    return p\n",
    "              \n",
    "  "
   ]
  },
  {
   "cell_type": "code",
   "execution_count": 170,
   "id": "4296267f",
   "metadata": {},
   "outputs": [],
   "source": [
    "t1= [[1, 2], [3], [4, 5, 6]]\n"
   ]
  },
  {
   "cell_type": "code",
   "execution_count": 171,
   "id": "3ae75451",
   "metadata": {},
   "outputs": [
    {
     "data": {
      "text/plain": [
       "21"
      ]
     },
     "execution_count": 171,
     "metadata": {},
     "output_type": "execute_result"
    }
   ],
   "source": [
    "nested_sum(t1)"
   ]
  },
  {
   "cell_type": "code",
   "execution_count": 131,
   "id": "cb53da45",
   "metadata": {},
   "outputs": [
    {
     "data": {
      "text/plain": [
       "range(0, 3)"
      ]
     },
     "execution_count": 131,
     "metadata": {},
     "output_type": "execute_result"
    }
   ],
   "source": [
    "range(len(t))"
   ]
  },
  {
   "cell_type": "code",
   "execution_count": null,
   "id": "1aeacde9",
   "metadata": {},
   "outputs": [
    {
     "data": {
      "text/plain": [
       "0"
      ]
     },
     "execution_count": 109,
     "metadata": {},
     "output_type": "execute_result"
    }
   ],
   "source": []
  },
  {
   "cell_type": "markdown",
   "id": "54436672",
   "metadata": {},
   "source": []
  }
 ],
 "metadata": {
  "kernelspec": {
   "display_name": ".venv",
   "language": "python",
   "name": "python3"
  },
  "language_info": {
   "codemirror_mode": {
    "name": "ipython",
    "version": 3
   },
   "file_extension": ".py",
   "mimetype": "text/x-python",
   "name": "python",
   "nbconvert_exporter": "python",
   "pygments_lexer": "ipython3",
   "version": "3.12.5"
  }
 },
 "nbformat": 4,
 "nbformat_minor": 5
}
