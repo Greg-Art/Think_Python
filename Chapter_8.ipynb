{
 "cells": [
  {
   "cell_type": "markdown",
   "id": "3c77ece2",
   "metadata": {},
   "source": [
    "# Strings"
   ]
  },
  {
   "cell_type": "markdown",
   "id": "bf44be8b",
   "metadata": {
    "vscode": {
     "languageId": "plaintext"
    }
   },
   "source": [
    "## A String Is A Sequence\n",
    "\n",
    "- A string is a sequence \n",
    "\n",
    "- You can access each letters of a string through slicing \n",
    "\n",
    "- In Python, we count from the offset (0)\n",
    "\n",
    "- To access each letter, the slicing number has to be a whole number and not a float. "
   ]
  },
  {
   "cell_type": "markdown",
   "id": "406891d1",
   "metadata": {
    "vscode": {
     "languageId": "plaintext"
    }
   },
   "source": [
    "## Len \n",
    "\n",
    "- we can use the len() function to determine what the length of a string is \n",
    "\n",
    "- However, you cannot use the total length to access the last element. "
   ]
  },
  {
   "cell_type": "code",
   "execution_count": 3,
   "id": "c8d80771",
   "metadata": {},
   "outputs": [
    {
     "name": "stdout",
     "output_type": "stream",
     "text": [
      "7\n"
     ]
    }
   ],
   "source": [
    "letter= \"Gregory\"\n",
    "\n",
    "length= len(letter)\n",
    "\n",
    "print(length)"
   ]
  },
  {
   "cell_type": "code",
   "execution_count": null,
   "id": "f6b75ae2",
   "metadata": {},
   "outputs": [
    {
     "ename": "IndexError",
     "evalue": "string index out of range",
     "output_type": "error",
     "traceback": [
      "\u001b[31m---------------------------------------------------------------------------\u001b[39m",
      "\u001b[31mIndexError\u001b[39m                                Traceback (most recent call last)",
      "\u001b[36mCell\u001b[39m\u001b[36m \u001b[39m\u001b[32mIn[5]\u001b[39m\u001b[32m, line 2\u001b[39m\n\u001b[32m      1\u001b[39m \u001b[38;5;66;03m## trying to access the last letter\u001b[39;00m\n\u001b[32m----> \u001b[39m\u001b[32m2\u001b[39m \u001b[43mletter\u001b[49m\u001b[43m[\u001b[49m\u001b[43mlength\u001b[49m\u001b[43m]\u001b[49m\n",
      "\u001b[31mIndexError\u001b[39m: string index out of range"
     ]
    }
   ],
   "source": [
    "## trying to access the last letter\n",
    "print(letter[length])"
   ]
  },
  {
   "cell_type": "code",
   "execution_count": null,
   "id": "20af223d",
   "metadata": {},
   "outputs": [
    {
     "name": "stdout",
     "output_type": "stream",
     "text": [
      "y\n",
      "y\n"
     ]
    }
   ],
   "source": [
    "## we will have to substract 1 from the length since it starts from zero \n",
    "print(letter[length-1])\n",
    "\n",
    "\n",
    "## or we can use the negative index to do so \n",
    "print(letter[-1])"
   ]
  },
  {
   "cell_type": "markdown",
   "id": "28304951",
   "metadata": {},
   "source": [
    "## Traversal with a for Loop\n",
    "\n",
    "- This has to do with accessing each element at a time in a string, and then doing something to it. "
   ]
  },
  {
   "cell_type": "code",
   "execution_count": 8,
   "id": "fc53fe16",
   "metadata": {},
   "outputs": [
    {
     "name": "stdout",
     "output_type": "stream",
     "text": [
      "b\n",
      "a\n",
      "n\n",
      "a\n",
      "n\n",
      "a\n"
     ]
    }
   ],
   "source": [
    "##we can use a while loop to write a traversal \n",
    "\n",
    "fruit= \"banana\"\n",
    "index = 0\n",
    "while index < len(fruit):\n",
    "    letter = fruit[index]\n",
    "    print(letter)\n",
    "    index = index + 1"
   ]
  },
  {
   "cell_type": "code",
   "execution_count": 19,
   "id": "1b1fbd50",
   "metadata": {},
   "outputs": [
    {
     "data": {
      "text/plain": [
       "'ananab'"
      ]
     },
     "execution_count": 19,
     "metadata": {},
     "output_type": "execute_result"
    }
   ],
   "source": [
    "fruit[::-1]"
   ]
  },
  {
   "cell_type": "code",
   "execution_count": 34,
   "id": "20c494e3",
   "metadata": {},
   "outputs": [],
   "source": [
    "## Exercise:\n",
    "\n",
    "## As an exercise, write a function that takes a string as an argument and displays the letters backward, one per line.\n",
    "\n",
    "\n",
    "def letter_backwards():\n",
    "    letter= input(\"Please enter your word\")\n",
    "    index= -1\n",
    "    while index >= -len(letter):\n",
    "        back= letter[index]\n",
    "        print(back)\n",
    "        index= index -1"
   ]
  },
  {
   "cell_type": "code",
   "execution_count": 35,
   "id": "2fede069",
   "metadata": {},
   "outputs": [
    {
     "name": "stdout",
     "output_type": "stream",
     "text": [
      "s\n",
      "e\n",
      "m\n",
      "a\n",
      "J\n"
     ]
    }
   ],
   "source": [
    "letter_backwards()"
   ]
  },
  {
   "cell_type": "code",
   "execution_count": 23,
   "id": "758de8ab",
   "metadata": {},
   "outputs": [
    {
     "name": "stdout",
     "output_type": "stream",
     "text": [
      "Jack\n",
      "Kack\n",
      "Lack\n",
      "Mack\n",
      "Nack\n",
      "Oack\n",
      "Pack\n",
      "Qack\n"
     ]
    }
   ],
   "source": [
    "prefixes = 'JKLMNOPQ'\n",
    "suffix = 'ack'\n",
    "for letter in prefixes:\n",
    "    print(letter + suffix)\n",
    "\n",
    "\n",
    "##fix the above code such that we get Ouack and Quack "
   ]
  },
  {
   "cell_type": "code",
   "execution_count": 24,
   "id": "57c67375",
   "metadata": {},
   "outputs": [
    {
     "name": "stdout",
     "output_type": "stream",
     "text": [
      "Jack\n",
      "Kack\n",
      "Lack\n",
      "Mack\n",
      "Nack\n",
      "Ouack\n",
      "Pack\n",
      "Quack\n"
     ]
    }
   ],
   "source": [
    "##fix\n",
    "\n",
    "for letter in prefixes:\n",
    "    if letter== \"O\" or letter==\"Q\":\n",
    "        print(letter + \"u\"+ suffix)\n",
    "    else: \n",
    "        print(letter + suffix)"
   ]
  },
  {
   "cell_type": "markdown",
   "id": "0789949e",
   "metadata": {},
   "source": [
    "## String Slices \n",
    "\n",
    "- This basically means we are access a chunk of a string\n",
    "\n",
    "- We use the square brackets to indicate this [start: end]\n",
    "\n",
    "- Usually the character at the index of the end doesn't get included, but the element of the first get included \n",
    "\n"
   ]
  },
  {
   "cell_type": "code",
   "execution_count": 27,
   "id": "57f2eea5",
   "metadata": {},
   "outputs": [
    {
     "data": {
      "text/plain": [
       "'Monty'"
      ]
     },
     "execution_count": 27,
     "metadata": {},
     "output_type": "execute_result"
    }
   ],
   "source": [
    "s= \"Monty Python\"\n",
    "\n",
    "s[0:5]"
   ]
  },
  {
   "cell_type": "markdown",
   "id": "62f21eca",
   "metadata": {},
   "source": [
    "## Properties to note: \n",
    "\n",
    "1. If the start value isn't included, the slicing starts from the beginning and stops at the index before the end value. e.g s[:5]\n",
    "\n",
    "2. If the end value isn't included, the slicing starts from the starting index and ends at the end of the string. e.g s[2:]\n",
    "\n",
    "3. If the starting index is greater than or equal to the ending index, you get an empty string \n",
    "\n",
    "4. If you give an empty range it returns the whole string "
   ]
  },
  {
   "cell_type": "code",
   "execution_count": 37,
   "id": "24ec4a1a",
   "metadata": {},
   "outputs": [
    {
     "data": {
      "text/plain": [
       "'Monty'"
      ]
     },
     "execution_count": 37,
     "metadata": {},
     "output_type": "execute_result"
    }
   ],
   "source": [
    "## let's try the above\n",
    "\n",
    "## point 1:\n",
    "\n",
    "s[:5]"
   ]
  },
  {
   "cell_type": "code",
   "execution_count": null,
   "id": "bd212a4d",
   "metadata": {},
   "outputs": [
    {
     "data": {
      "text/plain": [
       "'nty Python'"
      ]
     },
     "execution_count": 38,
     "metadata": {},
     "output_type": "execute_result"
    }
   ],
   "source": [
    "## second rule\n",
    "\n",
    "s[2:]"
   ]
  },
  {
   "cell_type": "code",
   "execution_count": null,
   "id": "374636aa",
   "metadata": {},
   "outputs": [
    {
     "data": {
      "text/plain": [
       "''"
      ]
     },
     "execution_count": 39,
     "metadata": {},
     "output_type": "execute_result"
    }
   ],
   "source": [
    "##Trying third rule\n",
    "s[5:2]"
   ]
  },
  {
   "cell_type": "code",
   "execution_count": 40,
   "id": "8d932323",
   "metadata": {},
   "outputs": [
    {
     "data": {
      "text/plain": [
       "'Monty Python'"
      ]
     },
     "execution_count": 40,
     "metadata": {},
     "output_type": "execute_result"
    }
   ],
   "source": [
    "## fourth rule \n",
    "\n",
    "s[:]"
   ]
  },
  {
   "cell_type": "markdown",
   "id": "6fbf3fed",
   "metadata": {},
   "source": [
    "## Strings are Immutable\n",
    "\n",
    "- What this means is that we cannot change the value of a string \n",
    "\n",
    "- We can only create a new string with a variation of the old one \n",
    "\n"
   ]
  },
  {
   "cell_type": "markdown",
   "id": "af2cd703",
   "metadata": {},
   "source": [
    "## Searching\n",
    "\n",
    "- We can use the code below to find the index of letters from a given word. "
   ]
  },
  {
   "cell_type": "code",
   "execution_count": 48,
   "id": "bae27655",
   "metadata": {},
   "outputs": [],
   "source": [
    "import time \n",
    "\n",
    "time= time.time()"
   ]
  },
  {
   "cell_type": "code",
   "execution_count": 49,
   "id": "90e8fbf6",
   "metadata": {},
   "outputs": [
    {
     "name": "stdout",
     "output_type": "stream",
     "text": [
      "CPU times: user 6 μs, sys: 1 μs, total: 7 μs\n",
      "Wall time: 14.1 μs\n"
     ]
    }
   ],
   "source": [
    "%%time\n",
    "def find(word, letter):\n",
    "    index = 0\n",
    "    while index < len(word):\n",
    "        if word[index] == letter:\n",
    "            return index\n",
    "        index = index + 1\n",
    "    return -1"
   ]
  },
  {
   "cell_type": "code",
   "execution_count": 50,
   "id": "861a483a",
   "metadata": {},
   "outputs": [
    {
     "name": "stdout",
     "output_type": "stream",
     "text": [
      "CPU times: user 4 μs, sys: 0 ns, total: 4 μs\n",
      "Wall time: 6.91 μs\n"
     ]
    },
    {
     "data": {
      "text/plain": [
       "2"
      ]
     },
     "execution_count": 50,
     "metadata": {},
     "output_type": "execute_result"
    }
   ],
   "source": [
    "%%time\n",
    "find(\"James\", \"m\")"
   ]
  },
  {
   "cell_type": "code",
   "execution_count": 52,
   "id": "500fea27",
   "metadata": {},
   "outputs": [],
   "source": [
    "## As an exercise, modify find so that it has a third parameter: the index in word where it should start looking.\n",
    "\n",
    "def find(word, letter, starting_index):\n",
    "    starting_index = starting_index\n",
    "    while starting_index < len(word):\n",
    "        if word[starting_index] == letter:\n",
    "            return starting_index\n",
    "        starting_index = starting_index + 1\n",
    "    return -1"
   ]
  },
  {
   "cell_type": "code",
   "execution_count": 53,
   "id": "c3f9f5c5",
   "metadata": {},
   "outputs": [
    {
     "name": "stdout",
     "output_type": "stream",
     "text": [
      "CPU times: user 7 μs, sys: 0 ns, total: 7 μs\n",
      "Wall time: 10.7 μs\n"
     ]
    },
    {
     "data": {
      "text/plain": [
       "2"
      ]
     },
     "execution_count": 53,
     "metadata": {},
     "output_type": "execute_result"
    }
   ],
   "source": [
    "%%time\n",
    "find(\"James\", \"m\", 1)"
   ]
  },
  {
   "cell_type": "markdown",
   "id": "0c2e7ff9",
   "metadata": {},
   "source": [
    "## Looping and Counting \n",
    "\n",
    "- Basically we can leverage for loops to count the number of letters in a word. "
   ]
  },
  {
   "cell_type": "code",
   "execution_count": 54,
   "id": "1b3f8360",
   "metadata": {},
   "outputs": [
    {
     "name": "stdout",
     "output_type": "stream",
     "text": [
      "3\n"
     ]
    }
   ],
   "source": [
    "## e.g: The code below counts the number of times the letter a appears in the word banana\n",
    "\n",
    "word = 'banana'\n",
    "count = 0\n",
    "for letter in word:\n",
    "    if letter == 'a':\n",
    "        count = count + 1\n",
    "print(count)"
   ]
  },
  {
   "cell_type": "code",
   "execution_count": null,
   "id": "6ee02375",
   "metadata": {},
   "outputs": [],
   "source": [
    "## As an exercise, encapsulate this code in a function named count, and generalize it so that it accepts the string and the letter as arguments.\n",
    "\n",
    "def count():\n",
    "    word= input(\"Please enter the word: \")\n",
    "    User_letter= input(\"Please enter the letter: \")\n",
    "    count = 0\n",
    "    for letter in word:\n",
    "        if letter == User_letter:\n",
    "            count = count + 1\n",
    "    print(count)"
   ]
  },
  {
   "cell_type": "code",
   "execution_count": 69,
   "id": "bbf5bb79",
   "metadata": {},
   "outputs": [
    {
     "name": "stdout",
     "output_type": "stream",
     "text": [
      "0\n"
     ]
    }
   ],
   "source": [
    "count()"
   ]
  },
  {
   "cell_type": "markdown",
   "id": "76ce26f1",
   "metadata": {},
   "source": [
    "## String Methods\n",
    "\n",
    "- Strings often comes with various methods to help us perform operations on our string\n",
    "\n",
    "- E.g: .upper(), .find()"
   ]
  },
  {
   "cell_type": "markdown",
   "id": "c3f2a407",
   "metadata": {},
   "source": [
    "## The in Operator \n",
    "\n",
    "- This operator allows us to compare if the first string provided as an argument appears in the second string argument and returns a boolean answer"
   ]
  },
  {
   "cell_type": "code",
   "execution_count": null,
   "id": "0fb66308",
   "metadata": {},
   "outputs": [
    {
     "data": {
      "text/plain": [
       "True"
      ]
     },
     "execution_count": 71,
     "metadata": {},
     "output_type": "execute_result"
    }
   ],
   "source": [
    "\n",
    "\"K\" in \"Kwaku\""
   ]
  },
  {
   "cell_type": "markdown",
   "id": "df04b6bc",
   "metadata": {},
   "source": [
    "## String Comparison\n",
    "\n",
    "- Python strings work well with operators such as ==, <,  >, !\n",
    "\n",
    "- Python ranks uppercase words come before lowercase ones"
   ]
  },
  {
   "cell_type": "code",
   "execution_count": 74,
   "id": "948bbe6c",
   "metadata": {},
   "outputs": [
    {
     "data": {
      "text/plain": [
       "True"
      ]
     },
     "execution_count": 74,
     "metadata": {},
     "output_type": "execute_result"
    }
   ],
   "source": [
    "##example \n",
    "\n",
    "\"Kwaku\" < \"kwaku\""
   ]
  },
  {
   "cell_type": "code",
   "execution_count": null,
   "id": "94b885c4",
   "metadata": {},
   "outputs": [],
   "source": []
  },
  {
   "cell_type": "markdown",
   "id": "9b819b99",
   "metadata": {},
   "source": []
  }
 ],
 "metadata": {
  "kernelspec": {
   "display_name": ".venv",
   "language": "python",
   "name": "python3"
  },
  "language_info": {
   "codemirror_mode": {
    "name": "ipython",
    "version": 3
   },
   "file_extension": ".py",
   "mimetype": "text/x-python",
   "name": "python",
   "nbconvert_exporter": "python",
   "pygments_lexer": "ipython3",
   "version": "3.12.5"
  }
 },
 "nbformat": 4,
 "nbformat_minor": 5
}
