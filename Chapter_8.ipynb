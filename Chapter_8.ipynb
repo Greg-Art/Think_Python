{
 "cells": [
  {
   "cell_type": "markdown",
   "id": "3c77ece2",
   "metadata": {},
   "source": [
    "# Strings"
   ]
  },
  {
   "cell_type": "markdown",
   "id": "bf44be8b",
   "metadata": {
    "vscode": {
     "languageId": "plaintext"
    }
   },
   "source": [
    "## A String Is A Sequence\n",
    "\n",
    "- A string is a sequence \n",
    "\n",
    "- You can access each letters of a string through slicing \n",
    "\n",
    "- In Python, we count from the offset (0)\n",
    "\n",
    "- To access each letter, the slicing number has to be a whole number and not a float. "
   ]
  },
  {
   "cell_type": "markdown",
   "id": "406891d1",
   "metadata": {
    "vscode": {
     "languageId": "plaintext"
    }
   },
   "source": [
    "## Len \n",
    "\n",
    "- we can use the len() function to determine what the length of a string is \n",
    "\n",
    "- However, you cannot use the total length to access the last element. "
   ]
  },
  {
   "cell_type": "code",
   "execution_count": 3,
   "id": "c8d80771",
   "metadata": {},
   "outputs": [
    {
     "name": "stdout",
     "output_type": "stream",
     "text": [
      "7\n"
     ]
    }
   ],
   "source": [
    "letter= \"Gregory\"\n",
    "\n",
    "length= len(letter)\n",
    "\n",
    "print(length)"
   ]
  },
  {
   "cell_type": "code",
   "execution_count": null,
   "id": "f6b75ae2",
   "metadata": {},
   "outputs": [
    {
     "ename": "IndexError",
     "evalue": "string index out of range",
     "output_type": "error",
     "traceback": [
      "\u001b[31m---------------------------------------------------------------------------\u001b[39m",
      "\u001b[31mIndexError\u001b[39m                                Traceback (most recent call last)",
      "\u001b[36mCell\u001b[39m\u001b[36m \u001b[39m\u001b[32mIn[5]\u001b[39m\u001b[32m, line 2\u001b[39m\n\u001b[32m      1\u001b[39m \u001b[38;5;66;03m## trying to access the last letter\u001b[39;00m\n\u001b[32m----> \u001b[39m\u001b[32m2\u001b[39m \u001b[43mletter\u001b[49m\u001b[43m[\u001b[49m\u001b[43mlength\u001b[49m\u001b[43m]\u001b[49m\n",
      "\u001b[31mIndexError\u001b[39m: string index out of range"
     ]
    }
   ],
   "source": [
    "## trying to access the last letter\n",
    "print(letter[length])"
   ]
  },
  {
   "cell_type": "code",
   "execution_count": null,
   "id": "20af223d",
   "metadata": {},
   "outputs": [
    {
     "name": "stdout",
     "output_type": "stream",
     "text": [
      "y\n",
      "y\n"
     ]
    }
   ],
   "source": [
    "## we will have to substract 1 from the length since it starts from zero \n",
    "print(letter[length-1])\n",
    "\n",
    "\n",
    "## or we can use the negative index to do so \n",
    "print(letter[-1])"
   ]
  },
  {
   "cell_type": "markdown",
   "id": "28304951",
   "metadata": {},
   "source": [
    "## Traversal with a for Loop\n",
    "\n",
    "- This has to do with accessing each element at a time in a string, and then doing something to it. "
   ]
  },
  {
   "cell_type": "code",
   "execution_count": 8,
   "id": "fc53fe16",
   "metadata": {},
   "outputs": [
    {
     "name": "stdout",
     "output_type": "stream",
     "text": [
      "b\n",
      "a\n",
      "n\n",
      "a\n",
      "n\n",
      "a\n"
     ]
    }
   ],
   "source": [
    "##we can use a while loop to write a traversal \n",
    "\n",
    "fruit= \"banana\"\n",
    "index = 0\n",
    "while index < len(fruit):\n",
    "    letter = fruit[index]\n",
    "    print(letter)\n",
    "    index = index + 1"
   ]
  },
  {
   "cell_type": "code",
   "execution_count": 19,
   "id": "1b1fbd50",
   "metadata": {},
   "outputs": [
    {
     "data": {
      "text/plain": [
       "'ananab'"
      ]
     },
     "execution_count": 19,
     "metadata": {},
     "output_type": "execute_result"
    }
   ],
   "source": [
    "fruit[::-1]"
   ]
  },
  {
   "cell_type": "code",
   "execution_count": 34,
   "id": "20c494e3",
   "metadata": {},
   "outputs": [],
   "source": [
    "## Exercise:\n",
    "\n",
    "## As an exercise, write a function that takes a string as an argument and displays the letters backward, one per line.\n",
    "\n",
    "\n",
    "def letter_backwards():\n",
    "    letter= input(\"Please enter your word\")\n",
    "    index= -1\n",
    "    while index >= -len(letter):\n",
    "        back= letter[index]\n",
    "        print(back)\n",
    "        index= index -1"
   ]
  },
  {
   "cell_type": "code",
   "execution_count": 35,
   "id": "2fede069",
   "metadata": {},
   "outputs": [
    {
     "name": "stdout",
     "output_type": "stream",
     "text": [
      "s\n",
      "e\n",
      "m\n",
      "a\n",
      "J\n"
     ]
    }
   ],
   "source": [
    "letter_backwards()"
   ]
  },
  {
   "cell_type": "code",
   "execution_count": 23,
   "id": "758de8ab",
   "metadata": {},
   "outputs": [
    {
     "name": "stdout",
     "output_type": "stream",
     "text": [
      "Jack\n",
      "Kack\n",
      "Lack\n",
      "Mack\n",
      "Nack\n",
      "Oack\n",
      "Pack\n",
      "Qack\n"
     ]
    }
   ],
   "source": [
    "prefixes = 'JKLMNOPQ'\n",
    "suffix = 'ack'\n",
    "for letter in prefixes:\n",
    "    print(letter + suffix)\n",
    "\n",
    "\n",
    "##fix the above code such that we get Ouack and Quack "
   ]
  },
  {
   "cell_type": "code",
   "execution_count": 24,
   "id": "57c67375",
   "metadata": {},
   "outputs": [
    {
     "name": "stdout",
     "output_type": "stream",
     "text": [
      "Jack\n",
      "Kack\n",
      "Lack\n",
      "Mack\n",
      "Nack\n",
      "Ouack\n",
      "Pack\n",
      "Quack\n"
     ]
    }
   ],
   "source": [
    "##fix\n",
    "\n",
    "for letter in prefixes:\n",
    "    if letter== \"O\" or letter==\"Q\":\n",
    "        print(letter + \"u\"+ suffix)\n",
    "    else: \n",
    "        print(letter + suffix)"
   ]
  },
  {
   "cell_type": "markdown",
   "id": "0789949e",
   "metadata": {},
   "source": [
    "## String Slices \n",
    "\n",
    "- This basically means we are access a chunk of a string\n",
    "\n",
    "- We use the square brackets to indicate this [start: end]\n",
    "\n",
    "- Usually the character at the index of the end doesn't get included, but the element of the first get included \n",
    "\n"
   ]
  },
  {
   "cell_type": "code",
   "execution_count": 27,
   "id": "57f2eea5",
   "metadata": {},
   "outputs": [
    {
     "data": {
      "text/plain": [
       "'Monty'"
      ]
     },
     "execution_count": 27,
     "metadata": {},
     "output_type": "execute_result"
    }
   ],
   "source": [
    "s= \"Monty Python\"\n",
    "\n",
    "s[0:5]"
   ]
  },
  {
   "cell_type": "markdown",
   "id": "62f21eca",
   "metadata": {},
   "source": [
    "## Properties to note: \n",
    "\n",
    "1. If the start value isn't included, the slicing starts from the beginning and stops at the index before the end value. e.g s[:5]\n",
    "\n",
    "2. If the end value isn't included, the slicing starts from the starting index and ends at the end of the string. e.g s[2:]\n",
    "\n",
    "3. If the starting index is greater than or equal to the ending index, you get an empty string \n",
    "\n",
    "4. If you give an empty range it returns the whole string "
   ]
  },
  {
   "cell_type": "code",
   "execution_count": 37,
   "id": "24ec4a1a",
   "metadata": {},
   "outputs": [
    {
     "data": {
      "text/plain": [
       "'Monty'"
      ]
     },
     "execution_count": 37,
     "metadata": {},
     "output_type": "execute_result"
    }
   ],
   "source": [
    "## let's try the above\n",
    "\n",
    "## point 1:\n",
    "\n",
    "s[:5]"
   ]
  },
  {
   "cell_type": "code",
   "execution_count": null,
   "id": "bd212a4d",
   "metadata": {},
   "outputs": [
    {
     "data": {
      "text/plain": [
       "'nty Python'"
      ]
     },
     "execution_count": 38,
     "metadata": {},
     "output_type": "execute_result"
    }
   ],
   "source": [
    "## second rule\n",
    "\n",
    "s[2:]"
   ]
  },
  {
   "cell_type": "code",
   "execution_count": null,
   "id": "374636aa",
   "metadata": {},
   "outputs": [
    {
     "data": {
      "text/plain": [
       "''"
      ]
     },
     "execution_count": 39,
     "metadata": {},
     "output_type": "execute_result"
    }
   ],
   "source": [
    "##Trying third rule\n",
    "s[5:2]"
   ]
  },
  {
   "cell_type": "code",
   "execution_count": 40,
   "id": "8d932323",
   "metadata": {},
   "outputs": [
    {
     "data": {
      "text/plain": [
       "'Monty Python'"
      ]
     },
     "execution_count": 40,
     "metadata": {},
     "output_type": "execute_result"
    }
   ],
   "source": [
    "## fourth rule \n",
    "\n",
    "s[:]"
   ]
  },
  {
   "cell_type": "markdown",
   "id": "6fbf3fed",
   "metadata": {},
   "source": [
    "## Strings are Immutable\n",
    "\n"
   ]
  },
  {
   "cell_type": "code",
   "execution_count": null,
   "id": "af2cd703",
   "metadata": {},
   "outputs": [],
   "source": []
  }
 ],
 "metadata": {
  "kernelspec": {
   "display_name": ".venv",
   "language": "python",
   "name": "python3"
  },
  "language_info": {
   "codemirror_mode": {
    "name": "ipython",
    "version": 3
   },
   "file_extension": ".py",
   "mimetype": "text/x-python",
   "name": "python",
   "nbconvert_exporter": "python",
   "pygments_lexer": "ipython3",
   "version": "3.12.5"
  }
 },
 "nbformat": 4,
 "nbformat_minor": 5
}
