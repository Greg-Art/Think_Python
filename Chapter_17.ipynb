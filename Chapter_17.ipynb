{
 "cells": [
  {
   "cell_type": "markdown",
   "id": "d479f26a",
   "metadata": {},
   "source": [
    "# Classes and Methods \n",
    "\n",
    "- A method is a function belonging to a specific class\n",
    "\n",
    "- They are defined inside the class definition to make the relationship between the class and the method explicit \n",
    "\n",
    "- The syntax for invoking a method is different from the syntax for calling a function\n",
    "\n"
   ]
  },
  {
   "cell_type": "markdown",
   "id": "8f01eb14",
   "metadata": {
    "vscode": {
     "languageId": "plaintext"
    }
   },
   "source": [
    "## Printing Objects "
   ]
  },
  {
   "cell_type": "code",
   "execution_count": 82,
   "id": "f9f44ec0",
   "metadata": {},
   "outputs": [],
   "source": [
    "class Time:\n",
    "    \"Represents the time of the day\"\n",
    "    def print_time(time): ## we are defining a method  inside the class \n",
    "        print(\"%.2d:%.2d:%.2d\" % (time.hour, time.minute, time.second)) \n"
   ]
  },
  {
   "cell_type": "markdown",
   "id": "b5d77e45",
   "metadata": {},
   "source": [
    "We can call the print_time method in two ways:\n",
    "\n",
    "- By using creating an instance and using the dot notation to call the method from the instance. eng: instance.print_time\n",
    "\n",
    "- We can also call it from the class using the dot operator and pass the instace as an argument"
   ]
  },
  {
   "cell_type": "code",
   "execution_count": 83,
   "id": "1fd94b3d",
   "metadata": {},
   "outputs": [
    {
     "name": "stdout",
     "output_type": "stream",
     "text": [
      "09:45:00\n"
     ]
    }
   ],
   "source": [
    "##calling the class, and calling the print_time method \n",
    "Time.print_time(start)"
   ]
  },
  {
   "cell_type": "code",
   "execution_count": null,
   "id": "8790cb9c",
   "metadata": {},
   "outputs": [],
   "source": []
  },
  {
   "cell_type": "code",
   "execution_count": 85,
   "id": "8814ce31",
   "metadata": {},
   "outputs": [
    {
     "name": "stdout",
     "output_type": "stream",
     "text": [
      "09:45:00\n"
     ]
    }
   ],
   "source": [
    "##alternative of calling the print_time method \n",
    "\n",
    "start.print_time()"
   ]
  },
  {
   "cell_type": "markdown",
   "id": "6a493106",
   "metadata": {},
   "source": [
    "As an exercise, rewrite time_to_int (from “Prototyping versus Planning” on page\n",
    "190) as a method. "
   ]
  },
  {
   "cell_type": "code",
   "execution_count": 86,
   "id": "a1b51a61",
   "metadata": {},
   "outputs": [],
   "source": [
    "def time_to_int(time):\n",
    "    minutes = time.hour * 60 + time.minute\n",
    "    seconds = minutes * 60 + time.second\n",
    "    return seconds"
   ]
  },
  {
   "cell_type": "code",
   "execution_count": 88,
   "id": "b57bbafb",
   "metadata": {},
   "outputs": [],
   "source": [
    "class Time_int:\n",
    "    def time_to_int(self):\n",
    "        minutes = self.hour * 60 + self.minute\n",
    "        seconds = minutes * 60 + self.second\n",
    "        return seconds"
   ]
  },
  {
   "cell_type": "code",
   "execution_count": 89,
   "id": "62ab4d60",
   "metadata": {},
   "outputs": [],
   "source": [
    "time_int= Time_int()\n",
    "time_int.hour= 20\n",
    "time_int.minute= 59\n",
    "time_int.second= 45"
   ]
  },
  {
   "cell_type": "code",
   "execution_count": 90,
   "id": "4414ebcf",
   "metadata": {},
   "outputs": [
    {
     "data": {
      "text/plain": [
       "75585"
      ]
     },
     "execution_count": 90,
     "metadata": {},
     "output_type": "execute_result"
    }
   ],
   "source": [
    "##calling the time to int function\n",
    "time_int.time_to_int()"
   ]
  },
  {
   "cell_type": "markdown",
   "id": "70f8cc11",
   "metadata": {},
   "source": [
    "### Another Example"
   ]
  },
  {
   "cell_type": "code",
   "execution_count": 120,
   "id": "face5992",
   "metadata": {},
   "outputs": [],
   "source": [
    " ##this method converts time to int \n",
    "def int_to_time(seconds):\n",
    "    t = Time()                             \n",
    "    minutes, t.second = divmod(seconds, 60)\n",
    "    t.hour,   t.minute = divmod(minutes,   60)\n",
    "    return t\n",
    "\n"
   ]
  },
  {
   "cell_type": "code",
   "execution_count": 132,
   "id": "f85a8ad1",
   "metadata": {},
   "outputs": [],
   "source": [
    "class Time:\n",
    "\n",
    "    \"Represents the time of the day\"\n",
    "    \n",
    "\n",
    "    def time_to_int(self):\n",
    "        minutes = self.hour * 60 + self.minute\n",
    "        seconds = minutes * 60 + self.second\n",
    "        return seconds\n",
    "\n",
    "    ##this method increases a time variable \n",
    "\n",
    "    def increment(self, seconds):\n",
    "        seconds += self.time_to_int()\n",
    "        return int_to_time(seconds)\n",
    "\n",
    "\n",
    "    ##this method prints out the time in  a formatted wat\n",
    "    def print_time(self): ## we are defining a method  inside the class \n",
    "        print(\"%.2d:%.2d:%.2d\" % (self.hour, self.minute, self.second)) \n"
   ]
  },
  {
   "cell_type": "code",
   "execution_count": 133,
   "id": "6fbe61f8",
   "metadata": {},
   "outputs": [],
   "source": [
    "##creating an instance of the time class \n",
    "start = Time()\n",
    "start.hour = 9\n",
    "start.minute = 45\n",
    "start.second = 00"
   ]
  },
  {
   "cell_type": "code",
   "execution_count": 134,
   "id": "8e83fe8c",
   "metadata": {},
   "outputs": [
    {
     "name": "stdout",
     "output_type": "stream",
     "text": [
      "09:45:00\n"
     ]
    }
   ],
   "source": [
    "start.print_time()"
   ]
  },
  {
   "cell_type": "code",
   "execution_count": 135,
   "id": "70934095",
   "metadata": {},
   "outputs": [
    {
     "name": "stdout",
     "output_type": "stream",
     "text": [
      "09:51:40\n"
     ]
    }
   ],
   "source": [
    "end= start.increment(400)\n",
    "\n",
    "end.print_time()"
   ]
  },
  {
   "cell_type": "markdown",
   "id": "4a68dfe4",
   "metadata": {},
   "source": []
  },
  {
   "cell_type": "markdown",
   "id": "22a38993",
   "metadata": {},
   "source": [
    "## A More Complicated Example "
   ]
  },
  {
   "cell_type": "code",
   "execution_count": null,
   "id": "a499ba71",
   "metadata": {},
   "outputs": [],
   "source": [
    "class Time:\n",
    "\n",
    "        \"Represents the time of the day\"\n",
    "\n",
    "    def time_to_int(self):\n",
    "        minutes = self.hour * 60 + self.minute\n",
    "        seconds = minutes * 60 + self.second\n",
    "        return seconds\n",
    "\n",
    "    ##this method increases a time variable \n",
    "\n",
    "    def increment(self, seconds):\n",
    "        seconds += self.time_to_int()\n",
    "        return int_to_time(seconds)\n",
    "\n",
    "\n",
    "    ##this method prints out the time in  a formatted wat\n",
    "    def print_time(self): ## we are defining a method  inside the class \n",
    "        print(\"%.2d:%.2d:%.2d\" % (self.hour, self.minute, self.second)) \n",
    "\n",
    "    \n",
    "    ##checking if one time comes before the other \n",
    "\n",
    "    def is_after(self, other):\n",
    "        return self.time_to_int() > other.time_to_int()"
   ]
  },
  {
   "cell_type": "code",
   "execution_count": 142,
   "id": "f48f52b3",
   "metadata": {},
   "outputs": [],
   "source": [
    "start = Time()\n",
    "start.hour = 9\n",
    "start.minute = 45\n",
    "start.second = 0\n",
    "\n",
    "end = start.increment(1337)\n"
   ]
  },
  {
   "cell_type": "code",
   "execution_count": 145,
   "id": "d0a3b04a",
   "metadata": {},
   "outputs": [
    {
     "name": "stdout",
     "output_type": "stream",
     "text": [
      "False\n",
      "True\n"
     ]
    }
   ],
   "source": [
    "print(start.is_after(end))\n",
    "\n",
    "print(end.is_after(start))"
   ]
  },
  {
   "cell_type": "markdown",
   "id": "ce3351c6",
   "metadata": {},
   "source": [
    "## The init Method \n",
    "\n",
    "- This is a special method that gets invoked when an object is initiated "
   ]
  },
  {
   "cell_type": "code",
   "execution_count": 153,
   "id": "5665af36",
   "metadata": {},
   "outputs": [],
   "source": [
    "class Time:\n",
    "    \"Represents the time of the day\"\n",
    "\n",
    "    def __init__(self, hour=0, minute=0, second=0):\n",
    "        self.hour = hour\n",
    "        self.minute = minute\n",
    "        self.second = second\n",
    "\n",
    "    def time_to_int(self):\n",
    "        minutes = self.hour * 60 + self.minute\n",
    "        seconds = minutes * 60 + self.second\n",
    "        return seconds\n",
    "\n",
    "    ## this method increases a time variable \n",
    "    def increment(self, seconds):\n",
    "        seconds += self.time_to_int()\n",
    "        return int_to_time(seconds)\n",
    "\n",
    "    ## this method prints out the time in a formatted way\n",
    "    def print_time(self):\n",
    "        print(\"%.2d:%.2d:%.2d\" % (self.hour, self.minute, self.second))\n",
    "\n",
    "    ## checking if one time comes before the other \n",
    "    def is_after(self, other):\n",
    "        return self.time_to_int() > other.time_to_int()\n"
   ]
  },
  {
   "cell_type": "code",
   "execution_count": 155,
   "id": "54e7917b",
   "metadata": {},
   "outputs": [
    {
     "name": "stdout",
     "output_type": "stream",
     "text": [
      "00:00:00\n"
     ]
    }
   ],
   "source": [
    "time= Time()\n",
    "\n",
    "time.print_time()"
   ]
  },
  {
   "cell_type": "code",
   "execution_count": 157,
   "id": "bc0263b8",
   "metadata": {},
   "outputs": [
    {
     "name": "stdout",
     "output_type": "stream",
     "text": [
      "09:10:45\n"
     ]
    }
   ],
   "source": [
    "time= Time(9,10,45)\n",
    "\n",
    "time.print_time()"
   ]
  },
  {
   "cell_type": "markdown",
   "id": "e6dd17fc",
   "metadata": {},
   "source": [
    "As an exercise, write an init method for the Point class that takes x and y as optional\n",
    "parameters and assigns them to the corresponding attributes.\n"
   ]
  },
  {
   "cell_type": "code",
   "execution_count": 174,
   "id": "94c4595c",
   "metadata": {},
   "outputs": [],
   "source": [
    "class Point:\n",
    "\n",
    "    def __init__(self, x=0, y=0):\n",
    "        self.x= x \n",
    "        self.y= y "
   ]
  },
  {
   "cell_type": "code",
   "execution_count": 176,
   "id": "af884786",
   "metadata": {},
   "outputs": [
    {
     "name": "stdout",
     "output_type": "stream",
     "text": [
      "<__main__.Point object at 0x10b8f7680>\n"
     ]
    }
   ],
   "source": [
    "p= Point()\n",
    "\n",
    "print(p)"
   ]
  },
  {
   "cell_type": "markdown",
   "id": "d01769f2",
   "metadata": {},
   "source": [
    "## The `str` Method \n",
    "\n",
    "- This is another special method like the init method\n",
    "\n",
    "- It returns a string representation of an object "
   ]
  },
  {
   "cell_type": "code",
   "execution_count": 163,
   "id": "0a10ab81",
   "metadata": {},
   "outputs": [],
   "source": [
    "class Time:\n",
    "    \"Represents the time of the day\"\n",
    "\n",
    "    def __init__(self, hour=0, minute=0, second=0):\n",
    "        self.hour = hour\n",
    "        self.minute = minute\n",
    "        self.second = second\n",
    "\n",
    "    def time_to_int(self):\n",
    "        minutes = self.hour * 60 + self.minute\n",
    "        seconds = minutes * 60 + self.second\n",
    "        return seconds\n",
    "\n",
    "    ## this method increases a time variable \n",
    "    def increment(self, seconds):\n",
    "        seconds += self.time_to_int()\n",
    "        return int_to_time(seconds)\n",
    "\n",
    "    ## this method prints out the time in a formatted way\n",
    "    def __str__(self): ## <----\n",
    "        return \"%.2d:%.2d:%.2d\" % (self.hour, self.minute, self.second)\n",
    "\n",
    "    ## checking if one time comes before the other \n",
    "    def is_after(self, other):\n",
    "        return self.time_to_int() > other.time_to_int()"
   ]
  },
  {
   "cell_type": "markdown",
   "id": "74822688",
   "metadata": {},
   "source": [
    "- in the above code, we change `def print_time` to `def __str__(self)`"
   ]
  },
  {
   "cell_type": "markdown",
   "id": "a9273090",
   "metadata": {},
   "source": [
    "As an exercise, write a str method for the Point class. Create a Point object and print\n",
    "it."
   ]
  },
  {
   "cell_type": "code",
   "execution_count": 168,
   "id": "1890a906",
   "metadata": {},
   "outputs": [],
   "source": [
    "class Point:\n",
    "\n",
    "    def __init__(self, x=0, y=0):\n",
    "        self.x= x \n",
    "        self.y= y \n",
    "    \n",
    "    def __str__(self):\n",
    "        return \"(%g, %g)\" %(self.x, self.y)"
   ]
  },
  {
   "cell_type": "code",
   "execution_count": 172,
   "id": "5be1fe45",
   "metadata": {},
   "outputs": [
    {
     "name": "stdout",
     "output_type": "stream",
     "text": [
      "(0, 0)\n"
     ]
    }
   ],
   "source": [
    "pp= Point()\n",
    "\n",
    "print(pp)"
   ]
  },
  {
   "cell_type": "markdown",
   "id": "bb407e0a",
   "metadata": {},
   "source": [
    "## Operator Overloading\n",
    "\n",
    "- This chapter indicates how we can create our own special methods \n",
    "\n",
    "- We will be add a special method known as `add` to the class TIme"
   ]
  },
  {
   "cell_type": "code",
   "execution_count": 180,
   "id": "c56e4f5f",
   "metadata": {},
   "outputs": [],
   "source": [
    "class Time:\n",
    "    \"Represents the time of the day\"\n",
    "\n",
    "    def __init__(self, hour=0, minute=0, second=0):\n",
    "        self.hour = hour\n",
    "        self.minute = minute\n",
    "        self.second = second\n",
    "\n",
    "    def time_to_int(self):\n",
    "        minutes = self.hour * 60 + self.minute\n",
    "        seconds = minutes * 60 + self.second\n",
    "        return seconds\n",
    "\n",
    "    ## this method increases a time variable \n",
    "    def increment(self, seconds):\n",
    "        seconds += self.time_to_int()\n",
    "        return int_to_time(seconds)\n",
    "\n",
    "    ## this method prints out the time in a formatted way\n",
    "    def __str__(self): ## <----\n",
    "        return \"%.2d:%.2d:%.2d\" % (self.hour, self.minute, self.second)\n",
    "\n",
    "    ## checking if one time comes before the other \n",
    "    def is_after(self, other):\n",
    "        return self.time_to_int() > other.time_to_int()\n",
    "\n",
    "    def __add__(self, other):\n",
    "        seconds= self.time_to_int() + other.time_to_int()\n",
    "        return int_to_time(seconds)"
   ]
  },
  {
   "cell_type": "markdown",
   "id": "7f23de93",
   "metadata": {},
   "source": []
  },
  {
   "cell_type": "code",
   "execution_count": 182,
   "id": "de9b5623",
   "metadata": {},
   "outputs": [
    {
     "name": "stdout",
     "output_type": "stream",
     "text": [
      "09:45:00 01:35:00\n",
      "11:20:00\n"
     ]
    }
   ],
   "source": [
    "start= Time(9,45)\n",
    "duration= Time(1, 35)\n",
    "\n",
    "print(start, duration)\n",
    "print(start + duration)"
   ]
  },
  {
   "cell_type": "markdown",
   "id": "0b0f5bc4",
   "metadata": {},
   "source": [
    "- As an exercise, write an add method for the Point class."
   ]
  },
  {
   "cell_type": "code",
   "execution_count": 183,
   "id": "c8613bbd",
   "metadata": {},
   "outputs": [],
   "source": [
    "import math"
   ]
  },
  {
   "cell_type": "code",
   "execution_count": 188,
   "id": "f0d4f564",
   "metadata": {},
   "outputs": [],
   "source": [
    "class Point:\n",
    "\n",
    "    def __init__(self, x=0, y=0):\n",
    "        self.x= x \n",
    "        self.y= y \n",
    "    \n",
    "    def __str__(self):\n",
    "        return \"(%g, %g)\" %(self.x, self.y)\n",
    "\n",
    "    def __add__(self, other):\n",
    "        point_x= self.x + other.x\n",
    "        point_y= self.y + other.y\n",
    "        return Point(point_x, point_y)\n",
    "        "
   ]
  },
  {
   "cell_type": "code",
   "execution_count": 189,
   "id": "4ceea0ad",
   "metadata": {},
   "outputs": [
    {
     "name": "stdout",
     "output_type": "stream",
     "text": [
      "<class '__main__.Point'>\n"
     ]
    }
   ],
   "source": [
    "point1= Point(2,3)\n",
    "\n",
    "point2= Point(5,7)\n",
    "\n",
    "print(type(point1 + point2))"
   ]
  },
  {
   "cell_type": "markdown",
   "id": "228488d3",
   "metadata": {},
   "source": [
    "### Type-Based Dispatch\n",
    "\n",
    "- This allows us to invoke certain methods"
   ]
  },
  {
   "cell_type": "code",
   "execution_count": null,
   "id": "2c76d367",
   "metadata": {},
   "outputs": [],
   "source": [
    "class Time:\n",
    "    \"Represents the time of the day\"\n",
    "\n",
    "    def __init__(self, hour=0, minute=0, second=0):\n",
    "        self.hour = hour\n",
    "        self.minute = minute\n",
    "        self.second = second\n",
    "\n",
    "    def time_to_int(self):\n",
    "        minutes = self.hour * 60 + self.minute\n",
    "        seconds = minutes * 60 + self.second\n",
    "        return seconds\n",
    "\n",
    "    ## this method increases a time variable \n",
    "    def increment(self, seconds):\n",
    "        seconds += self.time_to_int()\n",
    "        return int_to_time(seconds)\n",
    "\n",
    "    ## this method prints out the time in a formatted way\n",
    "    def __str__(self): ## <----\n",
    "        return \"%.2d:%.2d:%.2d\" % (self.hour, self.minute, self.second)\n",
    "\n",
    "    ## checking if one time comes before the other \n",
    "    def is_after(self, other):\n",
    "        return self.time_to_int() > other.time_to_int()\n",
    "\n",
    "    def __add__(self, other):\n",
    "        seconds= self.time_to_int() + other.time_to_int()\n",
    "        return int_to_time(seconds)"
   ]
  },
  {
   "cell_type": "code",
   "execution_count": null,
   "id": "9875ecea",
   "metadata": {},
   "outputs": [],
   "source": []
  },
  {
   "cell_type": "code",
   "execution_count": null,
   "id": "a0a47420",
   "metadata": {},
   "outputs": [],
   "source": []
  },
  {
   "cell_type": "code",
   "execution_count": null,
   "id": "ed144bae",
   "metadata": {},
   "outputs": [],
   "source": []
  },
  {
   "cell_type": "markdown",
   "id": "b44a02db",
   "metadata": {},
   "source": []
  }
 ],
 "metadata": {
  "kernelspec": {
   "display_name": ".venv",
   "language": "python",
   "name": "python3"
  },
  "language_info": {
   "codemirror_mode": {
    "name": "ipython",
    "version": 3
   },
   "file_extension": ".py",
   "mimetype": "text/x-python",
   "name": "python",
   "nbconvert_exporter": "python",
   "pygments_lexer": "ipython3",
   "version": "3.12.5"
  }
 },
 "nbformat": 4,
 "nbformat_minor": 5
}
