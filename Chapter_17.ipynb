{
 "cells": [
  {
   "cell_type": "markdown",
   "id": "d479f26a",
   "metadata": {},
   "source": [
    "# Classes and Methods \n",
    "\n",
    "- A method is a function belonging to a specific class\n",
    "\n",
    "- They are defined inside the class definition to make the relationship between the class and the method explicit \n",
    "\n",
    "- The syntax for invoking a method is different from the syntax for calling a function\n",
    "\n"
   ]
  },
  {
   "cell_type": "markdown",
   "id": "8f01eb14",
   "metadata": {
    "vscode": {
     "languageId": "plaintext"
    }
   },
   "source": [
    "## Printing Objects "
   ]
  },
  {
   "cell_type": "code",
   "execution_count": 244,
   "id": "f9f44ec0",
   "metadata": {},
   "outputs": [],
   "source": [
    "class Time:\n",
    "    \"Represents the time of the day\"\n",
    "    def print_time(time): ## we are defining a method  inside the class \n",
    "        print(\"%.2d:%.2d:%.2d\" % (time.hour, time.minute, time.second)) \n"
   ]
  },
  {
   "cell_type": "markdown",
   "id": "b5d77e45",
   "metadata": {},
   "source": [
    "We can call the print_time method in two ways:\n",
    "\n",
    "- By using creating an instance and using the dot notation to call the method from the instance. eng: instance.print_time\n",
    "\n",
    "- We can also call it from the class using the dot operator and pass the instace as an argument"
   ]
  },
  {
   "cell_type": "code",
   "execution_count": 245,
   "id": "1fd94b3d",
   "metadata": {},
   "outputs": [
    {
     "name": "stdout",
     "output_type": "stream",
     "text": [
      "09:45:00\n"
     ]
    }
   ],
   "source": [
    "##calling the class, and calling the print_time method \n",
    "Time.print_time(start)"
   ]
  },
  {
   "cell_type": "code",
   "execution_count": 248,
   "id": "76a40bfa",
   "metadata": {},
   "outputs": [],
   "source": [
    "##creating an instance of the time class \n",
    "start = Time()\n",
    "start.hour = 9\n",
    "start.minute = 45\n",
    "start.second = 00"
   ]
  },
  {
   "cell_type": "code",
   "execution_count": 249,
   "id": "8790cb9c",
   "metadata": {},
   "outputs": [
    {
     "name": "stdout",
     "output_type": "stream",
     "text": [
      "09:45:00\n"
     ]
    }
   ],
   "source": [
    "##alternative of calling the print_time method \n",
    "\n",
    "start.print_time()"
   ]
  },
  {
   "cell_type": "markdown",
   "id": "6a493106",
   "metadata": {},
   "source": [
    "As an exercise, rewrite time_to_int (from “Prototyping versus Planning” on page\n",
    "190) as a method. "
   ]
  },
  {
   "cell_type": "code",
   "execution_count": 250,
   "id": "a1b51a61",
   "metadata": {},
   "outputs": [],
   "source": [
    "def time_to_int(time):\n",
    "    minutes = time.hour * 60 + time.minute\n",
    "    seconds = minutes * 60 + time.second\n",
    "    return seconds"
   ]
  },
  {
   "cell_type": "code",
   "execution_count": 251,
   "id": "b57bbafb",
   "metadata": {},
   "outputs": [],
   "source": [
    "class Time_int:\n",
    "    def time_to_int(self):\n",
    "        minutes = self.hour * 60 + self.minute\n",
    "        seconds = minutes * 60 + self.second\n",
    "        return seconds"
   ]
  },
  {
   "cell_type": "code",
   "execution_count": 252,
   "id": "62ab4d60",
   "metadata": {},
   "outputs": [],
   "source": [
    "time_int= Time_int()\n",
    "time_int.hour= 20\n",
    "time_int.minute= 59\n",
    "time_int.second= 45"
   ]
  },
  {
   "cell_type": "code",
   "execution_count": 253,
   "id": "4414ebcf",
   "metadata": {},
   "outputs": [
    {
     "data": {
      "text/plain": [
       "75585"
      ]
     },
     "execution_count": 253,
     "metadata": {},
     "output_type": "execute_result"
    }
   ],
   "source": [
    "##calling the time to int function\n",
    "time_int.time_to_int()"
   ]
  },
  {
   "cell_type": "markdown",
   "id": "70f8cc11",
   "metadata": {},
   "source": [
    "### Another Example"
   ]
  },
  {
   "cell_type": "code",
   "execution_count": 254,
   "id": "face5992",
   "metadata": {},
   "outputs": [],
   "source": [
    " ##this method converts time to int \n",
    "def int_to_time(seconds):\n",
    "    t = Time()                             \n",
    "    minutes, t.second = divmod(seconds, 60)\n",
    "    t.hour,   t.minute = divmod(minutes,   60)\n",
    "    return t\n",
    "\n"
   ]
  },
  {
   "cell_type": "code",
   "execution_count": 255,
   "id": "f85a8ad1",
   "metadata": {},
   "outputs": [],
   "source": [
    "class Time:\n",
    "\n",
    "    \"Represents the time of the day\"\n",
    "    \n",
    "\n",
    "    def time_to_int(self):\n",
    "        minutes = self.hour * 60 + self.minute\n",
    "        seconds = minutes * 60 + self.second\n",
    "        return seconds\n",
    "\n",
    "    ##this method increases a time variable \n",
    "\n",
    "    def increment(self, seconds):\n",
    "        seconds += self.time_to_int()\n",
    "        return int_to_time(seconds)\n",
    "\n",
    "\n",
    "    ##this method prints out the time in  a formatted wat\n",
    "    def print_time(self): ## we are defining a method  inside the class \n",
    "        print(\"%.2d:%.2d:%.2d\" % (self.hour, self.minute, self.second)) \n"
   ]
  },
  {
   "cell_type": "code",
   "execution_count": 256,
   "id": "6fbe61f8",
   "metadata": {},
   "outputs": [],
   "source": [
    "##creating an instance of the time class \n",
    "start = Time()\n",
    "start.hour = 9\n",
    "start.minute = 45\n",
    "start.second = 00"
   ]
  },
  {
   "cell_type": "code",
   "execution_count": 257,
   "id": "8e83fe8c",
   "metadata": {},
   "outputs": [
    {
     "name": "stdout",
     "output_type": "stream",
     "text": [
      "09:45:00\n"
     ]
    }
   ],
   "source": [
    "start.print_time()"
   ]
  },
  {
   "cell_type": "code",
   "execution_count": 258,
   "id": "70934095",
   "metadata": {},
   "outputs": [
    {
     "name": "stdout",
     "output_type": "stream",
     "text": [
      "09:51:40\n"
     ]
    }
   ],
   "source": [
    "end= start.increment(400)\n",
    "\n",
    "end.print_time()"
   ]
  },
  {
   "cell_type": "markdown",
   "id": "22a38993",
   "metadata": {},
   "source": [
    "## A More Complicated Example "
   ]
  },
  {
   "cell_type": "code",
   "execution_count": 263,
   "id": "a499ba71",
   "metadata": {},
   "outputs": [],
   "source": [
    "class Time:\n",
    "\n",
    "    \"Represents the time of the day\"\n",
    "\n",
    "    def time_to_int(self):\n",
    "        minutes = self.hour * 60 + self.minute\n",
    "        seconds = minutes * 60 + self.second\n",
    "        return seconds\n",
    "\n",
    "    ##this method increases a time variable \n",
    "\n",
    "    def increment(self, seconds):\n",
    "        seconds += self.time_to_int()\n",
    "        return int_to_time(seconds)\n",
    "\n",
    "    ##this method prints out the time in  a formatted wat\n",
    "    def print_time(self): ## we are defining a method  inside the class \n",
    "        print(\"%.2d:%.2d:%.2d\" % (self.hour, self.minute, self.second)) \n",
    "\n",
    "    \n",
    "    ##checking if one time comes before the other \n",
    "\n",
    "    def is_after(self, other):\n",
    "        return self.time_to_int() > other.time_to_int()"
   ]
  },
  {
   "cell_type": "code",
   "execution_count": 264,
   "id": "f48f52b3",
   "metadata": {},
   "outputs": [],
   "source": [
    "start = Time()\n",
    "start.hour = 9\n",
    "start.minute = 45\n",
    "start.second = 0\n",
    "\n",
    "end = start.increment(1337)\n"
   ]
  },
  {
   "cell_type": "code",
   "execution_count": 266,
   "id": "d0a3b04a",
   "metadata": {},
   "outputs": [
    {
     "name": "stdout",
     "output_type": "stream",
     "text": [
      "False\n",
      "True\n",
      "True\n"
     ]
    }
   ],
   "source": [
    "print(start.is_after(end))\n",
    "\n",
    "print(Time.is_after(end,start))\n",
    "\n",
    "print(end.is_after(start))"
   ]
  },
  {
   "cell_type": "markdown",
   "id": "e9716c2f",
   "metadata": {},
   "source": [
    "#### Please Note From the above: \n",
    "\n",
    "You can call it two ways:\n",
    "\n",
    "- By naming the class and passing the instance explicitly:\n",
    "Time.increment(start, 1888)\n",
    "\n",
    "-   Or by calling it on the instance so Python fills in self for you:\n",
    "start.increment(1888)"
   ]
  },
  {
   "cell_type": "markdown",
   "id": "ce3351c6",
   "metadata": {},
   "source": [
    "## The init Method \n",
    "\n",
    "- This is a special method that gets invoked when an object is instantiated "
   ]
  },
  {
   "cell_type": "code",
   "execution_count": 267,
   "id": "5665af36",
   "metadata": {},
   "outputs": [],
   "source": [
    "class Time:\n",
    "    \"Represents the time of the day\"\n",
    "\n",
    "    def __init__(self, hour=0, minute=0, second=0):\n",
    "        self.hour = hour\n",
    "        self.minute = minute\n",
    "        self.second = second\n",
    "\n",
    "    def time_to_int(self):\n",
    "        minutes = self.hour * 60 + self.minute\n",
    "        seconds = minutes * 60 + self.second\n",
    "        return seconds\n",
    "\n",
    "    ## this method increases a time variable \n",
    "    def increment(self, seconds):\n",
    "        seconds += self.time_to_int()\n",
    "        return int_to_time(seconds)\n",
    "\n",
    "    ## this method prints out the time in a formatted way\n",
    "    def print_time(self):\n",
    "        print(\"%.2d:%.2d:%.2d\" % (self.hour, self.minute, self.second))\n",
    "\n",
    "    ## checking if one time comes before the other \n",
    "    def is_after(self, other):\n",
    "        return self.time_to_int() > other.time_to_int()\n"
   ]
  },
  {
   "cell_type": "code",
   "execution_count": 268,
   "id": "54e7917b",
   "metadata": {},
   "outputs": [
    {
     "name": "stdout",
     "output_type": "stream",
     "text": [
      "00:00:00\n"
     ]
    }
   ],
   "source": [
    "time= Time()\n",
    "\n",
    "time.print_time()"
   ]
  },
  {
   "cell_type": "code",
   "execution_count": 269,
   "id": "bc0263b8",
   "metadata": {},
   "outputs": [
    {
     "name": "stdout",
     "output_type": "stream",
     "text": [
      "09:10:45\n"
     ]
    }
   ],
   "source": [
    "time= Time(9,10,45)\n",
    "\n",
    "time.print_time()"
   ]
  },
  {
   "cell_type": "markdown",
   "id": "e6dd17fc",
   "metadata": {},
   "source": [
    "As an exercise, write an init method for the Point class that takes x and y as optional\n",
    "parameters and assigns them to the corresponding attributes.\n"
   ]
  },
  {
   "cell_type": "code",
   "execution_count": 270,
   "id": "94c4595c",
   "metadata": {},
   "outputs": [],
   "source": [
    "class Point:\n",
    "\n",
    "    def __init__(self, x=0, y=0):\n",
    "        self.x= x \n",
    "        self.y= y "
   ]
  },
  {
   "cell_type": "code",
   "execution_count": 271,
   "id": "af884786",
   "metadata": {},
   "outputs": [
    {
     "name": "stdout",
     "output_type": "stream",
     "text": [
      "<__main__.Point object at 0x10c196540>\n"
     ]
    }
   ],
   "source": [
    "p= Point()\n",
    "\n",
    "print(p)"
   ]
  },
  {
   "cell_type": "markdown",
   "id": "d01769f2",
   "metadata": {},
   "source": [
    "## The `str` Method \n",
    "\n",
    "- This is another special method like the init method\n",
    "\n",
    "- It returns a string representation of an object "
   ]
  },
  {
   "cell_type": "code",
   "execution_count": 163,
   "id": "0a10ab81",
   "metadata": {},
   "outputs": [],
   "source": [
    "class Time:\n",
    "    \"Represents the time of the day\"\n",
    "\n",
    "    def __init__(self, hour=0, minute=0, second=0):\n",
    "        self.hour = hour\n",
    "        self.minute = minute\n",
    "        self.second = second\n",
    "\n",
    "    def time_to_int(self):\n",
    "        minutes = self.hour * 60 + self.minute\n",
    "        seconds = minutes * 60 + self.second\n",
    "        return seconds\n",
    "\n",
    "    ## this method increases a time variable \n",
    "    def increment(self, seconds):\n",
    "        seconds += self.time_to_int()\n",
    "        return int_to_time(seconds)\n",
    "\n",
    "    ## this method prints out the time in a formatted way\n",
    "    def __str__(self): ## <----\n",
    "        return \"%.2d:%.2d:%.2d\" % (self.hour, self.minute, self.second)\n",
    "\n",
    "    ## checking if one time comes before the other \n",
    "    def is_after(self, other):\n",
    "        return self.time_to_int() > other.time_to_int()"
   ]
  },
  {
   "cell_type": "markdown",
   "id": "74822688",
   "metadata": {},
   "source": [
    "- in the above code, we change `def print_time` to `def __str__(self)`"
   ]
  },
  {
   "cell_type": "markdown",
   "id": "a9273090",
   "metadata": {},
   "source": [
    "As an exercise, write a str method for the Point class. Create a Point object and print\n",
    "it."
   ]
  },
  {
   "cell_type": "code",
   "execution_count": 168,
   "id": "1890a906",
   "metadata": {},
   "outputs": [],
   "source": [
    "class Point:\n",
    "\n",
    "    def __init__(self, x=0, y=0):\n",
    "        self.x= x \n",
    "        self.y= y \n",
    "    \n",
    "    def __str__(self):\n",
    "        return \"(%g, %g)\" %(self.x, self.y)"
   ]
  },
  {
   "cell_type": "code",
   "execution_count": 172,
   "id": "5be1fe45",
   "metadata": {},
   "outputs": [
    {
     "name": "stdout",
     "output_type": "stream",
     "text": [
      "(0, 0)\n"
     ]
    }
   ],
   "source": [
    "pp= Point()\n",
    "\n",
    "print(pp)"
   ]
  },
  {
   "cell_type": "markdown",
   "id": "bb407e0a",
   "metadata": {},
   "source": [
    "## Operator Overloading\n",
    "\n",
    "- This chapter indicates how we can create our own special methods \n",
    "\n",
    "- We will be add a special method known as `add` to the class TIme"
   ]
  },
  {
   "cell_type": "code",
   "execution_count": 180,
   "id": "c56e4f5f",
   "metadata": {},
   "outputs": [],
   "source": [
    "class Time:\n",
    "    \"Represents the time of the day\"\n",
    "\n",
    "    def __init__(self, hour=0, minute=0, second=0):\n",
    "        self.hour = hour\n",
    "        self.minute = minute\n",
    "        self.second = second\n",
    "\n",
    "    def time_to_int(self):\n",
    "        minutes = self.hour * 60 + self.minute\n",
    "        seconds = minutes * 60 + self.second\n",
    "        return seconds\n",
    "\n",
    "    ## this method increases a time variable \n",
    "    def increment(self, seconds):\n",
    "        seconds += self.time_to_int()\n",
    "        return int_to_time(seconds)\n",
    "\n",
    "    ## this method prints out the time in a formatted way\n",
    "    def __str__(self): ## <----\n",
    "        return \"%.2d:%.2d:%.2d\" % (self.hour, self.minute, self.second)\n",
    "\n",
    "    ## checking if one time comes before the other \n",
    "    def is_after(self, other):\n",
    "        return self.time_to_int() > other.time_to_int()\n",
    "\n",
    "    def __add__(self, other):\n",
    "        seconds= self.time_to_int() + other.time_to_int()\n",
    "        return int_to_time(seconds)"
   ]
  },
  {
   "cell_type": "markdown",
   "id": "7f23de93",
   "metadata": {},
   "source": []
  },
  {
   "cell_type": "code",
   "execution_count": 182,
   "id": "de9b5623",
   "metadata": {},
   "outputs": [
    {
     "name": "stdout",
     "output_type": "stream",
     "text": [
      "09:45:00 01:35:00\n",
      "11:20:00\n"
     ]
    }
   ],
   "source": [
    "start= Time(9,45)\n",
    "duration= Time(1, 35)\n",
    "\n",
    "print(start, duration)\n",
    "print(start + duration)"
   ]
  },
  {
   "cell_type": "markdown",
   "id": "0b0f5bc4",
   "metadata": {},
   "source": [
    "- As an exercise, write an add method for the Point class."
   ]
  },
  {
   "cell_type": "code",
   "execution_count": 183,
   "id": "c8613bbd",
   "metadata": {},
   "outputs": [],
   "source": [
    "import math"
   ]
  },
  {
   "cell_type": "code",
   "execution_count": 232,
   "id": "f0d4f564",
   "metadata": {},
   "outputs": [],
   "source": [
    "class Point:\n",
    "\n",
    "    def __init__(self, x=0, y=0):\n",
    "        self.x= x \n",
    "        self.y= y \n",
    "    \n",
    "    def __str__(self):\n",
    "        return \"(%g, %g)\" %(self.x, self.y)\n",
    "\n",
    "    def __add__(self, other):\n",
    "        point_x= self.x + other.x\n",
    "        point_y= self.y + other.y\n",
    "        return Point(point_x, point_y)\n",
    "        "
   ]
  },
  {
   "cell_type": "code",
   "execution_count": 233,
   "id": "4ceea0ad",
   "metadata": {},
   "outputs": [
    {
     "name": "stdout",
     "output_type": "stream",
     "text": [
      "(7, 10)\n"
     ]
    }
   ],
   "source": [
    "point1= Point(2,3)\n",
    "\n",
    "point2= Point(5,7)\n",
    "\n",
    "print((point1 + point2))"
   ]
  },
  {
   "cell_type": "markdown",
   "id": "228488d3",
   "metadata": {},
   "source": [
    "### Type-Based Dispatch\n",
    "\n",
    "- This allows us to invoke certain methods"
   ]
  },
  {
   "cell_type": "code",
   "execution_count": 275,
   "id": "2c76d367",
   "metadata": {},
   "outputs": [],
   "source": [
    "class Time:\n",
    "    \"Represents the time of the day\"\n",
    "\n",
    "    def __init__(self, hour=0, minute=0, second=0):\n",
    "        self.hour = hour\n",
    "        self.minute = minute\n",
    "        self.second = second\n",
    "\n",
    "    def time_to_int(self):\n",
    "        minutes = self.hour * 60 + self.minute\n",
    "        seconds = minutes * 60 + self.second\n",
    "        return seconds\n",
    "\n",
    "    ## this method prints out the time in a formatted way\n",
    "    def __str__(self): ## <----\n",
    "        return \"%.2d:%.2d:%.2d\" % (self.hour, self.minute, self.second)\n",
    "\n",
    "    ## checking if one time comes before the other \n",
    "    def is_after(self, other):\n",
    "        return self.time_to_int() > other.time_to_int()\n",
    "\n",
    "    ##this is our type based dispatch to elt me know whether ti invoke increment or add time \n",
    "    def __add__(self, other):\n",
    "        if isinstance(other, Time):\n",
    "            return self.add_time(other)\n",
    "        return self.increment(other)\n",
    "    \n",
    "    def __radd__(self, other):\n",
    "        return self.__add__(other)\n",
    "\n",
    "    def add_time(self, other):\n",
    "        seconds= self.time_to_int() + other.time_to_int()\n",
    "        return int_to_time(seconds)\n",
    "        \n",
    "        ## this method increases a time variable \n",
    "    def increment(self, seconds):\n",
    "        seconds += self.time_to_int()\n",
    "        return int_to_time(seconds)\n",
    "    \n",
    "\n",
    "\n",
    "    "
   ]
  },
  {
   "cell_type": "code",
   "execution_count": 276,
   "id": "9875ecea",
   "metadata": {},
   "outputs": [
    {
     "name": "stdout",
     "output_type": "stream",
     "text": [
      "11:20:00\n"
     ]
    }
   ],
   "source": [
    "start = Time(9, 45)\n",
    "duration = Time(1, 35)\n",
    "print(start + duration)\n"
   ]
  },
  {
   "cell_type": "code",
   "execution_count": 277,
   "id": "a0a47420",
   "metadata": {},
   "outputs": [
    {
     "name": "stdout",
     "output_type": "stream",
     "text": [
      "11:36:06\n"
     ]
    }
   ],
   "source": [
    "print(start + 6666) \n"
   ]
  },
  {
   "cell_type": "code",
   "execution_count": 278,
   "id": "1a172d17",
   "metadata": {},
   "outputs": [
    {
     "name": "stdout",
     "output_type": "stream",
     "text": [
      "28:15:00\n"
     ]
    }
   ],
   "source": [
    "print(66600 + start) "
   ]
  },
  {
   "cell_type": "code",
   "execution_count": null,
   "id": "747b8384",
   "metadata": {},
   "outputs": [],
   "source": []
  },
  {
   "cell_type": "markdown",
   "id": "ed144bae",
   "metadata": {},
   "source": [
    "##### I will be redoing the point class exercise to reafrrim my understanding\n",
    "\n",
    "- As an exercise, write an init method for the Point class that takes x and y as optional parameters and assigns them to the corresponding attributes.\n",
    "\n",
    "- As an exercise, write a str method for the Point class. Create a Point object and print\n",
    "it.\n",
    "\n",
    "- As an exercise, write an add method for the Point class.\n",
    "\n",
    "- As an exercise, write an add method for Points that works with either a Point object or a tuple:\n",
    "\n",
    "- If the second operand is a Point, the method should return a new Point whose x\n",
    "coordinate is the sum of the x coordinates of the operands, and likewise for the y\n",
    "coordinates.\n",
    "\n",
    "-  If the second operand is a tuple, the method should add the first element of the\n",
    "tuple to the x coordinate and the second element to the y coordinate, and return\n",
    "a new Point with the result."
   ]
  },
  {
   "cell_type": "markdown",
   "id": "ff6fd3b6",
   "metadata": {},
   "source": [
    "Tackling these first:\n",
    "\n",
    "\n",
    "- As an exercise, write an init method for the Point class that takes x and y as optional parameters and assigns them to the corresponding attributes.\n",
    "\n",
    "- As an exercise, write a str method for the Point class. Create a Point object and print\n",
    "it.\n",
    "\n",
    "- As an exercise, write an add method for the Point class."
   ]
  },
  {
   "cell_type": "code",
   "execution_count": 291,
   "id": "e1b58e94",
   "metadata": {},
   "outputs": [],
   "source": [
    "class Point:\n",
    "\n",
    "##creating the init method with the optional parameters\n",
    "    def __init__(self,x=0, y=0):\n",
    "        self.x= x\n",
    "        self.y= y\n",
    "\n",
    "##creating the str to allow us format the ouput of the arguments \n",
    "\n",
    "    def __str__(self):\n",
    "        return \"(%g, %g)\" % (self.x,self.y)\n",
    "\n",
    "    def __add__(self, other):\n",
    "        sum_x= self.x + other.x\n",
    "        sum_y= self.y + other.y \n",
    "        return Point(sum_x, sum_y)\n",
    "    \n",
    "    \n",
    "\n",
    "    "
   ]
  },
  {
   "cell_type": "code",
   "execution_count": 294,
   "id": "b5ab5851",
   "metadata": {},
   "outputs": [
    {
     "name": "stdout",
     "output_type": "stream",
     "text": [
      "(93, 106)\n"
     ]
    }
   ],
   "source": [
    "point_1= Point(5,7)\n",
    "\n",
    "point_2= Point(88,99)\n",
    "\n",
    "print(point_1 + point_2)\n",
    "\n"
   ]
  },
  {
   "cell_type": "markdown",
   "id": "a43449ae",
   "metadata": {},
   "source": [
    "- As an exercise, write an add method for Points that works with either a Point object or a tuple:\n",
    "\n",
    "- If the second operand is a Point, the method should return a new Point whose x\n",
    "coordinate is the sum of the x coordinates of the operands, and likewise for the y\n",
    "coordinates.\n",
    "\n",
    "-  If the second operand is a tuple, the method should add the first element of the\n",
    "tuple to the x coordinate and the second element to the y coordinate, and return\n",
    "a new Point with the result."
   ]
  },
  {
   "cell_type": "code",
   "execution_count": null,
   "id": "19598a21",
   "metadata": {},
   "outputs": [],
   "source": [
    "class Point:\n",
    "\n",
    "##creating the init method with the optional parameters\n",
    "    def __init__(self,x=0, y=0):\n",
    "        self.x= x\n",
    "        self.y= y\n",
    "\n",
    "##creating the str to allow us format the ouput of the arguments \n",
    "\n",
    "    def __str__(self):\n",
    "        return \"(%g, %g)\" % (self.x,self.y)\n",
    "\n",
    "##creating my if isintance to dictate which method to go with\n",
    "    def __add__(self, other): ##type dispatch\n",
    "        if isinstance (other, Point): ##so here we are saying is other an instance of point?\n",
    "            return self.point_add(other) ##if yes, use the point_add method\n",
    "        return self.tuple_add(other)\n",
    "    \n",
    "    def __radd__(self, other):\n",
    "        return self.__add__(other) ##accept reversed input \n",
    "\n",
    "    def point_add(self, other): ##the method for adding points  ## operator overload\n",
    "        sum_x= self.x + other.x\n",
    "        sum_y= self.y + other.y \n",
    "        return Point(sum_x, sum_y)\n",
    "\n",
    "    def tuple_add(self, other): ##the method for adding tuples\n",
    "        sum_x=  other[0] + self.x \n",
    "        sum_y=  other[1] + self.y \n",
    "        return Point(sum_x, sum_y)\n",
    "\n",
    "\n",
    "\n"
   ]
  },
  {
   "cell_type": "code",
   "execution_count": 300,
   "id": "28adadd7",
   "metadata": {},
   "outputs": [
    {
     "name": "stdout",
     "output_type": "stream",
     "text": [
      "(154.9, 199)\n"
     ]
    }
   ],
   "source": [
    "## adding points\n",
    "\n",
    "point_a= Point(55.9, 99)\n",
    "\n",
    "point_b= Point(99,100)\n",
    "\n",
    "print(point_a + point_b)"
   ]
  },
  {
   "cell_type": "code",
   "execution_count": null,
   "id": "04227a31",
   "metadata": {},
   "outputs": [
    {
     "name": "stdout",
     "output_type": "stream",
     "text": [
      "(106, 18)\n",
      "(106, 18)\n"
     ]
    }
   ],
   "source": [
    "## adding a point to a tuple \n",
    "\n",
    "point_1= Point(7,8)\n",
    "\n",
    "point_2= (99,10)\n",
    "\n",
    "print(point_1+point_2)\n",
    "\n",
    "print(point_2+point_1)\n",
    "\n"
   ]
  },
  {
   "cell_type": "code",
   "execution_count": 301,
   "id": "0ee147bb",
   "metadata": {},
   "outputs": [
    {
     "name": "stdout",
     "output_type": "stream",
     "text": [
      "(106, 18)\n",
      "(106, 18)\n"
     ]
    }
   ],
   "source": [
    "point_1= Point(7,8)\n",
    "\n",
    "point_2= [99,10]\n",
    "\n",
    "print(point_1+point_2)\n",
    "\n",
    "print(point_2+point_1)"
   ]
  },
  {
   "cell_type": "markdown",
   "id": "87ccabfe",
   "metadata": {},
   "source": [
    "## Polymorphism \n",
    "\n",
    "- This involves creating functions that can work with various types without having to set special instructions "
   ]
  },
  {
   "cell_type": "code",
   "execution_count": 302,
   "id": "b1a8fc50",
   "metadata": {},
   "outputs": [],
   "source": [
    "def histogram(s):\n",
    "    d = dict()\n",
    "    for c in s:\n",
    "        if c not in d:\n",
    "            d[c] = 1\n",
    "        else:\n",
    "            d[c] = d[c]+1\n",
    "    return d"
   ]
  },
  {
   "cell_type": "code",
   "execution_count": 303,
   "id": "cb42633f",
   "metadata": {},
   "outputs": [
    {
     "name": "stdout",
     "output_type": "stream",
     "text": [
      "34:45:00\n"
     ]
    }
   ],
   "source": [
    "t1= Time(10, 55)\n",
    "t2= Time(11, 35)\n",
    "t3= Time(12, 15)\n",
    "\n",
    "total= sum([t1,t2,t3])\n",
    "\n",
    "print(total)"
   ]
  },
  {
   "cell_type": "markdown",
   "id": "a091bc9a",
   "metadata": {},
   "source": [
    "## Interface and Implementation:\n",
    "\n",
    "\n",
    "- Interface are the elements we interact with in our functions\n",
    "\n",
    "- Implementations are the items that work behind the scences"
   ]
  },
  {
   "cell_type": "markdown",
   "id": "514487ca",
   "metadata": {},
   "source": [
    "## Exercise "
   ]
  },
  {
   "cell_type": "markdown",
   "id": "4391d6dc",
   "metadata": {},
   "source": [
    "Exercise 17-2.\n",
    "This exercise is a cautionary tale about one of the most common, and difficult to find,\n",
    "errors in Python. Write a definition for a class named Kangaroo with the following\n",
    "methods:\n",
    "1. An __init__ method that initializes an attribute named pouch_contents to an\n",
    "empty list.\n",
    "2. A method named put_in_pouch that takes an object of any type and adds it to\n",
    "pouch_contents.\n",
    "Exercises | 205\n",
    "3. A __str__ method that returns a string representation of the Kangaroo object\n",
    "and the contents of the pouch.\n",
    "Test your code by creating two Kangaroo objects, assigning them to variables named\n",
    "kanga and roo, and then adding roo to the contents of kanga’s pouch."
   ]
  },
  {
   "cell_type": "code",
   "execution_count": null,
   "id": "87380fe6",
   "metadata": {},
   "outputs": [],
   "source": [
    "class Kangaroo:\n",
    "\n",
    "    def __init__(self, pouch_contents= []):\n",
    "        self.pouch_contents= pouch_contents\n",
    "\n",
    "    def put_in_pouch \n",
    "\n"
   ]
  }
 ],
 "metadata": {
  "kernelspec": {
   "display_name": ".venv",
   "language": "python",
   "name": "python3"
  },
  "language_info": {
   "codemirror_mode": {
    "name": "ipython",
    "version": 3
   },
   "file_extension": ".py",
   "mimetype": "text/x-python",
   "name": "python",
   "nbconvert_exporter": "python",
   "pygments_lexer": "ipython3",
   "version": "3.12.5"
  }
 },
 "nbformat": 4,
 "nbformat_minor": 5
}
