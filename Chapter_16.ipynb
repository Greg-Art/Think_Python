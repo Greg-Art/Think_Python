{
 "cells": [
  {
   "cell_type": "markdown",
   "id": "7f0a7567",
   "metadata": {},
   "source": [
    "# Classes and Functions\n",
    "\n",
    "- The main idea here is to take programmer defined objects as parameters of a function and then return them as results"
   ]
  },
  {
   "cell_type": "code",
   "execution_count": 74,
   "id": "085c9bbd",
   "metadata": {},
   "outputs": [],
   "source": [
    "class Time:\n",
    "    \"\"\"Represents the time of the day. \n",
    "\n",
    "    attributes: hour, minutes, second \n",
    "    \n",
    "    \"\"\""
   ]
  },
  {
   "cell_type": "code",
   "execution_count": 76,
   "id": "8b9f725f",
   "metadata": {},
   "outputs": [],
   "source": [
    "time1= Time()\n",
    "time1.hour= 2\n",
    "time1.minute= 59\n",
    "time1.second= 30"
   ]
  },
  {
   "cell_type": "markdown",
   "id": "757f6780",
   "metadata": {},
   "source": [
    "As an exercise, write a function called print_time that takes a Time object and prints\n",
    "it in the form hour:minute:second. Hint: the format sequence '%.2d' prints an inte‐\n",
    "ger using at least two digits, including a leading zero if necessary"
   ]
  },
  {
   "cell_type": "code",
   "execution_count": 158,
   "id": "40f5411d",
   "metadata": {},
   "outputs": [],
   "source": [
    "def print_time(t):\n",
    "    hours= t.hour \n",
    "    minutes= t.minute\n",
    "    seconds= t.second \n",
    "    return f\"{hours:02d}:{minutes:02d}:{seconds:02d}\"\n",
    "\n",
    "\n"
   ]
  },
  {
   "cell_type": "markdown",
   "id": "abcfec53",
   "metadata": {},
   "source": []
  },
  {
   "cell_type": "code",
   "execution_count": 78,
   "id": "55b4791f",
   "metadata": {},
   "outputs": [
    {
     "data": {
      "text/plain": [
       "'02:59:30'"
      ]
     },
     "execution_count": 78,
     "metadata": {},
     "output_type": "execute_result"
    }
   ],
   "source": [
    "print_time(time1)"
   ]
  },
  {
   "cell_type": "markdown",
   "id": "15bba2b3",
   "metadata": {},
   "source": [
    "Write a boolean function called is_after that takes two Time objects, t1 and t2, and\n",
    "returns True if t1 follows t2 chronologically and False otherwise. Challenge: don’t\n",
    "use an if statement."
   ]
  },
  {
   "cell_type": "code",
   "execution_count": null,
   "id": "be0e507a",
   "metadata": {},
   "outputs": [],
   "source": [
    "##I will create another instance I can compare with time1\n",
    "\n",
    "time2= Time()\n",
    "time2.hour= 1\n",
    "time2.minute= 49\n",
    "time2.second= 20"
   ]
  },
  {
   "cell_type": "code",
   "execution_count": null,
   "id": "5e94df5e",
   "metadata": {},
   "outputs": [],
   "source": [
    "##creating the function\n",
    "def is_after(t1, t2):\n",
    "        return (t1.hour, t1.minute, t1.second) > (t2.hour, t2.minute, t2.second)\n"
   ]
  },
  {
   "cell_type": "code",
   "execution_count": 159,
   "id": "df8c1eb3",
   "metadata": {},
   "outputs": [
    {
     "data": {
      "text/plain": [
       "True"
      ]
     },
     "execution_count": 159,
     "metadata": {},
     "output_type": "execute_result"
    }
   ],
   "source": [
    "##invoking the function \n",
    "\n",
    "is_after(time1, time2)"
   ]
  },
  {
   "cell_type": "markdown",
   "id": "ef386a1a",
   "metadata": {},
   "source": [
    "## Pure Functions\n",
    "\n",
    "The goal of this section is to understand:\n",
    "\n",
    "    - Prototypes vs Patches\n",
    "\n",
    "    - Pure Functions vs Modifiers"
   ]
  },
  {
   "cell_type": "code",
   "execution_count": 82,
   "id": "73437edb",
   "metadata": {},
   "outputs": [],
   "source": [
    "## example of a prototype of a function which adds time \n",
    "\n",
    "def add_time(t1, t2):\n",
    "    sum = Time()\n",
    "    sum.hour = t1.hour + t2.hour\n",
    "    sum.minute = t1.minute + t2.minute\n",
    "    sum.second = t1.second + t2.second\n",
    "    return sum\n"
   ]
  },
  {
   "cell_type": "markdown",
   "id": "3368c9b3",
   "metadata": {},
   "source": [
    "- The above is a pure function as it doesn't change any object passed to it"
   ]
  },
  {
   "cell_type": "code",
   "execution_count": 83,
   "id": "e1ded80d",
   "metadata": {},
   "outputs": [],
   "source": [
    "## testing the function \n",
    "\n",
    "##here we are assuming you are going to watch a move \n",
    "\n",
    "##start is the time assumption of when the movie start wrp to your clock/watch\n",
    "\n",
    "##duration is how long the movide will last \n",
    "\n",
    "start= Time()\n",
    "start.hour= 8\n",
    "start.minute= 20\n",
    "start.second= 10\n",
    "\n",
    "\n",
    "duration= Time()\n",
    "duration.hour= 3\n",
    "duration.minute= 59\n",
    "duration.second= 10"
   ]
  },
  {
   "cell_type": "code",
   "execution_count": 84,
   "id": "6645b583",
   "metadata": {},
   "outputs": [
    {
     "data": {
      "text/plain": [
       "'11:79:20'"
      ]
     },
     "execution_count": 84,
     "metadata": {},
     "output_type": "execute_result"
    }
   ],
   "source": [
    "print_time(add_time(start, duration))"
   ]
  },
  {
   "cell_type": "code",
   "execution_count": 85,
   "id": "07a063c0",
   "metadata": {},
   "outputs": [],
   "source": [
    "### handling cases of where more than 59 minutes carry over \n",
    "\n",
    "def add_time(t1, t2):\n",
    "    sum = Time()\n",
    "    sum.hour = t1.hour + t2.hour\n",
    "    sum.minute = t1.minute + t2.minute\n",
    "    sum.second = t1.second + t2.second\n",
    "\n",
    "    if sum.second >= 60:\n",
    "        sum.second -= 60\n",
    "        sum.minute += 1\n",
    "    \n",
    "    if sum.minute >= 60:\n",
    "        sum.minute -= 60\n",
    "        sum.hour += 1\n",
    "    return sum"
   ]
  },
  {
   "cell_type": "code",
   "execution_count": 87,
   "id": "900dacae",
   "metadata": {},
   "outputs": [
    {
     "data": {
      "text/plain": [
       "'12:19:20'"
      ]
     },
     "execution_count": 87,
     "metadata": {},
     "output_type": "execute_result"
    }
   ],
   "source": [
    "##trying it on our inputs, we get\n",
    "\n",
    "print_time(add_time(start, duration))"
   ]
  },
  {
   "cell_type": "markdown",
   "id": "c20f80f0",
   "metadata": {},
   "source": [
    "## Modifiers \n",
    "\n",
    "- These allow us to modify the objects it get as parameters"
   ]
  },
  {
   "cell_type": "code",
   "execution_count": 96,
   "id": "e2ed4d68",
   "metadata": {},
   "outputs": [],
   "source": [
    "## the example we are looking at adds seconds to the function increment \n",
    "\n",
    "def increment(time, seconds):\n",
    "    time.second += seconds \n",
    "\n",
    "    if time.second >= 60:\n",
    "        time.second -= 60\n",
    "        time.minute +=1\n",
    "    \n",
    "    if time.minute >=60:\n",
    "        time.minute -= 60\n",
    "        time.hour += 1\n",
    "\n",
    "    return time, seconds"
   ]
  },
  {
   "cell_type": "code",
   "execution_count": 117,
   "id": "21fc439e",
   "metadata": {},
   "outputs": [
    {
     "data": {
      "text/plain": [
       "'07:03:10'"
      ]
     },
     "execution_count": 117,
     "metadata": {},
     "output_type": "execute_result"
    }
   ],
   "source": [
    "print_time(time1)"
   ]
  },
  {
   "cell_type": "code",
   "execution_count": 118,
   "id": "5ead3e32",
   "metadata": {},
   "outputs": [
    {
     "name": "stdout",
     "output_type": "stream",
     "text": [
      "10 3\n"
     ]
    }
   ],
   "source": [
    "print(time1.second, time1.minute)"
   ]
  },
  {
   "cell_type": "code",
   "execution_count": 119,
   "id": "a2db1369",
   "metadata": {},
   "outputs": [
    {
     "data": {
      "text/plain": [
       "'07:03:190'"
      ]
     },
     "execution_count": 119,
     "metadata": {},
     "output_type": "execute_result"
    }
   ],
   "source": [
    "increment(time1, 180)\n",
    "\n",
    "print_time(time1)"
   ]
  },
  {
   "cell_type": "markdown",
   "id": "aec71b29",
   "metadata": {},
   "source": [
    "In that case, it is not enough to carry once; we have to keep doing it until time.sec\n",
    "ond is less than 60. One solution is to replace the if statements with while state‐\n",
    "ments. That would make the function correct, but not very efficient. As an exercise,\n",
    "write a correct version of increment that doesn’t contain any loops."
   ]
  },
  {
   "cell_type": "code",
   "execution_count": null,
   "id": "96cefd76",
   "metadata": {},
   "outputs": [],
   "source": [
    "## pasting this so I can reference it \n",
    "\n",
    "def increment(time, seconds):\n",
    "    time.second += seconds \n",
    "\n",
    "    if time.second >= 60:\n",
    "        time.second -= 60\n",
    "        time.minute +=1\n",
    "    \n",
    "    if time.minute >=60:\n",
    "        time.minute -= 60\n",
    "        time.hour += 1\n",
    "\n",
    "    return time, seconds"
   ]
  },
  {
   "cell_type": "code",
   "execution_count": 142,
   "id": "1f5a3bae",
   "metadata": {},
   "outputs": [
    {
     "data": {
      "text/plain": [
       "'01:40:40'"
      ]
     },
     "execution_count": 142,
     "metadata": {},
     "output_type": "execute_result"
    }
   ],
   "source": [
    "test_time= Time()\n",
    "\n",
    "test_time.hour= 1\n",
    "\n",
    "test_time.minute= 40\n",
    "\n",
    "test_time.second= 40\n",
    "\n",
    "print_time(test_time)"
   ]
  },
  {
   "cell_type": "code",
   "execution_count": null,
   "id": "1a0730c8",
   "metadata": {},
   "outputs": [],
   "source": [
    "## the adjusted code \n",
    "\n",
    "def increment(time, seconds):\n",
    "    time.second += seconds \n",
    "\n",
    "    remaining_minutes= time.second // 60 \n",
    "\n",
    "    remaining_seconds= time.second % 60 \n",
    "\n",
    "    time.minute += remaining_minutes \n",
    "\n",
    "    time.second = remaining_seconds\n",
    "\n",
    "    remaining_hour= time.minute//60 \n",
    "\n",
    "    remaining_minute= time.minute % 60 \n",
    "\n",
    "    time.hour += remaining_hour \n",
    "\n",
    "    time.minute= remaining_minute \n",
    "\n",
    "\n",
    "    return print_time(time)\n",
    "\n",
    "\n",
    "\n",
    "    \n",
    "\n"
   ]
  },
  {
   "cell_type": "code",
   "execution_count": 154,
   "id": "78ab32fc",
   "metadata": {},
   "outputs": [
    {
     "data": {
      "text/plain": [
       "'02:24:00'"
      ]
     },
     "execution_count": 154,
     "metadata": {},
     "output_type": "execute_result"
    }
   ],
   "source": [
    "increment(test_time, 150)"
   ]
  },
  {
   "cell_type": "markdown",
   "id": "e12f70b5",
   "metadata": {},
   "source": [
    "As an exercise, write a “pure” version of increment that creates and returns a new\n",
    "Time object rather than modifying the parameter."
   ]
  },
  {
   "cell_type": "code",
   "execution_count": null,
   "id": "35888765",
   "metadata": {},
   "outputs": [],
   "source": [
    "def increament_pure(time_input,seconds):\n",
    "\n",
    "    new_time= Time() ## creating a new time instance \n",
    "\n",
    "## I am figuring out the seconds \n",
    "\n",
    "    total_time_seconds= time_input.second + seconds \n",
    "\n",
    "    new_time.second=  total_time_seconds % 60  ## in case the seconds is more than 60, we find the modulus, and set the remainder as the new seconds \n",
    "\n",
    "    seconds_to_minute=  total_time_seconds // 60 ## we assign the value of the result from the floor division as our minute \n",
    "\n",
    "    total_time_minutes = seconds_to_minute + time_input.minute ## we add the value from the minutes in the floor division to the minutes of the time input \n",
    "\n",
    "    new_time.minute= total_time_minutes % 60  ## in case the minute is more than 60, we find the modulus and set the remainder as the new minutes \n",
    "\n",
    "    minute_to_hours= total_time_minutes //60 ## We divide the current minute by 60, and we assign the whole numbers as our new hour \n",
    "\n",
    "    new_time.hour= time_input.hour + minute_to_hours\n",
    "\n",
    "    return new_time\n"
   ]
  },
  {
   "cell_type": "code",
   "execution_count": 181,
   "id": "b2fe5443",
   "metadata": {},
   "outputs": [
    {
     "data": {
      "text/plain": [
       "'07:16:10'"
      ]
     },
     "execution_count": 181,
     "metadata": {},
     "output_type": "execute_result"
    }
   ],
   "source": [
    "print_time(increament_pure(time1, 600))"
   ]
  },
  {
   "cell_type": "markdown",
   "id": "1c015a01",
   "metadata": {},
   "source": [
    "## Prototyping vs Planning\n",
    "\n",
    "- Prototyping means writing code in a base case and then keep increasing its complexing by starting with a basic idea  and making it complex as times goes on. \n",
    "    - This is usually done when you do not fully understand a problem\n",
    "    - The downside is that it can make it difficult to locate problems \n",
    "- An alternative to that is Design Development which involves understanding a high level of a problem to make programming easier "
   ]
  },
  {
   "cell_type": "code",
   "execution_count": 184,
   "id": "53a97816",
   "metadata": {},
   "outputs": [],
   "source": [
    "## conveting time to integer\n",
    "\n",
    "def time_to_int(time):\n",
    "    minutes= time.hour * 60 + time.minute\n",
    "    seconds= minutes* 60 + time.second\n",
    "    return seconds"
   ]
  },
  {
   "cell_type": "code",
   "execution_count": 185,
   "id": "cb2d7e73",
   "metadata": {},
   "outputs": [],
   "source": [
    "## converting from integer to time \n",
    "\n",
    "def int_to_time(seconds):\n",
    "    time= Time()\n",
    "    minutes, time.second= divmod(seconds, 60)\n",
    "    time.hour, time.minute= divmod(minutes, 60)\n",
    "    return time "
   ]
  },
  {
   "cell_type": "markdown",
   "id": "0ac0ebb1",
   "metadata": {},
   "source": [
    "## Debugging: \n",
    "\n",
    "We can use certain methods to check for invariants such as negative time values or even limit the range of positive inputs for our time variables \n",
    "\n",
    "- We can create a function to check this condition, then we use:\n",
    "    - `if not`\n",
    "    - or `assert` to make changes "
   ]
  },
  {
   "cell_type": "markdown",
   "id": "5d8cbb0b",
   "metadata": {},
   "source": [
    "## Exercise: "
   ]
  },
  {
   "cell_type": "markdown",
   "id": "20d09c9e",
   "metadata": {},
   "source": [
    "Exercise 16-1.\n",
    "\n",
    "- Write a function called mul_time that takes a Time object and a number \n",
    "\n",
    "- and returns a new Time object that contains the product of the original Time and the number.\n",
    "\n",
    "- Then use mul_time to write a function that takes a Time object that represents the finishing time in a race, \n",
    "\n",
    "- and a number that represents the distance, and returns a Time object that represents the average pace (time per mile)."
   ]
  },
  {
   "cell_type": "code",
   "execution_count": null,
   "id": "321414eb",
   "metadata": {},
   "outputs": [],
   "source": [
    "def mul"
   ]
  }
 ],
 "metadata": {
  "kernelspec": {
   "display_name": ".venv",
   "language": "python",
   "name": "python3"
  },
  "language_info": {
   "codemirror_mode": {
    "name": "ipython",
    "version": 3
   },
   "file_extension": ".py",
   "mimetype": "text/x-python",
   "name": "python",
   "nbconvert_exporter": "python",
   "pygments_lexer": "ipython3",
   "version": "3.12.5"
  }
 },
 "nbformat": 4,
 "nbformat_minor": 5
}
