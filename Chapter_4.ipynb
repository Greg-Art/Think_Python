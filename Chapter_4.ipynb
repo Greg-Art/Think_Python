{
 "cells": [
  {
   "cell_type": "markdown",
   "id": "d7d0ff6a",
   "metadata": {},
   "source": [
    "# Case Study: Interface Design\n",
    "\n",
    "- The main aim of this section is to design functions that work together "
   ]
  },
  {
   "cell_type": "code",
   "execution_count": 2,
   "id": "fe3086de",
   "metadata": {},
   "outputs": [],
   "source": [
    "import turtle \n",
    "bob=turtle.Turtle()"
   ]
  },
  {
   "cell_type": "code",
   "execution_count": 2,
   "id": "958b5ebf",
   "metadata": {},
   "outputs": [],
   "source": [
    "bob.fd(100)"
   ]
  },
  {
   "cell_type": "code",
   "execution_count": 3,
   "id": "7f550047",
   "metadata": {},
   "outputs": [],
   "source": [
    "bob.lt(90)\n",
    "bob.fd(100)"
   ]
  },
  {
   "cell_type": "code",
   "execution_count": null,
   "id": "cd1009e2",
   "metadata": {},
   "outputs": [
    {
     "ename": "",
     "evalue": "",
     "output_type": "error",
     "traceback": [
      "\u001b[1;31mThe Kernel crashed while executing code in the current cell or a previous cell. \n",
      "\u001b[1;31mPlease review the code in the cell(s) to identify a possible cause of the failure. \n",
      "\u001b[1;31mClick <a href='https://aka.ms/vscodeJupyterKernelCrash'>here</a> for more info. \n",
      "\u001b[1;31mView Jupyter <a href='command:jupyter.viewOutput'>log</a> for further details."
     ]
    }
   ],
   "source": [
    "bob.lt(180)"
   ]
  },
  {
   "cell_type": "code",
   "execution_count": 10,
   "id": "3d817b10",
   "metadata": {},
   "outputs": [],
   "source": [
    "bob.fd(100)"
   ]
  },
  {
   "cell_type": "code",
   "execution_count": 6,
   "id": "3fb79989",
   "metadata": {},
   "outputs": [],
   "source": [
    "bob.lt(90)\n",
    "bob.fd(100)"
   ]
  },
  {
   "cell_type": "code",
   "execution_count": 7,
   "id": "59932974",
   "metadata": {},
   "outputs": [],
   "source": [
    "for i in range(4):\n",
    "    bob.fd(100)\n",
    "    bob.lt(90)"
   ]
  },
  {
   "cell_type": "code",
   "execution_count": 3,
   "id": "e43ce391",
   "metadata": {},
   "outputs": [],
   "source": [
    "\n",
    "import turtle\n",
    "t=turtle.Turtle()"
   ]
  },
  {
   "cell_type": "markdown",
   "id": "c307af69",
   "metadata": {},
   "source": [
    "- Write a function called square that takes a parameter named t, which is a turtle.\n",
    "It should use the turtle to draw a square.\n",
    "Write a function call that passes bob as an argument to square, and then run the\n",
    "program again.\n",
    "\n",
    "- Add another parameter, named length, to square. Modify the body so length of\n",
    "the sides is length, and then modify the function call to provide a second argu‐\n",
    "ment. Run the program again. Test your program with a range of values for\n",
    "length."
   ]
  },
  {
   "cell_type": "code",
   "execution_count": null,
   "id": "92e69dce",
   "metadata": {},
   "outputs": [],
   "source": [
    "def square(t, length):\n",
    "    for i in range(4):\n",
    "        t.fd(length)\n",
    "        t.lt(90) "
   ]
  },
  {
   "cell_type": "code",
   "execution_count": 12,
   "id": "a0c124da",
   "metadata": {},
   "outputs": [],
   "source": [
    "square(bob, 200)"
   ]
  },
  {
   "cell_type": "markdown",
   "id": "dba316d1",
   "metadata": {},
   "source": [
    "3. Make a copy of square and change the name to polygon. Add another parameter\n",
    "named n and modify the body so it draws an n-sided regular polygon.\n",
    "Hint: The exterior angles of an n-sided regular polygon are 360/n degrees."
   ]
  },
  {
   "cell_type": "code",
   "execution_count": 3,
   "id": "69caf029",
   "metadata": {},
   "outputs": [],
   "source": [
    "def polygon(t, length, n):\n",
    "    angle= 360/n\n",
    "    for i in range(n):\n",
    "        t.fd(length)\n",
    "        t.lt(angle) "
   ]
  },
  {
   "cell_type": "code",
   "execution_count": 6,
   "id": "f4e75881",
   "metadata": {},
   "outputs": [],
   "source": [
    "polygon(bob, 70,8)"
   ]
  },
  {
   "cell_type": "markdown",
   "id": "b2476318",
   "metadata": {},
   "source": [
    "4. Write a function called circle that takes a turtle, t, and radius, r, as parameters\n",
    "and that draws an approximate circle by calling polygon with an appropriate\n",
    "length and number of sides. Test your function with a range of values of r.\n",
    "Hint: figure out the circumference of the circle and make sure that length * n =\n",
    "circumference."
   ]
  },
  {
   "cell_type": "code",
   "execution_count": 7,
   "id": "bbcd5e47",
   "metadata": {},
   "outputs": [],
   "source": [
    "import math"
   ]
  },
  {
   "cell_type": "code",
   "execution_count": null,
   "id": "84b45078",
   "metadata": {},
   "outputs": [],
   "source": [
    "def circle (t, r, \n",
    "            6d):\n",
    "    circumference= 2 * 3.145 * r\n",
    "    length= circumference/n\n",
    "    polygon(t, length, n)\n",
    "\n",
    "\n",
    "\n"
   ]
  },
  {
   "cell_type": "code",
   "execution_count": 18,
   "id": "43332950",
   "metadata": {},
   "outputs": [],
   "source": [
    "circle(bob, 45.0, 50)"
   ]
  },
  {
   "cell_type": "code",
   "execution_count": null,
   "id": "a0114fed",
   "metadata": {},
   "outputs": [],
   "source": []
  }
 ],
 "metadata": {
  "kernelspec": {
   "display_name": ".venv",
   "language": "python",
   "name": "python3"
  },
  "language_info": {
   "codemirror_mode": {
    "name": "ipython",
    "version": 3
   },
   "file_extension": ".py",
   "mimetype": "text/x-python",
   "name": "python",
   "nbconvert_exporter": "python",
   "pygments_lexer": "ipython3",
   "version": "3.12.5"
  }
 },
 "nbformat": 4,
 "nbformat_minor": 5
}
