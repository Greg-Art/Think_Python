{
 "cells": [
  {
   "cell_type": "markdown",
   "id": "d7d0ff6a",
   "metadata": {},
   "source": [
    "# Case Study: Interface Design\n",
    "\n",
    "- The main aim of this section is to design functions that work together "
   ]
  },
  {
   "cell_type": "code",
   "execution_count": 1,
   "id": "fe3086de",
   "metadata": {},
   "outputs": [],
   "source": [
    "import turtle \n",
    "bob=turtle.Turtle()"
   ]
  },
  {
   "cell_type": "code",
   "execution_count": 2,
   "id": "958b5ebf",
   "metadata": {},
   "outputs": [],
   "source": [
    "bob.fd(100)"
   ]
  },
  {
   "cell_type": "code",
   "execution_count": null,
   "id": "7f550047",
   "metadata": {},
   "outputs": [],
   "source": [
    "bob.lt(90)\n",
    "bob.fd(100)"
   ]
  },
  {
   "cell_type": "code",
   "execution_count": 4,
   "id": "cd1009e2",
   "metadata": {},
   "outputs": [],
   "source": [
    "bob.lt(90)"
   ]
  },
  {
   "cell_type": "code",
   "execution_count": 5,
   "id": "3d817b10",
   "metadata": {},
   "outputs": [],
   "source": [
    "bob.fd(100)"
   ]
  },
  {
   "cell_type": "code",
   "execution_count": 6,
   "id": "3fb79989",
   "metadata": {},
   "outputs": [],
   "source": [
    "bob.lt(90)\n",
    "bob.fd(100)"
   ]
  },
  {
   "cell_type": "code",
   "execution_count": null,
   "id": "59932974",
   "metadata": {},
   "outputs": [
    {
     "ename": "",
     "evalue": "",
     "output_type": "error",
     "traceback": [
      "\u001b[1;31mThe Kernel crashed while executing code in the current cell or a previous cell. \n",
      "\u001b[1;31mPlease review the code in the cell(s) to identify a possible cause of the failure. \n",
      "\u001b[1;31mClick <a href='https://aka.ms/vscodeJupyterKernelCrash'>here</a> for more info. \n",
      "\u001b[1;31mView Jupyter <a href='command:jupyter.viewOutput'>log</a> for further details."
     ]
    }
   ],
   "source": [
    "for i in range(4):\n",
    "    bob.fd(100)\n",
    "    bob.lt(90)"
   ]
  },
  {
   "cell_type": "code",
   "execution_count": 3,
   "id": "e43ce391",
   "metadata": {},
   "outputs": [],
   "source": [
    "\n",
    "import turtle\n",
    "t=turtle.Turtle()"
   ]
  },
  {
   "cell_type": "code",
   "execution_count": 8,
   "id": "92e69dce",
   "metadata": {},
   "outputs": [],
   "source": [
    "def square(t, length):\n",
    "    for i in range(4):\n",
    "        t.fd(length)\n",
    "        t.lt(length) "
   ]
  },
  {
   "cell_type": "code",
   "execution_count": 10,
   "id": "a0c124da",
   "metadata": {},
   "outputs": [],
   "source": [
    "square(t, 200)"
   ]
  },
  {
   "cell_type": "code",
   "execution_count": null,
   "id": "69caf029",
   "metadata": {},
   "outputs": [],
   "source": []
  }
 ],
 "metadata": {
  "kernelspec": {
   "display_name": ".venv",
   "language": "python",
   "name": "python3"
  },
  "language_info": {
   "codemirror_mode": {
    "name": "ipython",
    "version": 3
   },
   "file_extension": ".py",
   "mimetype": "text/x-python",
   "name": "python",
   "nbconvert_exporter": "python",
   "pygments_lexer": "ipython3",
   "version": "3.12.5"
  }
 },
 "nbformat": 4,
 "nbformat_minor": 5
}
