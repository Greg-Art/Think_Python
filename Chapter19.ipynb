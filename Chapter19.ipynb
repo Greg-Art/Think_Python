{
 "cells": [
  {
   "cell_type": "markdown",
   "id": "94319742",
   "metadata": {},
   "source": [
    "# The Goodies "
   ]
  },
  {
   "cell_type": "markdown",
   "id": "aa5bceab",
   "metadata": {},
   "source": [
    "## Conditional Expressions "
   ]
  },
  {
   "cell_type": "code",
   "execution_count": 2,
   "id": "deb8d672",
   "metadata": {},
   "outputs": [],
   "source": [
    "import math \n",
    "\n",
    "x= 20\n",
    "\n",
    "if x > 0:\n",
    "    y= math.log(x)\n",
    "else:\n",
    "    y= float('nan')"
   ]
  },
  {
   "cell_type": "code",
   "execution_count": 3,
   "id": "76d4eb5a",
   "metadata": {},
   "outputs": [
    {
     "name": "stdout",
     "output_type": "stream",
     "text": [
      "2.995732273553991\n"
     ]
    }
   ],
   "source": [
    "print(y)"
   ]
  },
  {
   "cell_type": "markdown",
   "id": "277807ed",
   "metadata": {},
   "source": [
    "- In the above code, we learn how to use the if statement; however, the difference is that with this, we are having it return a NaN (not a number) instead of raising an error"
   ]
  },
  {
   "cell_type": "code",
   "execution_count": null,
   "id": "0454afba",
   "metadata": {},
   "outputs": [],
   "source": [
    "## a concise way of writing the above program \n",
    "\n",
    "y= math.log(x) if x>0 else float('nan')\n",
    "\n",
    "##this reads as perform log x if x is positive else return NaN"
   ]
  },
  {
   "cell_type": "code",
   "execution_count": null,
   "id": "1c6430e4",
   "metadata": {},
   "outputs": [],
   "source": [
    "## for recursive functions, we can rewrite them as \n",
    "\n",
    "def factorial(n):\n",
    "    if n <0:\n",
    "        return \n",
    "    elif n==0:\n",
    "        return 1\n",
    "    return n * factorial(n-1)"
   ]
  },
  {
   "cell_type": "code",
   "execution_count": 9,
   "id": "a1af5c06",
   "metadata": {},
   "outputs": [],
   "source": [
    "def factorial(n):\n",
    "    return None if n <0 else 1 if n==0 else n * factorial(n-1)"
   ]
  },
  {
   "cell_type": "markdown",
   "id": "400d3f63",
   "metadata": {},
   "source": [
    "## List Comprehension"
   ]
  },
  {
   "cell_type": "code",
   "execution_count": 10,
   "id": "9a693985",
   "metadata": {},
   "outputs": [],
   "source": [
    "j= [x for x in range(20)]"
   ]
  },
  {
   "cell_type": "code",
   "execution_count": null,
   "id": "eb26c736",
   "metadata": {},
   "outputs": [
    {
     "data": {
      "text/plain": [
       "[0, 1, 2, 3, 4, 5, 6, 7, 8, 9, 10, 11, 12, 13, 14, 15, 16, 17, 18, 19]"
      ]
     },
     "execution_count": 11,
     "metadata": {},
     "output_type": "execute_result"
    }
   ],
   "source": []
  },
  {
   "cell_type": "markdown",
   "id": "ce2d6f39",
   "metadata": {},
   "source": [
    "We can also use list comprehensions in:\n",
    "\n",
    "- Mapping\n",
    "\n",
    "- Reducing \n",
    "\n",
    "- Filtering "
   ]
  },
  {
   "cell_type": "code",
   "execution_count": 12,
   "id": "8cd7cec7",
   "metadata": {},
   "outputs": [],
   "source": [
    "def captalize_all(t):\n",
    "    res= []\n",
    "    for s in t:\n",
    "        res.append(s.capitalize())\n",
    "    return res \n",
    "    \n"
   ]
  },
  {
   "cell_type": "code",
   "execution_count": 17,
   "id": "7ede538d",
   "metadata": {},
   "outputs": [],
   "source": [
    "def capitalize_all(t):\n",
    "    return [s.capitalize() for s in t]"
   ]
  },
  {
   "cell_type": "code",
   "execution_count": 18,
   "id": "8e43856f",
   "metadata": {},
   "outputs": [
    {
     "data": {
      "text/plain": [
       "['Kwaku', 'Yaw', 'Peter']"
      ]
     },
     "execution_count": 18,
     "metadata": {},
     "output_type": "execute_result"
    }
   ],
   "source": [
    "capitalize_all([\"kwaku\", \"yaw\", \"peter\"])"
   ]
  },
  {
   "cell_type": "code",
   "execution_count": 19,
   "id": "92043970",
   "metadata": {},
   "outputs": [],
   "source": [
    "def only_upper(t):\n",
    "    res = []\n",
    "    for s in t:\n",
    "        if s.isupper():\n",
    "            res.append(s)\n",
    "    return res"
   ]
  },
  {
   "cell_type": "code",
   "execution_count": 22,
   "id": "3bcf2021",
   "metadata": {},
   "outputs": [],
   "source": [
    "def only_upper(t):\n",
    "    [res.append(s) for s in t if s.isupper()]"
   ]
  },
  {
   "cell_type": "markdown",
   "id": "165f4772",
   "metadata": {},
   "source": [
    "If you notice the general format is: output--> loop condition --> conditional expression "
   ]
  },
  {
   "cell_type": "markdown",
   "id": "554ccd11",
   "metadata": {},
   "source": [
    "## Generator Expressions\n",
    "\n",
    "- These are similar to list expressions but with parenthesis \n",
    "\n",
    "- The difference is that it generates an object and it waits for it to be called manually before it performs an action"
   ]
  },
  {
   "cell_type": "code",
   "execution_count": 23,
   "id": "91c6ffa6",
   "metadata": {},
   "outputs": [],
   "source": [
    "g= (x**2 for x in range (5))"
   ]
  },
  {
   "cell_type": "code",
   "execution_count": 24,
   "id": "c3c3a710",
   "metadata": {},
   "outputs": [
    {
     "data": {
      "text/plain": [
       "<generator object <genexpr> at 0x1083f41e0>"
      ]
     },
     "execution_count": 24,
     "metadata": {},
     "output_type": "execute_result"
    }
   ],
   "source": [
    "g"
   ]
  },
  {
   "cell_type": "code",
   "execution_count": 25,
   "id": "c1800faa",
   "metadata": {},
   "outputs": [
    {
     "data": {
      "text/plain": [
       "0"
      ]
     },
     "execution_count": 25,
     "metadata": {},
     "output_type": "execute_result"
    }
   ],
   "source": [
    "next(g)"
   ]
  },
  {
   "cell_type": "code",
   "execution_count": 26,
   "id": "75777258",
   "metadata": {},
   "outputs": [
    {
     "data": {
      "text/plain": [
       "1"
      ]
     },
     "execution_count": 26,
     "metadata": {},
     "output_type": "execute_result"
    }
   ],
   "source": [
    "next(g)"
   ]
  },
  {
   "cell_type": "code",
   "execution_count": 27,
   "id": "11418547",
   "metadata": {},
   "outputs": [
    {
     "name": "stdout",
     "output_type": "stream",
     "text": [
      "4\n",
      "9\n",
      "16\n"
     ]
    }
   ],
   "source": [
    "for val in g:\n",
    "    print(val)"
   ]
  },
  {
   "cell_type": "markdown",
   "id": "aa5f062c",
   "metadata": {},
   "source": [
    "## Any and All\n",
    "\n",
    "- Any returns true if any of the value is true "
   ]
  },
  {
   "cell_type": "code",
   "execution_count": null,
   "id": "1b516f27",
   "metadata": {},
   "outputs": [
    {
     "data": {
      "text/plain": [
       "False"
      ]
     },
     "execution_count": 28,
     "metadata": {},
     "output_type": "execute_result"
    }
   ],
   "source": [
    "\n",
    "any(letter == \"t\" for letter in \"chase\")"
   ]
  },
  {
   "cell_type": "code",
   "execution_count": 29,
   "id": "b88b05b6",
   "metadata": {},
   "outputs": [
    {
     "data": {
      "text/plain": [
       "True"
      ]
     },
     "execution_count": 29,
     "metadata": {},
     "output_type": "execute_result"
    }
   ],
   "source": [
    "any(letter == \"t\" for letter in \"chaste\")"
   ]
  },
  {
   "cell_type": "markdown",
   "id": "94cd284d",
   "metadata": {},
   "source": [
    "## Gathering Keywords Args"
   ]
  },
  {
   "cell_type": "markdown",
   "id": "2da97ebf",
   "metadata": {},
   "source": [
    "- We use args for to take in a variable number of positional arguments: arguments that are inputted in a speicif order.This returns a tuple\n",
    "- We use kwargs for keyword arguments: A case where we set an argument to a specific value. This returns a dictionary."
   ]
  },
  {
   "cell_type": "code",
   "execution_count": 30,
   "id": "08f641d7",
   "metadata": {},
   "outputs": [],
   "source": [
    "def printall(*args):\n",
    "    print(args)"
   ]
  },
  {
   "cell_type": "code",
   "execution_count": 31,
   "id": "e48075ca",
   "metadata": {},
   "outputs": [
    {
     "name": "stdout",
     "output_type": "stream",
     "text": [
      "(1, 2, 3, 5)\n"
     ]
    }
   ],
   "source": [
    "printall(1,2,3,5)"
   ]
  },
  {
   "cell_type": "code",
   "execution_count": 33,
   "id": "c7bd93b8",
   "metadata": {},
   "outputs": [],
   "source": [
    "def printall(**kwargs):\n",
    "    print(kwargs)"
   ]
  },
  {
   "cell_type": "code",
   "execution_count": 35,
   "id": "a6310e8e",
   "metadata": {},
   "outputs": [
    {
     "name": "stdout",
     "output_type": "stream",
     "text": [
      "{'name': 'Gregory', 'date': 2024}\n"
     ]
    }
   ],
   "source": [
    "printall(name= \"Gregory\", date= 2024)"
   ]
  },
  {
   "cell_type": "code",
   "execution_count": null,
   "id": "bda944f5",
   "metadata": {},
   "outputs": [],
   "source": []
  }
 ],
 "metadata": {
  "kernelspec": {
   "display_name": ".venv",
   "language": "python",
   "name": "python3"
  },
  "language_info": {
   "codemirror_mode": {
    "name": "ipython",
    "version": 3
   },
   "file_extension": ".py",
   "mimetype": "text/x-python",
   "name": "python",
   "nbconvert_exporter": "python",
   "pygments_lexer": "ipython3",
   "version": "3.12.5"
  }
 },
 "nbformat": 4,
 "nbformat_minor": 5
}
