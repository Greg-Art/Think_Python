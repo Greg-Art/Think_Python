{
 "cells": [
  {
   "cell_type": "markdown",
   "id": "fe4cee8e",
   "metadata": {},
   "source": [
    "# Inheritance \n",
    "\n",
    "- This is the ability to define a new class that is a modified version of another class "
   ]
  },
  {
   "cell_type": "markdown",
   "id": "53d687bb",
   "metadata": {
    "vscode": {
     "languageId": "plaintext"
    }
   },
   "source": [
    "## Playing Cards \n",
    "\n",
    "- The ideology behind this chapter is to use cards.\n",
    "\n",
    "- In cards, we have 13 ranks and 4 suits. These include:\n",
    "\n",
    "    - Suits: Diamond, Spade, Club, Hearts\n",
    "\n",
    "    - Ranks: Ace, 2,3,4,5,6,7,8,9,10, Jack, Queen and King\n",
    "\n",
    "- We will be encoding them to enable us compare them\n",
    "\n",
    "- Spades↦ 3\n",
    "- Hearts ↦ 2\n",
    "- Diamonds ↦ 1\n",
    "- Clubs ↦ 0\n",
    "\n",
    "For the ranks, they should be the same, the only thing is that, we might need to assign the Jack, Queen and King their values:\n",
    "\n",
    "- Jack ↦ 11\n",
    "- Queen ↦ 12\n",
    "- King↦ 13\n",
    "\n"
   ]
  },
  {
   "cell_type": "code",
   "execution_count": null,
   "id": "b43b9353",
   "metadata": {},
   "outputs": [],
   "source": [
    "class Card:\n",
    "    \"\"\"Represents a standard playing card.\"\"\"\n",
    "\n",
    "    def __init__(self, suit=0, rank= 2):\n",
    "        self.suit= suit\n",
    "        self.rank= rank \n"
   ]
  },
  {
   "cell_type": "code",
   "execution_count": 3,
   "id": "24fe4225",
   "metadata": {},
   "outputs": [],
   "source": [
    "queen_of_diamonds= Card(1,12)"
   ]
  },
  {
   "cell_type": "code",
   "execution_count": 4,
   "id": "70c51b18",
   "metadata": {},
   "outputs": [
    {
     "name": "stdout",
     "output_type": "stream",
     "text": [
      "<__main__.Card object at 0x1045c53d0>\n"
     ]
    }
   ],
   "source": [
    "print(queen_of_diamonds)"
   ]
  },
  {
   "cell_type": "markdown",
   "id": "5d3963e0",
   "metadata": {},
   "source": [
    "## Class Attributes \n",
    "\n",
    "- Now we have the encoded version of our cards. However, we need to ensure that people know which number represents what card, to  do this, we will create a mapping between each cards name, and each encoded value. \n",
    "\n"
   ]
  },
  {
   "cell_type": "code",
   "execution_count": 25,
   "id": "57114f2f",
   "metadata": {},
   "outputs": [],
   "source": [
    "class Card:\n",
    "    \"\"\"Represents a standard playing card.\"\"\"\n",
    "\n",
    "    def __init__(self, rank= 2, suit=0):\n",
    "        self.suit= suit ##creating instance attributes \n",
    "        self.rank= rank ##creating instance attributes \n",
    "\n",
    "        ##class attributes \n",
    "\n",
    "    suit_names= [\"Club\", \"Diamonds\", \"Hearts\", \"Spades\"]\n",
    "\n",
    "    rank_names= [\"None\", \"Ace\", \"2\", \"3\", \"4\", \"5\", \"6\", \"7\", \"8\", \"9\", \"10\", \"Jack\", \"Queen\", \"King\"]\n",
    "\n",
    "    def __str__(self):\n",
    "        return \"%s of %s\" % ( Card.rank_names[self.rank], \n",
    "                        Card.suit_names[self.suit])"
   ]
  },
  {
   "cell_type": "markdown",
   "id": "bc812c0b",
   "metadata": {},
   "source": [
    "- Variable like suit and rank are `instance attributes`\n",
    "\n",
    "- Variables like suit_names and rank_names are `class attributes`\n",
    "\n",
    "- We can access both using the dot notation:\n",
    "\n",
    "    - Instance attibutes can only be accessed after an instace has been created\n",
    "\n",
    "    - Class attributes can only be accessed"
   ]
  },
  {
   "cell_type": "code",
   "execution_count": 32,
   "id": "790b4a16",
   "metadata": {},
   "outputs": [],
   "source": [
    "##trying it out \n",
    "\n",
    "card1= Card(11,2)"
   ]
  },
  {
   "cell_type": "code",
   "execution_count": null,
   "id": "7f4aa32b",
   "metadata": {},
   "outputs": [
    {
     "name": "stdout",
     "output_type": "stream",
     "text": [
      "['Club', 'Diamonds', 'Hearts', 'Spades']\n",
      "['None', 'Ace', '2', '3', '4', '5', '6', '7', '8', '9', '10', 'Jack', 'Queen', 'King']\n"
     ]
    }
   ],
   "source": [
    "## accessing class attributes\n",
    "print(Card.suit_names)\n",
    "print(Card.rank_names)\n",
    "\n"
   ]
  },
  {
   "cell_type": "code",
   "execution_count": 40,
   "id": "4e5abe53",
   "metadata": {},
   "outputs": [
    {
     "name": "stdout",
     "output_type": "stream",
     "text": [
      "11\n",
      "2\n"
     ]
    }
   ],
   "source": [
    "##accessing instance attributes \n",
    "print(card1.rank)\n",
    "print(card1.suit)"
   ]
  },
  {
   "cell_type": "code",
   "execution_count": 42,
   "id": "9c072a2f",
   "metadata": {},
   "outputs": [
    {
     "name": "stdout",
     "output_type": "stream",
     "text": [
      "Jack of Hearts\n"
     ]
    }
   ],
   "source": [
    "##accessing the names of the card instance \n",
    "\n",
    "print(card1)"
   ]
  },
  {
   "cell_type": "markdown",
   "id": "02f7049b",
   "metadata": {},
   "source": [
    "## Comparing Cards\n",
    "\n",
    "- In the card game, we need to be able to compare our cards. Assuming two users pull out an ace of spade and another pulls out a Jack of Club\n",
    "\n",
    "- With card 1 Space is higher than Club, and with card 2, Jack is higher than Ace: Both depends on the game you are playing \n",
    "\n",
    "- So we mighty have to define which is important, whether the rank or the suit "
   ]
  },
  {
   "cell_type": "code",
   "execution_count": 242,
   "id": "8a7dde60",
   "metadata": {},
   "outputs": [],
   "source": [
    "class Card:\n",
    "    \"\"\"Represents a standard playing card.\"\"\"\n",
    "\n",
    "    def __init__(self, suit= 0, rank= 2):\n",
    "        self.suit= suit ##creating instance attributes \n",
    "        self.rank= rank ##creating instance attributes \n",
    "\n",
    "        ##class attributes \n",
    "\n",
    "    suit_names= [\"Club\", \"Diamonds\", \"Hearts\", \"Spades\"]\n",
    "\n",
    "    rank_names= [\"None\", \"Ace\", \"2\", \"3\", \"4\", \"5\", \"6\", \"7\", \"8\", \"9\", \"10\", \"Jack\", \"Queen\", \"King\"]\n",
    "\n",
    "    def __str__(self):\n",
    "        return \"%s of %s\" % ( Card.rank_names[self.rank], \n",
    "                        Card.suit_names[self.suit])\n",
    "\n",
    "##comparing the rank and suits \n",
    "    def __lt__(self,other):\n",
    "        t1 = self.suit, self.rank\n",
    "        t2 = other.suit, other.rank\n",
    "        return t1 < t2\n"
   ]
  },
  {
   "cell_type": "markdown",
   "id": "83fc840c",
   "metadata": {},
   "source": [
    "As an exercise, write an __lt__ method for Time objects. You can use tuple compari‐\n",
    "son, but you also might consider comparing integers."
   ]
  },
  {
   "cell_type": "code",
   "execution_count": 213,
   "id": "a1098fb6",
   "metadata": {},
   "outputs": [],
   "source": [
    "##\n",
    "def int_to_time(seconds):\n",
    "    time= Time()\n",
    "    minute, time.second= divmod(seconds, 60)\n",
    "    time.hour, time.minute= divmod(minute, 60)\n",
    "    return time\n"
   ]
  },
  {
   "cell_type": "code",
   "execution_count": 214,
   "id": "dfed536a",
   "metadata": {},
   "outputs": [
    {
     "name": "stdout",
     "output_type": "stream",
     "text": [
      "01:03:20\n"
     ]
    }
   ],
   "source": [
    "print(int_to_time(3800))"
   ]
  },
  {
   "cell_type": "code",
   "execution_count": 215,
   "id": "8b73b20c",
   "metadata": {},
   "outputs": [],
   "source": [
    "def time_to_int(time):\n",
    "    minutes= time.hour * 60 + time.minute \n",
    "    seconds= minutes *60 + time.second \n",
    "    return seconds"
   ]
  },
  {
   "cell_type": "code",
   "execution_count": 216,
   "id": "b02123dd",
   "metadata": {},
   "outputs": [
    {
     "data": {
      "text/plain": [
       "9960"
      ]
     },
     "execution_count": 216,
     "metadata": {},
     "output_type": "execute_result"
    }
   ],
   "source": [
    "time_to_int(time1)"
   ]
  },
  {
   "cell_type": "code",
   "execution_count": 217,
   "id": "e54bf6d0",
   "metadata": {},
   "outputs": [
    {
     "name": "stdout",
     "output_type": "stream",
     "text": [
      "10:12:13\n"
     ]
    }
   ],
   "source": [
    "print(int_to_time(36733))"
   ]
  },
  {
   "cell_type": "code",
   "execution_count": 218,
   "id": "1e3d156a",
   "metadata": {},
   "outputs": [],
   "source": [
    "class Time:\n",
    "    ##initializing my class\n",
    "    def __init__(self,hour= 0, minute= 0, second= 0):\n",
    "        self.hour= hour\n",
    "        self.minute= minute\n",
    "        self.second= second\n",
    "    ##setting the output format \n",
    "    def __str__(self):\n",
    "        return \"%.2d:%.2d:%.2d\" %(self.hour, self.minute, self.second)\n",
    "\n",
    "    ##creating a method for converting time to int\n",
    "\n",
    "    def time_to_int(self):\n",
    "        minutes= self.hour * 60 + self.minute \n",
    "        seconds= minutes *60 + self.second \n",
    "        return seconds\n",
    "##using type dispatch to determine when to go for a specific formula\n",
    "    def __lt__(self, other):\n",
    "        if isinstance(other, Time):\n",
    "            return self.lt_time(other)\n",
    "        elif isinstance(other, int):\n",
    "            return self.lt_int(other)\n",
    "        else:\n",
    "            return NotImplemented\n",
    "\n",
    "\n",
    "    def lt_time(self, other):\n",
    "        return (self.hour, self.minute, self.second) < (other.hour, other.minute, other.second)\n",
    "\n",
    "    def lt_int(self, other):\n",
    "        other_time= int_to_time(other)\n",
    "\n",
    "        return(self.hour, self.minute,self.second) < (other_time.hour, other_time.minute, other_time.second)\n",
    "\n",
    "        \n",
    "\n",
    "\n",
    "\n",
    "    \n"
   ]
  },
  {
   "cell_type": "code",
   "execution_count": 219,
   "id": "2ce92817",
   "metadata": {},
   "outputs": [],
   "source": [
    "time1 = Time(2, 45, 60)\n",
    "time2 = 178992\n"
   ]
  },
  {
   "cell_type": "code",
   "execution_count": 220,
   "id": "08e2ab02",
   "metadata": {},
   "outputs": [
    {
     "name": "stdout",
     "output_type": "stream",
     "text": [
      "True\n"
     ]
    }
   ],
   "source": [
    "print(time1 < time2)"
   ]
  },
  {
   "cell_type": "markdown",
   "id": "a5eeb847",
   "metadata": {},
   "source": [
    "## Decks\n",
    "\n",
    "- We might want to have a unique respresentation of each card\n",
    "\n",
    "- This way when we want to pull out a deck, it becomes easier. "
   ]
  },
  {
   "cell_type": "code",
   "execution_count": 243,
   "id": "ae760e12",
   "metadata": {},
   "outputs": [],
   "source": [
    "class Deck:\n",
    "\n",
    "    def __init__(self):\n",
    "        self.cards= [] ##we are creating an empty list to sore our deck \n",
    "        for suit in range(4): ##looping through the suits\n",
    "            for rank in range (1,14): ##looping through the rank\n",
    "                card= Card(suit, rank) ##we are creating a tuple of each using the card Class\n",
    "                self.cards.append(card) ## we are appending each name \n",
    "    \n",
    "  "
   ]
  },
  {
   "cell_type": "code",
   "execution_count": 244,
   "id": "b9d78d48",
   "metadata": {},
   "outputs": [],
   "source": [
    "deck= Deck()"
   ]
  },
  {
   "cell_type": "markdown",
   "id": "88271090",
   "metadata": {},
   "source": [
    "## Printing the Deck \n",
    "\n",
    "- To help  us print deck, we will use the str method \n"
   ]
  },
  {
   "cell_type": "code",
   "execution_count": 246,
   "id": "4b1ca51d",
   "metadata": {},
   "outputs": [],
   "source": [
    "class Deck:\n",
    "\n",
    "    def __init__(self):\n",
    "        self.cards= [] ##we are creating an empty list to sore our deck \n",
    "        for suit in range(4): ##looping through the suits\n",
    "            for rank in range (1,14): ##looping through the rank\n",
    "                card= Card(suit, rank) ##we are creating a tuple of each using the card Class\n",
    "                self.cards.append(card) ## we are appending each name \n",
    "    \n",
    "    def __str__(self):\n",
    "        res= []\n",
    "        for card in self.cards:\n",
    "          res.append(str(card))\n",
    "        return \"\\n\".join(res)"
   ]
  },
  {
   "cell_type": "code",
   "execution_count": 247,
   "id": "f82610c1",
   "metadata": {},
   "outputs": [],
   "source": [
    "deck= Deck()"
   ]
  },
  {
   "cell_type": "code",
   "execution_count": 227,
   "id": "e61d0f87",
   "metadata": {},
   "outputs": [
    {
     "name": "stdout",
     "output_type": "stream",
     "text": [
      "Ace of Club\n",
      "2 of Club\n",
      "3 of Club\n",
      "4 of Club\n",
      "5 of Club\n",
      "6 of Club\n",
      "7 of Club\n",
      "8 of Club\n",
      "9 of Club\n",
      "10 of Club\n",
      "Jack of Club\n",
      "Queen of Club\n",
      "King of Club\n",
      "Ace of Diamonds\n",
      "2 of Diamonds\n",
      "3 of Diamonds\n",
      "4 of Diamonds\n",
      "5 of Diamonds\n",
      "6 of Diamonds\n",
      "7 of Diamonds\n",
      "8 of Diamonds\n",
      "9 of Diamonds\n",
      "10 of Diamonds\n",
      "Jack of Diamonds\n",
      "Queen of Diamonds\n",
      "King of Diamonds\n",
      "Ace of Hearts\n",
      "2 of Hearts\n",
      "3 of Hearts\n",
      "4 of Hearts\n",
      "5 of Hearts\n",
      "6 of Hearts\n",
      "7 of Hearts\n",
      "8 of Hearts\n",
      "9 of Hearts\n",
      "10 of Hearts\n",
      "Jack of Hearts\n",
      "Queen of Hearts\n",
      "King of Hearts\n",
      "Ace of Spades\n",
      "2 of Spades\n",
      "3 of Spades\n",
      "4 of Spades\n",
      "5 of Spades\n",
      "6 of Spades\n",
      "7 of Spades\n",
      "8 of Spades\n",
      "9 of Spades\n",
      "10 of Spades\n",
      "Jack of Spades\n",
      "Queen of Spades\n",
      "King of Spades\n"
     ]
    }
   ],
   "source": [
    "print(deck)"
   ]
  },
  {
   "cell_type": "markdown",
   "id": "e8486567",
   "metadata": {},
   "source": [
    "## Add, Remove, Shuffle and Sort"
   ]
  },
  {
   "cell_type": "markdown",
   "id": "20249876",
   "metadata": {},
   "source": [
    "#### Dealing a card:\n",
    "\n",
    "- So when playing cards, we need to distrubute them among players. This is called dealing a card \n",
    "\n",
    "- And when we deal a card the card leaves the deck, so we need to get rid of it\n",
    "\n",
    "- To do this, we will use the .pop() metod "
   ]
  },
  {
   "cell_type": "code",
   "execution_count": 249,
   "id": "198c0960",
   "metadata": {},
   "outputs": [],
   "source": [
    "import random"
   ]
  },
  {
   "cell_type": "code",
   "execution_count": null,
   "id": "a8af57fe",
   "metadata": {},
   "outputs": [],
   "source": [
    "class Deck:\n",
    "\n",
    "    def __init__(self):\n",
    "        self.cards= [] ##we are creating an empty list to sore our deck \n",
    "        for suit in range(4): ##looping through the suits\n",
    "            for rank in range (1,14): ##looping through the rank\n",
    "                card= Card(suit, rank) ##we are creating a tuple of each using the card Class\n",
    "                self.cards.append(card) ## we are appending each name \n",
    "    \n",
    "    def __str__(self):\n",
    "        res= []\n",
    "        for card in self.cards:\n",
    "          res.append(str(card))\n",
    "        return \"\\n\".join(res)\n",
    "    \n",
    "    ##this will help us remove a card afterng dealing\n",
    "    def pop_card(self):\n",
    "        return self.cards.pop()\n",
    "    #this helps us add a card\n",
    "    def add_card(self, card):\n",
    "        self.cards.append(card)\n",
    "##this is for shuffling a card \n",
    "    def shuffle(self):\n",
    "        random.shuffle(self.cards)\n",
    "        "
   ]
  },
  {
   "cell_type": "code",
   "execution_count": 272,
   "id": "89e49189",
   "metadata": {},
   "outputs": [
    {
     "name": "stdout",
     "output_type": "stream",
     "text": [
      "Ace of Club\n",
      "2 of Club\n",
      "3 of Club\n",
      "4 of Club\n",
      "5 of Club\n",
      "6 of Club\n",
      "7 of Club\n",
      "8 of Club\n",
      "9 of Club\n",
      "10 of Club\n",
      "Jack of Club\n",
      "Queen of Club\n",
      "King of Club\n",
      "Ace of Diamonds\n",
      "2 of Diamonds\n",
      "3 of Diamonds\n",
      "4 of Diamonds\n",
      "5 of Diamonds\n",
      "6 of Diamonds\n",
      "7 of Diamonds\n",
      "8 of Diamonds\n",
      "9 of Diamonds\n",
      "10 of Diamonds\n",
      "Jack of Diamonds\n",
      "Queen of Diamonds\n",
      "King of Diamonds\n",
      "Ace of Hearts\n",
      "2 of Hearts\n",
      "3 of Hearts\n",
      "4 of Hearts\n",
      "5 of Hearts\n",
      "6 of Hearts\n",
      "7 of Hearts\n",
      "8 of Hearts\n",
      "9 of Hearts\n",
      "10 of Hearts\n",
      "Jack of Hearts\n",
      "Queen of Hearts\n",
      "King of Hearts\n",
      "Ace of Spades\n",
      "2 of Spades\n",
      "3 of Spades\n",
      "4 of Spades\n",
      "5 of Spades\n",
      "6 of Spades\n",
      "7 of Spades\n",
      "8 of Spades\n",
      "9 of Spades\n",
      "10 of Spades\n",
      "Jack of Spades\n",
      "Queen of Spades\n",
      "King of Spades\n"
     ]
    }
   ],
   "source": [
    "deck2= Deck()\n",
    "\n",
    "print(deck2)"
   ]
  },
  {
   "cell_type": "code",
   "execution_count": 273,
   "id": "56e1cacd",
   "metadata": {},
   "outputs": [
    {
     "name": "stdout",
     "output_type": "stream",
     "text": [
      "King of Spades\n"
     ]
    }
   ],
   "source": [
    "print(deck2.pop_card())"
   ]
  },
  {
   "cell_type": "code",
   "execution_count": 275,
   "id": "bbb7528c",
   "metadata": {},
   "outputs": [
    {
     "name": "stdout",
     "output_type": "stream",
     "text": [
      "2 of Hearts\n",
      "3 of Spades\n",
      "Jack of Club\n",
      "5 of Hearts\n",
      "4 of Hearts\n",
      "2 of Diamonds\n",
      "Jack of Diamonds\n",
      "3 of Club\n",
      "8 of Spades\n",
      "Ace of Club\n",
      "8 of Club\n",
      "6 of Club\n",
      "4 of Diamonds\n",
      "Queen of Hearts\n",
      "Queen of Club\n",
      "5 of Spades\n",
      "10 of Diamonds\n",
      "Jack of Hearts\n",
      "6 of Hearts\n",
      "Ace of Spades\n",
      "Queen of Diamonds\n",
      "Ace of Diamonds\n",
      "4 of Spades\n",
      "3 of Diamonds\n",
      "King of Club\n",
      "7 of Spades\n",
      "10 of Club\n",
      "Jack of Spades\n",
      "8 of Hearts\n",
      "9 of Spades\n",
      "Ace of Hearts\n",
      "King of Diamonds\n",
      "5 of Diamonds\n",
      "7 of Diamonds\n",
      "9 of Diamonds\n",
      "10 of Spades\n",
      "2 of Spades\n",
      "10 of Hearts\n",
      "Queen of Spades\n",
      "7 of Hearts\n",
      "3 of Hearts\n",
      "King of Hearts\n",
      "5 of Club\n",
      "9 of Hearts\n",
      "6 of Diamonds\n",
      "6 of Spades\n",
      "8 of Diamonds\n",
      "4 of Club\n",
      "2 of Club\n",
      "7 of Club\n",
      "9 of Club\n"
     ]
    }
   ],
   "source": [
    "deck2.shuffle()\n",
    "\n",
    "print(deck2)"
   ]
  },
  {
   "cell_type": "markdown",
   "id": "ea1050bf",
   "metadata": {},
   "source": [
    "## Inheritance "
   ]
  },
  {
   "cell_type": "code",
   "execution_count": null,
   "id": "8ee79f92",
   "metadata": {},
   "outputs": [],
   "source": [
    "class Hand(Deck):\n",
    "    def __init__(self, label=''):\n",
    "        self.cards = []\n",
    "        self.label = label\n"
   ]
  },
  {
   "cell_type": "code",
   "execution_count": null,
   "id": "98b27bb2",
   "metadata": {},
   "outputs": [],
   "source": []
  },
  {
   "cell_type": "code",
   "execution_count": null,
   "id": "12d5a7ad",
   "metadata": {},
   "outputs": [],
   "source": []
  },
  {
   "cell_type": "code",
   "execution_count": null,
   "id": "cdb4a61c",
   "metadata": {},
   "outputs": [],
   "source": []
  }
 ],
 "metadata": {
  "kernelspec": {
   "display_name": ".venv",
   "language": "python",
   "name": "python3"
  },
  "language_info": {
   "codemirror_mode": {
    "name": "ipython",
    "version": 3
   },
   "file_extension": ".py",
   "mimetype": "text/x-python",
   "name": "python",
   "nbconvert_exporter": "python",
   "pygments_lexer": "ipython3",
   "version": "3.12.5"
  }
 },
 "nbformat": 4,
 "nbformat_minor": 5
}
