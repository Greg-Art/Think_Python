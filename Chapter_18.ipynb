{
 "cells": [
  {
   "cell_type": "markdown",
   "id": "fe4cee8e",
   "metadata": {},
   "source": [
    "# Inheritance \n",
    "\n",
    "- This is the ability to define a new class that is a modified version of another class "
   ]
  },
  {
   "cell_type": "markdown",
   "id": "53d687bb",
   "metadata": {
    "vscode": {
     "languageId": "plaintext"
    }
   },
   "source": [
    "## Playing Cards \n",
    "\n",
    "- The ideology behind this chapter is to use cards.\n",
    "\n",
    "- In cards, we have 13 ranks and 4 suits. These include:\n",
    "\n",
    "    - Suits: Diamond, Spade, Club, Hearts\n",
    "\n",
    "    - Ranks: Ace, 2,3,4,5,6,7,8,9,10, Jack, Queen and King\n",
    "\n",
    "- We will be encoding them to enable us compare them\n",
    "\n",
    "- Spades↦ 3\n",
    "- Hearts ↦ 2\n",
    "- Diamonds ↦ 1\n",
    "- Clubs ↦ 0\n",
    "\n",
    "For the ranks, they should be the same, the only thing is that, we might need to assign the Jack, Queen and King their values:\n",
    "\n",
    "- Jack ↦ 11\n",
    "- Queen ↦ 12\n",
    "- King↦ 13\n",
    "\n"
   ]
  },
  {
   "cell_type": "code",
   "execution_count": null,
   "id": "b43b9353",
   "metadata": {},
   "outputs": [],
   "source": [
    "class Card:"
   ]
  },
  {
   "cell_type": "code",
   "execution_count": null,
   "id": "24fe4225",
   "metadata": {},
   "outputs": [],
   "source": []
  }
 ],
 "metadata": {
  "kernelspec": {
   "display_name": ".venv",
   "language": "python",
   "name": "python3"
  },
  "language_info": {
   "name": "python",
   "version": "3.12.5"
  }
 },
 "nbformat": 4,
 "nbformat_minor": 5
}
